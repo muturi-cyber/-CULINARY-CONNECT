{
 "cells": [
  {
   "cell_type": "markdown",
   "metadata": {},
   "source": [
    "# CRISP-DM Framework for Final Project\n",
    "\n",
    "## 1. Business Understanding\n",
    "\n",
    "### Business Objective\n",
    "The primary objective is to build a Recipe Recommendation System, Sentiment Analysis model, and Cultural Cuisine using the provided datasets. The goal is to enhance user experience by offering personalized recipe suggestions and analyzing user feedback to improve content.\n",
    "\n",
    "### Stakeholders\n",
    "- **Platform Users:** Seek personalized and diverse recipe recommendations to explore new dishes and enhance their cooking    skills.\n",
    "- **Developers & Data Science Team:** Responsible for model development, data integration, and ensuring the system operates smoothly.\n",
    "- **Business Analysts:** Utilize insights from user interactions and feedback to identify popular trends, user preferences, and potential areas for growth.\n",
    "\n",
    "### Key Business Questions\n",
    "- What factors influence user preferences for recipes?\n",
    "- Can user sentiments help improve content recommendations?\n",
    "- How can we leverage data to suggest recipes that align with user dietary restrictions or preferences?\n",
    "- What are the key metrics indicating high user engagement?\n",
    "- How can we ensure the recommendation system remains relevant over time?\n",
    "\n",
    "\n",
    "### EDA Integration\n",
    "1. What are the most common ingredients used across all cuisines?\n",
    "2. How does the nutritional content vary across different cuisines?\n",
    "3. What trends can be observed in user interactions over time?\n",
    "4. Are there seasonal patterns in user engagement with recipes?\n",
    "5. Which cuisines receive the most positive/negative feedback?\n",
    "\n",
    "\n",
    "### Hypothesis Testing\n",
    "- **H0:** Higher levels of total fat are associated with increased calorie content and saturated fat in foods.  \n",
    "- **H1:** \"Higher levels of total fat are associated with decreased or no significant change in calorie content and saturated fat in foods.\"User sentiment significantly impacts recipe engagement.\n",
    "\n",
    "### Importance of the Project\n",
    "- This project aims to create an engaging platform that not only provides users with personalized recipes but also fosters a community around cooking.\n",
    "- By analyzing user feedback and preferences, we can continually refine our offerings, ensuring that users find value in the recommendations and the content provided. This will help increase user retention, satisfaction, and overall platform growth."
   ]
  },
  {
   "cell_type": "code",
   "execution_count": 3,
   "metadata": {},
   "outputs": [],
   "source": [
    "# Loading in the libraries neccesary\n",
    "import pandas as pd\n",
    "import matplotlib.pyplot as plt\n",
    "from scipy.stats import ttest_ind"
   ]
  },
  {
   "cell_type": "code",
   "execution_count": 4,
   "metadata": {},
   "outputs": [],
   "source": [
    "#Loading in the data\n",
    "nutrition_data = pd.read_csv(r\"nutritions.csv\") \n",
    "interactions = pd.read_csv(r\"RAW_interactions.csv\")\n",
    "International_recipes = pd.read_csv(r\"RAW_recipes.csv\")\n",
    "African_recipes = pd.read_csv(r\"African_recipes.csv\")"
   ]
  },
  {
   "cell_type": "code",
   "execution_count": 5,
   "metadata": {},
   "outputs": [
    {
     "data": {
      "text/plain": [
       "Index(['name', 'id', 'minutes', 'contributor_id', 'submitted', 'tags',\n",
       "       'nutrition', 'n_steps', 'steps', 'description', 'ingredients',\n",
       "       'n_ingredients'],\n",
       "      dtype='object')"
      ]
     },
     "execution_count": 5,
     "metadata": {},
     "output_type": "execute_result"
    }
   ],
   "source": [
    "# Getting the columns that we have in our International_recipe dataset\n",
    "International_recipes.columns"
   ]
  },
  {
   "cell_type": "code",
   "execution_count": 6,
   "metadata": {},
   "outputs": [
    {
     "data": {
      "text/plain": [
       "Index(['Unnamed: 0', 'name', 'serving_size', 'calories', 'total_fat',\n",
       "       'saturated_fat', 'cholesterol', 'sodium', 'choline', 'folate',\n",
       "       'folic_acid', 'niacin', 'pantothenic_acid', 'riboflavin', 'thiamin',\n",
       "       'vitamin_a', 'vitamin_a_rae', 'carotene_alpha', 'carotene_beta',\n",
       "       'cryptoxanthin_beta', 'lutein_zeaxanthin', 'lucopene', 'vitamin_b12',\n",
       "       'vitamin_b6', 'vitamin_c', 'vitamin_d', 'vitamin_e', 'tocopherol_alpha',\n",
       "       'vitamin_k', 'calcium', 'copper', 'irom', 'magnesium', 'manganese',\n",
       "       'phosphorous', 'potassium', 'selenium', 'zink', 'protein', 'alanine',\n",
       "       'arginine', 'aspartic_acid', 'cystine', 'glutamic_acid', 'glycine',\n",
       "       'histidine', 'hydroxyproline', 'isoleucine', 'leucine', 'lysine',\n",
       "       'methionine', 'phenylalanine', 'proline', 'serine', 'threonine',\n",
       "       'tryptophan', 'tyrosine', 'valine', 'carbohydrate', 'fiber', 'sugars',\n",
       "       'fructose', 'galactose', 'glucose', 'lactose', 'maltose', 'sucrose',\n",
       "       'fat', 'saturated_fatty_acids', 'monounsaturated_fatty_acids',\n",
       "       'polyunsaturated_fatty_acids', 'fatty_acids_total_trans', 'alcohol',\n",
       "       'ash', 'caffeine', 'theobromine', 'water'],\n",
       "      dtype='object')"
      ]
     },
     "execution_count": 6,
     "metadata": {},
     "output_type": "execute_result"
    }
   ],
   "source": [
    "# Getting the columns that we have in our nutrition dataset\n",
    "nutrition_data.columns"
   ]
  },
  {
   "cell_type": "markdown",
   "metadata": {},
   "source": [
    "## Data Preprocessing and cleaning"
   ]
  },
  {
   "cell_type": "markdown",
   "metadata": {},
   "source": [
    "### Column Names:\n",
    "\n",
    "#### International Recipes Data\n",
    "- **name**; Name of the recipe\n",
    "- **id**; Unique identifier for the recipe\n",
    "- **minutes**; Time required to prepare the recipe (in mins)\n",
    "- **tag**; Tags associated with the recipe\n",
    "- **steps**; Step-by-step instructions for preparation\n",
    "- **ingredients**; List of ingredients used\n",
    "- **calories**; Caloric content per serving\n",
    "- **total fat (PDV)**; Total fat content as a percentage of daily value\n",
    "- **sugar (PDV)**; Sugar content as a percentage of daily value\n",
    "- **sodium (PDV)**; Sodium content as a percentage of daily value\n",
    "- **protein (PDV)**; Protein content as a percentage of daily value\n",
    "- **saturated fat (PDV)**; Saturated fat content as a percentage of daily value\n",
    "- **carbohydrates (PDV)**; Carbohydrate content as a percentage of daily value\n",
    "\n",
    "#### Nutrition Data\n",
    "- **name**;\tName of the food item\n",
    "- **serving_size**; Size of the serving (in grams or milliliters)\n",
    "- **calories**;\tCaloric content per serving\n",
    "- **total_fat**;\tTotal fat content (in grams)\n",
    "- **saturated_fat**;\tSaturated fat content (in grams)\n",
    "- **cholesterol**; Cholesterol content (in mg)\n",
    "- **sodium**;\tSodium content (in mg)\n",
    "- **potassium**;\tPotassium content (in mg)\n",
    "- **saturated_fatty_acids**;\tTotal saturated fatty acids (in grams)\n",
    "\n",
    "#### Interactions Data\n",
    "- **user_id**;\tUnique identifier for the user\n",
    "- **recipe_id**;\tUnique identifier for the recipe\n",
    "- **date**;\tDate of interaction\n",
    "- **rating**;\tUser's rating for the recipe\n",
    "- **review**;\tUser's review or feedback\n"
   ]
  },
  {
   "cell_type": "markdown",
   "metadata": {},
   "source": [
    "### Nutrition data"
   ]
  },
  {
   "cell_type": "code",
   "execution_count": 7,
   "metadata": {},
   "outputs": [],
   "source": [
    "# Dropping all the irrelevant columns\n",
    "columns_to_drop = [\n",
    "    'choline', 'folate', 'folic_acid', 'niacin', 'pantothenic_acid', 'riboflavin', 'thiamin',\n",
    "    'vitamin_a', 'vitamin_a_rae', 'carotene_alpha', 'carotene_beta', 'cryptoxanthin_beta',\n",
    "    'lutein_zeaxanthin', 'lucopene', 'vitamin_b12', 'vitamin_b6', 'vitamin_c', 'vitamin_d',\n",
    "    'vitamin_e', 'tocopherol_alpha', 'vitamin_k', 'calcium', 'copper', 'irom', 'magnesium',\n",
    "    'manganese', 'phosphorous', 'selenium', 'zink', 'sugars', 'protein', 'alanine', 'arginine',\n",
    "    'aspartic_acid', 'cystine', 'glutamic_acid', 'glycine', 'histidine', 'hydroxyproline',\n",
    "    'isoleucine', 'leucine', 'lysine', 'methionine', 'phenylalanine', 'proline', 'serine',\n",
    "    'threonine', 'tryptophan', 'tyrosine', 'valine', 'carbohydrate', 'fiber', 'fructose',\n",
    "    'galactose', 'glucose', 'lactose', 'maltose', 'sucrose', 'fat', 'monounsaturated_fatty_acids',\n",
    "    'polyunsaturated_fatty_acids', 'fatty_acids_total_trans', 'alcohol', 'ash', 'caffeine',\n",
    "    'theobromine', 'water'\n",
    "]\n",
    "\n",
    "nutrition_data.drop(columns=columns_to_drop, inplace=True)"
   ]
  },
  {
   "cell_type": "code",
   "execution_count": 8,
   "metadata": {},
   "outputs": [
    {
     "name": "stdout",
     "output_type": "stream",
     "text": [
      "<class 'pandas.core.frame.DataFrame'>\n",
      "RangeIndex: 8789 entries, 0 to 8788\n",
      "Data columns (total 10 columns):\n",
      " #   Column                 Non-Null Count  Dtype \n",
      "---  ------                 --------------  ----- \n",
      " 0   Unnamed: 0             8789 non-null   int64 \n",
      " 1   name                   8789 non-null   object\n",
      " 2   serving_size           8789 non-null   object\n",
      " 3   calories               8789 non-null   int64 \n",
      " 4   total_fat              8789 non-null   object\n",
      " 5   saturated_fat          7199 non-null   object\n",
      " 6   cholesterol            8789 non-null   object\n",
      " 7   sodium                 8789 non-null   object\n",
      " 8   potassium              8789 non-null   object\n",
      " 9   saturated_fatty_acids  8789 non-null   object\n",
      "dtypes: int64(2), object(8)\n",
      "memory usage: 686.8+ KB\n"
     ]
    }
   ],
   "source": [
    "# Getting information about the nutrition data\n",
    "nutrition_data.info()"
   ]
  },
  {
   "cell_type": "code",
   "execution_count": 9,
   "metadata": {},
   "outputs": [
    {
     "data": {
      "application/vnd.microsoft.datawrangler.viewer.v0+json": {
       "columns": [
        {
         "name": "index",
         "rawType": "int64",
         "type": "integer"
        },
        {
         "name": "Unnamed: 0",
         "rawType": "int64",
         "type": "integer"
        },
        {
         "name": "name",
         "rawType": "object",
         "type": "string"
        },
        {
         "name": "serving_size",
         "rawType": "object",
         "type": "string"
        },
        {
         "name": "calories",
         "rawType": "int64",
         "type": "integer"
        },
        {
         "name": "total_fat",
         "rawType": "object",
         "type": "string"
        },
        {
         "name": "saturated_fat",
         "rawType": "object",
         "type": "unknown"
        },
        {
         "name": "cholesterol",
         "rawType": "object",
         "type": "string"
        },
        {
         "name": "sodium",
         "rawType": "object",
         "type": "string"
        },
        {
         "name": "potassium",
         "rawType": "object",
         "type": "string"
        },
        {
         "name": "saturated_fatty_acids",
         "rawType": "object",
         "type": "string"
        }
       ],
       "conversionMethod": "pd.DataFrame",
       "ref": "7446692f-93d9-4b6e-9df7-9ebf79e112ec",
       "rows": [
        [
         "0",
         "0",
         "Cornstarch",
         "100 g",
         "381",
         "0.1g",
         null,
         "0",
         "9.00 mg",
         "3.00 mg",
         "0.009 g"
        ],
        [
         "1",
         "1",
         "Nuts, pecans",
         "100 g",
         "691",
         "72g",
         "6.2g",
         "0",
         "0.00 mg",
         "410.00 mg",
         "6.180 g"
        ],
        [
         "2",
         "2",
         "Eggplant, raw",
         "100 g",
         "25",
         "0.2g",
         null,
         "0",
         "2.00 mg",
         "229.00 mg",
         "0.034 g"
        ],
        [
         "3",
         "3",
         "Teff, uncooked",
         "100 g",
         "367",
         "2.4g",
         "0.4g",
         "0",
         "12.00 mg",
         "427.00 mg",
         "0.449 g"
        ],
        [
         "4",
         "4",
         "Sherbet, orange",
         "100 g",
         "144",
         "2g",
         "1.2g",
         "1mg",
         "46.00 mg",
         "96.00 mg",
         "1.160 g"
        ]
       ],
       "shape": {
        "columns": 10,
        "rows": 5
       }
      },
      "text/html": [
       "<div>\n",
       "<style scoped>\n",
       "    .dataframe tbody tr th:only-of-type {\n",
       "        vertical-align: middle;\n",
       "    }\n",
       "\n",
       "    .dataframe tbody tr th {\n",
       "        vertical-align: top;\n",
       "    }\n",
       "\n",
       "    .dataframe thead th {\n",
       "        text-align: right;\n",
       "    }\n",
       "</style>\n",
       "<table border=\"1\" class=\"dataframe\">\n",
       "  <thead>\n",
       "    <tr style=\"text-align: right;\">\n",
       "      <th></th>\n",
       "      <th>Unnamed: 0</th>\n",
       "      <th>name</th>\n",
       "      <th>serving_size</th>\n",
       "      <th>calories</th>\n",
       "      <th>total_fat</th>\n",
       "      <th>saturated_fat</th>\n",
       "      <th>cholesterol</th>\n",
       "      <th>sodium</th>\n",
       "      <th>potassium</th>\n",
       "      <th>saturated_fatty_acids</th>\n",
       "    </tr>\n",
       "  </thead>\n",
       "  <tbody>\n",
       "    <tr>\n",
       "      <th>0</th>\n",
       "      <td>0</td>\n",
       "      <td>Cornstarch</td>\n",
       "      <td>100 g</td>\n",
       "      <td>381</td>\n",
       "      <td>0.1g</td>\n",
       "      <td>NaN</td>\n",
       "      <td>0</td>\n",
       "      <td>9.00 mg</td>\n",
       "      <td>3.00 mg</td>\n",
       "      <td>0.009 g</td>\n",
       "    </tr>\n",
       "    <tr>\n",
       "      <th>1</th>\n",
       "      <td>1</td>\n",
       "      <td>Nuts, pecans</td>\n",
       "      <td>100 g</td>\n",
       "      <td>691</td>\n",
       "      <td>72g</td>\n",
       "      <td>6.2g</td>\n",
       "      <td>0</td>\n",
       "      <td>0.00 mg</td>\n",
       "      <td>410.00 mg</td>\n",
       "      <td>6.180 g</td>\n",
       "    </tr>\n",
       "    <tr>\n",
       "      <th>2</th>\n",
       "      <td>2</td>\n",
       "      <td>Eggplant, raw</td>\n",
       "      <td>100 g</td>\n",
       "      <td>25</td>\n",
       "      <td>0.2g</td>\n",
       "      <td>NaN</td>\n",
       "      <td>0</td>\n",
       "      <td>2.00 mg</td>\n",
       "      <td>229.00 mg</td>\n",
       "      <td>0.034 g</td>\n",
       "    </tr>\n",
       "    <tr>\n",
       "      <th>3</th>\n",
       "      <td>3</td>\n",
       "      <td>Teff, uncooked</td>\n",
       "      <td>100 g</td>\n",
       "      <td>367</td>\n",
       "      <td>2.4g</td>\n",
       "      <td>0.4g</td>\n",
       "      <td>0</td>\n",
       "      <td>12.00 mg</td>\n",
       "      <td>427.00 mg</td>\n",
       "      <td>0.449 g</td>\n",
       "    </tr>\n",
       "    <tr>\n",
       "      <th>4</th>\n",
       "      <td>4</td>\n",
       "      <td>Sherbet, orange</td>\n",
       "      <td>100 g</td>\n",
       "      <td>144</td>\n",
       "      <td>2g</td>\n",
       "      <td>1.2g</td>\n",
       "      <td>1mg</td>\n",
       "      <td>46.00 mg</td>\n",
       "      <td>96.00 mg</td>\n",
       "      <td>1.160 g</td>\n",
       "    </tr>\n",
       "  </tbody>\n",
       "</table>\n",
       "</div>"
      ],
      "text/plain": [
       "   Unnamed: 0             name serving_size  calories total_fat saturated_fat  \\\n",
       "0           0       Cornstarch        100 g       381      0.1g           NaN   \n",
       "1           1     Nuts, pecans        100 g       691       72g          6.2g   \n",
       "2           2    Eggplant, raw        100 g        25      0.2g           NaN   \n",
       "3           3   Teff, uncooked        100 g       367      2.4g          0.4g   \n",
       "4           4  Sherbet, orange        100 g       144        2g          1.2g   \n",
       "\n",
       "  cholesterol    sodium  potassium saturated_fatty_acids  \n",
       "0           0   9.00 mg    3.00 mg               0.009 g  \n",
       "1           0   0.00 mg  410.00 mg               6.180 g  \n",
       "2           0   2.00 mg  229.00 mg               0.034 g  \n",
       "3           0  12.00 mg  427.00 mg               0.449 g  \n",
       "4         1mg  46.00 mg   96.00 mg               1.160 g  "
      ]
     },
     "execution_count": 9,
     "metadata": {},
     "output_type": "execute_result"
    }
   ],
   "source": [
    "# An overview of the nutrition dataset\n",
    "nutrition_data.head()"
   ]
  },
  {
   "cell_type": "markdown",
   "metadata": {},
   "source": [
    "Some of the columns in the nutrition datasets are of numeric datatypes but have object datatypes"
   ]
  },
  {
   "cell_type": "code",
   "execution_count": 10,
   "metadata": {},
   "outputs": [],
   "source": [
    "# Cleaning the columns\n",
    "columns_to_clean = ['serving_size', 'calories', 'total_fat', 'saturated_fat', 'cholesterol', 'sodium', 'potassium']\n",
    "for column in columns_to_clean:\n",
    "    nutrition_data[column] = nutrition_data[column].astype(str)\n",
    "    "
   ]
  },
  {
   "cell_type": "code",
   "execution_count": 11,
   "metadata": {},
   "outputs": [
    {
     "name": "stdout",
     "output_type": "stream",
     "text": [
      "   Unnamed: 0            name serving_size calories total_fat saturated_fat  \\\n",
      "0           0      Cornstarch         100       381       0.1           nan   \n",
      "1           1    Nuts, pecans         100       691        72           6.2   \n",
      "2           2     Eplant, raw         100        25       0.2           nan   \n",
      "3           3  Teff, uncooked         100       367       2.4           0.4   \n",
      "4           4  Sherbet, orane         100       144         2           1.2   \n",
      "\n",
      "  cholesterol  sodium potassium saturated_fatty_acids  \n",
      "0           0   9.00      3.00                 0.009   \n",
      "1           0   0.00    410.00                 6.180   \n",
      "2           0   2.00    229.00                 0.034   \n",
      "3           0  12.00    427.00                 0.449   \n",
      "4           1  46.00     96.00                 1.160   \n"
     ]
    }
   ],
   "source": [
    "# Remove 'g' and 'mg' from all string columns\n",
    "for col in nutrition_data.columns:\n",
    "    if nutrition_data[col].dtype == 'object':\n",
    "        nutrition_data[col] = nutrition_data[col].str.replace(r'[gmg]', '', regex=True)\n",
    "\n",
    "# Check the result\n",
    "print(nutrition_data.head())\n"
   ]
  },
  {
   "cell_type": "code",
   "execution_count": 12,
   "metadata": {},
   "outputs": [
    {
     "name": "stdout",
     "output_type": "stream",
     "text": [
      "<class 'pandas.core.frame.DataFrame'>\n",
      "RangeIndex: 8789 entries, 0 to 8788\n",
      "Data columns (total 10 columns):\n",
      " #   Column                 Non-Null Count  Dtype \n",
      "---  ------                 --------------  ----- \n",
      " 0   Unnamed: 0             8789 non-null   int64 \n",
      " 1   name                   8789 non-null   object\n",
      " 2   serving_size           8789 non-null   object\n",
      " 3   calories               8789 non-null   object\n",
      " 4   total_fat              8789 non-null   object\n",
      " 5   saturated_fat          8789 non-null   object\n",
      " 6   cholesterol            8789 non-null   object\n",
      " 7   sodium                 8789 non-null   object\n",
      " 8   potassium              8789 non-null   object\n",
      " 9   saturated_fatty_acids  8789 non-null   object\n",
      "dtypes: int64(1), object(9)\n",
      "memory usage: 686.8+ KB\n"
     ]
    }
   ],
   "source": [
    "nutrition_data.info()"
   ]
  },
  {
   "cell_type": "code",
   "execution_count": 13,
   "metadata": {},
   "outputs": [
    {
     "data": {
      "text/plain": [
       "Unnamed: 0               0\n",
       "name                     0\n",
       "serving_size             0\n",
       "calories                 0\n",
       "total_fat                0\n",
       "saturated_fat            0\n",
       "cholesterol              0\n",
       "sodium                   0\n",
       "potassium                0\n",
       "saturated_fatty_acids    0\n",
       "dtype: int64"
      ]
     },
     "execution_count": 13,
     "metadata": {},
     "output_type": "execute_result"
    }
   ],
   "source": [
    "# Checking for missing values\n",
    "nutrition_data.isna().sum()"
   ]
  },
  {
   "cell_type": "markdown",
   "metadata": {},
   "source": [
    "No missing values"
   ]
  },
  {
   "cell_type": "code",
   "execution_count": 14,
   "metadata": {},
   "outputs": [
    {
     "data": {
      "text/plain": [
       "0"
      ]
     },
     "execution_count": 14,
     "metadata": {},
     "output_type": "execute_result"
    }
   ],
   "source": [
    "# Checking for duplicated values\n",
    "nutrition_data.duplicated().sum()"
   ]
  },
  {
   "cell_type": "markdown",
   "metadata": {},
   "source": [
    "No duplicated values"
   ]
  },
  {
   "cell_type": "markdown",
   "metadata": {},
   "source": [
    "## African Recipies data"
   ]
  },
  {
   "cell_type": "code",
   "execution_count": 15,
   "metadata": {},
   "outputs": [
    {
     "name": "stdout",
     "output_type": "stream",
     "text": [
      "<class 'pandas.core.frame.DataFrame'>\n",
      "RangeIndex: 206 entries, 0 to 205\n",
      "Data columns (total 12 columns):\n",
      " #   Column               Non-Null Count  Dtype  \n",
      "---  ------               --------------  -----  \n",
      " 0   name                 206 non-null    object \n",
      " 1   minutes              206 non-null    object \n",
      " 2   ingredients          206 non-null    object \n",
      " 3   steps                206 non-null    object \n",
      " 4   Serving              206 non-null    float64\n",
      " 5   calories             206 non-null    int64  \n",
      " 6   total fat (PDV)      206 non-null    int64  \n",
      " 7   sugar (PDV)          206 non-null    int64  \n",
      " 8   sodium (PDV)         206 non-null    int64  \n",
      " 9   protein (PDV)        206 non-null    int64  \n",
      " 10  saturated fat (PDV)  206 non-null    int64  \n",
      " 11  carbohydrates (PDV)  206 non-null    int64  \n",
      "dtypes: float64(1), int64(7), object(4)\n",
      "memory usage: 19.4+ KB\n"
     ]
    }
   ],
   "source": [
    "# Getting information \n",
    "African_recipes.info()"
   ]
  },
  {
   "cell_type": "code",
   "execution_count": 16,
   "metadata": {},
   "outputs": [
    {
     "data": {
      "text/plain": [
       "name                   0\n",
       "minutes                0\n",
       "ingredients            0\n",
       "steps                  0\n",
       "Serving                0\n",
       "calories               0\n",
       "total fat (PDV)        0\n",
       "sugar (PDV)            0\n",
       "sodium (PDV)           0\n",
       "protein (PDV)          0\n",
       "saturated fat (PDV)    0\n",
       "carbohydrates (PDV)    0\n",
       "dtype: int64"
      ]
     },
     "execution_count": 16,
     "metadata": {},
     "output_type": "execute_result"
    }
   ],
   "source": [
    "# Checking for missing values\n",
    "African_recipes.isna().sum()"
   ]
  },
  {
   "cell_type": "code",
   "execution_count": 17,
   "metadata": {},
   "outputs": [],
   "source": [
    "# Dropping missing values on the time column\n",
    "African_recipes.dropna(inplace=True)"
   ]
  },
  {
   "cell_type": "code",
   "execution_count": 18,
   "metadata": {},
   "outputs": [
    {
     "data": {
      "text/plain": [
       "name                   0\n",
       "minutes                0\n",
       "ingredients            0\n",
       "steps                  0\n",
       "Serving                0\n",
       "calories               0\n",
       "total fat (PDV)        0\n",
       "sugar (PDV)            0\n",
       "sodium (PDV)           0\n",
       "protein (PDV)          0\n",
       "saturated fat (PDV)    0\n",
       "carbohydrates (PDV)    0\n",
       "dtype: int64"
      ]
     },
     "execution_count": 18,
     "metadata": {},
     "output_type": "execute_result"
    }
   ],
   "source": [
    "# Checking if missing values have been sorted\n",
    "African_recipes.isna().sum()"
   ]
  },
  {
   "cell_type": "code",
   "execution_count": 19,
   "metadata": {},
   "outputs": [
    {
     "data": {
      "text/plain": [
       "0"
      ]
     },
     "execution_count": 19,
     "metadata": {},
     "output_type": "execute_result"
    }
   ],
   "source": [
    "# Checking for duplicate values\n",
    "African_recipes.duplicated().sum()"
   ]
  },
  {
   "cell_type": "markdown",
   "metadata": {},
   "source": [
    "No Duplicates"
   ]
  },
  {
   "cell_type": "code",
   "execution_count": 20,
   "metadata": {},
   "outputs": [
    {
     "data": {
      "application/vnd.microsoft.datawrangler.viewer.v0+json": {
       "columns": [
        {
         "name": "index",
         "rawType": "int64",
         "type": "integer"
        },
        {
         "name": "name",
         "rawType": "object",
         "type": "string"
        },
        {
         "name": "minutes",
         "rawType": "object",
         "type": "string"
        },
        {
         "name": "ingredients",
         "rawType": "object",
         "type": "string"
        },
        {
         "name": "steps",
         "rawType": "object",
         "type": "string"
        },
        {
         "name": "Serving",
         "rawType": "float64",
         "type": "float"
        },
        {
         "name": "calories",
         "rawType": "int64",
         "type": "integer"
        },
        {
         "name": "total fat (PDV)",
         "rawType": "int64",
         "type": "integer"
        },
        {
         "name": "sugar (PDV)",
         "rawType": "int64",
         "type": "integer"
        },
        {
         "name": "sodium (PDV)",
         "rawType": "int64",
         "type": "integer"
        },
        {
         "name": "protein (PDV)",
         "rawType": "int64",
         "type": "integer"
        },
        {
         "name": "saturated fat (PDV)",
         "rawType": "int64",
         "type": "integer"
        },
        {
         "name": "carbohydrates (PDV)",
         "rawType": "int64",
         "type": "integer"
        }
       ],
       "conversionMethod": "pd.DataFrame",
       "ref": "a5056b4d-0397-4666-ae5d-891968657e42",
       "rows": [
        [
         "0",
         "Ugali and omena",
         "30",
         "Maize flour\nOmena\nOil\n3 chopped tomatoes\nChopped green onions\nCapsicum\nSalt\nCurry powder",
         "Step 1\nBoil 3 cups of water add maize flour stir briskly with a wooden spoon until firm,let it cook for a few minutes.\nStep 2\nUgali is ready,cover and put aside\nStep 3\nWash the omena with warm water and put aside\nStep 4\nPut oil and heat\nStep 5\nDeep in the omena to fry until golden brown\nStep 6\nAdd onions and capsicum,let it cook for 6 minutes add tomatoes,salt to taste and curry powder\nStep 7\nServe with Ugali",
         "4.0",
         "91",
         "30",
         "203",
         "29",
         "192",
         "172",
         "182"
        ],
        [
         "1",
         "Kienyeji fried",
         "25",
         "1 table spoon salt\n2 table spoon cooking vegetable\n2 bunches Sageti\n2 bunches Kansara\n2 bunches Terere\n1 bunch blacknight\n1 cup milk\n2 cups boiled water\n2 onions\n1 tomato",
         "Asemble the vegetables.\nPluck leaves from the vegetable stem.\nWash the vegetables then mix.\nAdd water and boil for 5 mins.\n\nFry onions\nAdd salt and tomato then fry till it forms a paste\nDrain water from vegetables and add milk then stir\nLet it cook for 5 mins then serve with ugali",
         "1.0",
         "230",
         "173",
         "247",
         "196",
         "87",
         "200",
         "239"
        ],
        [
         "2",
         "dengu Chapati",
         "30",
         "Ndengu\ncubes congets diced in\ncubes carrots in\nonion diced\ncubes potatoes diced\ncubes tomatoes cut in\n3 cloves garlic grated\ngrated ginger\nminced meat\noil and salt",
         "Step 1\nSteam the mince meat and add oil then onion.cook till brown.\nStep 2\nAdd ginger and garlic, turn and then add carrots, then congets,tomatoes and turn them add potatoes. Cook till ready.\nStep 3\nAdd the already sorted and boiled ndengu. Keep turning. Add salt if u want.\nStep 4\nServe with chapati or any accompaniment of your choice.",
         "4.0",
         "138",
         "211",
         "131",
         "260",
         "84",
         "75",
         "275"
        ],
        [
         "3",
         "Ugali matumbo ft african salad",
         "60",
         "400 g Maize flour \n20 g Onions \n11/2 kgMatumbo \n30 g Tomatoe paste\n 10 g Corriander \n30 ml water \n10 g Tomatoe \n5 g Salt & B. Pepper\n 5 g Garlic \n1 avocado",
         "Step 1 Bring the water to boil, add the maize flour and mix them till they thicken. \nCover the mixture and leave to sit at room temp for 20 minutes \nStep 2 \nBoil the matumbo for 25 mins As well as Getting the onions diced,\n tomatoes diced, corriander diced and chopping the garlic and avocado. \nStep 3\n Heat your oiled pan Strain the matumbo. \nSave some 30 ml soup Add the first half of the diced onions \nstir them for 5 mins then add the chopped garlic stir and let them \ncook for 5 mins \nStep 4 \nAdd the first",
         "4.0",
         "365",
         "259",
         "71",
         "255",
         "205",
         "20",
         "57"
        ],
        [
         "4",
         "Chicken stew",
         "60",
         "Boiled chicken\n2 Red onion\n1 Spring onion\n4 Tomatoes\n1 Green bell pepper\n1 Potato\n2 carrots\n1/2 teaspoon Salt\n1 teaspoon pilau masala\nCoriander/ dhania",
         " Step 1Boil 1 diced potato and 1 diced carrot\n       Step 2 Add cooking oil to a pan and fry 1 diced red onion and 1 green bell pepper. Add 4 chopped tomatoes Add the boiled potato and carrot to the mixture then add salt and pepper. Lastly add half of water.\n       Step 3 Once they are ready, use a blender and blend all the ingredients together\n       Step 4 Separately add oil to a pan and red onions, then add spring onion after 2 minutes. As they cook add pilau masala, then add your boiled chicken pieces.\n       Step 5 Cover and let it cook for about 20 minutes however keep checking and turning until the chicken has started to develop a brown quoting\n       Step 6 Add the blended mixture to the chicken and cover as you let it cook for 10 minutes\n       Step 7 Pre heat oven at 180 degrees as you wait for the chicken to continue cooking\n       Step 8 After the 10 minutes are done, add chopped coriander\n       Step 9 Add your chicken to a baking dish, cover with foil then put it in the oven and set the timer to 20 minutes\n       Step 10 After the 20 minutes are done remove from the oven and serve! You can serve this chicken with rice, chapati, mashed potatoes, ugali; the list is endless",
         "2.0",
         "171",
         "35",
         "221",
         "109",
         "219",
         "210",
         "125"
        ],
        [
         "5",
         "Minji with beef stew",
         "60",
         "1 glass Green peas (minji) pre boiled\n250 gms Pre boiled beef\nSliced onion\nSliced tomatoes\nGarlic paste\nGinger paste\nSalt to taste\nGreen pepper\n100 ml Water\nbunch Dhania\nCooking oil\nPotatoes",
         "Step 1\nIn a hot pan put your cooking oil and onions Cook until late lightly brown\nStep 2\nAdd in the garlic paste and ginger paste\nStep 3\nAdd the pre boiled beef stir until they mix up together for 5mins\nStep 4\nAdd the sliced tomatoes and green pepper while stirring\n(At this point you can add your spices of choice)stir until cooked\nStep 5\nAdd the potatoes and the pre boiled green grams\nStep 6\nAdd salt to taste and stir and add water (the amount of your choice)\nStep 7\nCover and simmer for 10 mins\nStep 8\nAdd in your dhania\nStep 9\nServer and enjoy",
         "4.0",
         "242",
         "13",
         "230",
         "49",
         "286",
         "247",
         "24"
        ],
        [
         "6",
         "African brewed lemon grass tea",
         "30",
         "1 Cup milk\n1 cup water\n1/2 tsp Kenyan tea\nSome lemon grass\nSugar (optional)",
         "Step 1\nBring to boil the milk and water.\nStep 2\nAdd tea and lemon grass and let it boil on low heat for about 4 min.\nStep 3\nSieve and enjoy your tea with or without sugar\n",
         "1.0",
         "785",
         "63",
         "133",
         "128",
         "179",
         "157",
         "269"
        ],
        [
         "7",
         "African Cassava chilli-garlic sabzi",
         "60",
         "2 fresh cassava cut into fingers\n3 tbsp salted butter\n2 tbsp sunflower oil \n10 chopped garlic \n3-4 finely chopped green chillies\n11/2 tsp cumin seeds\nSalt to taste \n2 tbsp finely chopped coriander leaves \n3-4 onions rings\n1/2 tsp kashmiri red chillies powder \n1/2 tsp coriander & cumin powder\n2-3 tbsp lemon juice ",
         "Step 1\nWash cassava and pat dry on kitchen towel, peel and cut into long fingers and keep aside.\nStep 2\nHeat butter, add oil, add cumin seeds, when start to crackle, add chopped garlic saute till golden, add cassava long fingers and fry them on medium low heat, add kashmiri red chillies powder , coriander & cumin powder, salt ,finely chopped green chillies and mix well, cook on medium low heat until cassava is tender.\nStep 3\nRemove from heat, add onions rings , finely chopped coriander leaves , lemon juice and mix well, serve hot.",
         "4.0",
         "474",
         "57",
         "223",
         "176",
         "91",
         "265",
         "285"
        ],
        [
         "8",
         "Minced meat stew combined with spaghetti",
         "45",
         "Onions\nGarlic and ginger paste\nCarrots\nTomatoes\nPaprika\nBlack pepper\n",
         "Step 1\nAdd your mince meat in a wide pan and cook with medium or low heat\nStep 2\nKeep stiring the minced meat till cook,do not add any water\nStep 3\nAdd ginger and garlic paste to add flavor to the meat and also to remove the meat smell\nStep 4\nAdd onions and mix properly. You canalso add black pepper and paprika\nStep 5\nAdd carrots and tomatoes. Mix well then cover to let everything cook.cook for 5-10min\nStep 6\nRemove the lid and stir the minced meat you can add little water of you want it with soup.\nStep 7\nNow ready to serve with spagheti",
         "1.0",
         "268",
         "126",
         "244",
         "273",
         "11",
         "199",
         "7"
        ],
        [
         "9",
         "Kenyan Pancakes",
         "60",
         "Some lemon grass\nSugar (optional)\n1 tbsp banking powder\n2 eggs\n50 ml oil",
         "Cooking Instructions\nStep 1\nInto a bowl pour 250 g of of flour\nStep 2\nThen add sugar and the the baking powder.\nStep 3\nAdd 2 Tbsp of oil.\nStep 4\nThen add water and mix till it forms a pouring consistency\nStep 5\nThen to a flat pan preferably noon stick pan, put 1/2 tsp of oil.\nStep 6\nThen pour just a small amount of the mixture to the pan and fry it changes colour to golden brown and produces bubbles on the uncooked side.\nStep 7\nThen turn and cook the uncooked side.\nStep 8\nRepeat the last process till all pancakes are cooked.\nStep 9\nServe with milk of Tea.",
         "4.0",
         "783",
         "71",
         "204",
         "182",
         "100",
         "191",
         "227"
        ],
        [
         "10",
         "Kenyan Githeri",
         "20",
         "300 g boiled beans\n200 g boiled maize\n3 carrots\nleaves coriander\n3 tomatoes\n1 onions\ncooking oil\n1 avocado",
         "Step 1\nStir fry the onions with oil till golden brown then add tomatoes.\nStep 2\nThen stir and add chopped carrots. Once soft add the beans and maize. Stir and add coriander leaves.\nStep 3\nAdd a little water then add salt. Let it cook for 10 mins.\nStep 4\nRemove from heat and serve. Eat with avocado.",
         "1.0",
         "589",
         "237",
         "219",
         "36",
         "110",
         "242",
         "146"
        ],
        [
         "11",
         "Kenyan Fried Rice",
         "50",
         "2 cups Rice\n1 egg _ whisked\n1 onion diced\n1 capsicum (red capsicum)\n1 carrot diced to small pieces\noil for frying\nto taste Salt\n1 medium size tomato....chopped",
         "Step 1\nWash rice in cold water and soak it in water for 10 minutes\nStep 2\nIn a sufuria heat oil and fry onions until slightly brown. The add in the diced capsicum, carrots and tomatoes and cook for five minutes\nStep 3\nAdd the whisked eggs stir and cook for 3 minutes.Add in the boiled rice/ cooked rice with salt and stir. stir very well to ensure that all sides are coated.\nStep 4\nRemove from fire and set a side to cool then serve.",
         "2.0",
         "976",
         "228",
         "215",
         "247",
         "215",
         "262",
         "2"
        ],
        [
         "12",
         "Kenyan Matoke",
         "45",
         "10 raw bananas\n3 tomatoes\n1/2 onion\nleaves coriander\ncooking oil\n1 pinch salt\n1 tsp royco",
         "Step 1\nSmear oil on your hands and peel the bananas. Then wash the bananas.\nStep 2\nStir fry the onions with oil then add tomatoes. Let the tomatoes soften then add the bananas.\nStep 3\nStir then add the coriander leaves, royco and salt.\nStep 4\nCover then let it cook for 25-30 mins till soft.\nStep 5\nRemove from heat and serve. Yummy!!",
         "1.0",
         "952",
         "68",
         "206",
         "38",
         "17",
         "79",
         "277"
        ],
        [
         "13",
         "Ugali,Spinach and Pork",
         "50",
         "Raw pork\nOnions\nSoy sauce\nSalt\nSpinach\nCooking oil\nMaize Flour\nleaves Pumpkin",
         "Step 1\nMake the Ugali by boiling water and mixing in the flour until it thickens\nStep 2\nFor the vegetables, cut Spinach and Pumpkin leaves together.\nFry Onions until transparent\nAdd in Salt and Curry or Royco\nMix in the vegetables and steam for 4mins\nStep 3\nFor the Pork: boil with salt for 5 mins.\nFry the pork until Golden brown, Add in Onions,and keep frying.\nAdd salt and required spices and the Dark soy sauce\nFry for 3minutes Serve while hot or warm",
         "2.0",
         "641",
         "261",
         "103",
         "31",
         "224",
         "178",
         "68"
        ],
        [
         "14",
         "African savanna",
         "20",
         "1 small fresh pineapple cut into small cubes\n1 fresh orange (seeds remove) cut into small cubes\n1 fresh mango cut into small cubes\n1/2 cup fresh pomegranate juice\n3-4 tbsp sugar\n1 fresh apple cut into small cubes\n1/2 cup - 1 cup chilled water",
         "Cooking Instructions\nStep 1\nPeel, pineapple , apple , mango  and orange . Cut all of them into small cubes, keep aside.\nStep 2\nIn a blender add cubes of pineapple ,apple , orange , mango , pomegranate juice, sugar, chilled water and blend until smooth, sieve juice.\nStep 3\nPour in serving glasses, if desired add ice cubes and serve immediately. Enjoy\nStep 4\nNote: it is kindly recommended that use fresh fruits in this recipe, (don't use bottle or canned fruits or juice's) to make this recipe.",
         "3.0",
         "281",
         "206",
         "165",
         "161",
         "116",
         "190",
         "5"
        ],
        [
         "15",
         "African style red kidney beans curry",
         "45",
         "1 cup red kidney beans soaked and boiled\n3-4 raw green bananas\n1 tsp white vinegar\n1/2 tsp black pepper powder\nSalt to taste \n1 tsp bihari masala powder for flavour\n1 tsp coriander & cumin powder\n1 tbsp ginger garlic paste \n2 tbsp green chillies paste\n1 tbsp ready made tomato paste\n1 tsp kashmiri red chillies powder \n4 tbsp sunflower oil \n3-4 finely chopped onions \n11/2 finely chopped tomatoes \n1 tbsp finely chopped coriander leaves \n1 tsp cumin seeds\n2 cups boiled kidney beans water\n",
         "Cooking Instructions\nStep 1\nHeat oil, add cumin seeds when start to crackle and add finely chopped onions , till golden, add finely chopped tomatoes , mix well, add salt , cook for 1 mins.\nStep 2\nAdd ready made tomato paste , ginger garlic paste , black pepper powder, kashmiri red chillies powder , bihari masala powder, green chillies paste, coriander & cumin powder mix well, cook till oil comes out, add boiled kidney beans, mix well. Add boiled kidney beans water  let it boiled.\nStep 3\nPeel raw (green) bananas, add in boiling gravy, cook until bananas are tender. Serve hot with jeera (cumin) rice and salad.",
         "3.0",
         "280",
         "101",
         "154",
         "72",
         "196",
         "151",
         "295"
        ],
        [
         "16",
         "Fluffy home made donuts",
         "30",
         "540 g flour\n300 ml milk\n7 g Baking yeast\n100 g margarine\n3.5 g baking powder\n50 g caster sugar\n3 eggs",
         "Sieve and enjoy your tea with or without sugar",
         "1.0",
         "299",
         "190",
         "45",
         "112",
         "202",
         "130",
         "275"
        ],
        [
         "17",
         "Ugali the kenyan staple food",
         "30",
         "3 cups water\n3 cups maize meal",
         "Step 1\nIn a sufuria bring water to boil. Add the maize meal and stir with a mwiko.until the mixture is thick and smooth.\nStep 2\nMake sure it is not too stiff. Add boiling water if it is too thick.Gather the mixture in the middle of the pan and turn the heat to low.\nStep 3\nCover the pan and leave it on low heat.for about 15 minutes turning after some time.\nStep 4\nFlip the ugali onto a plate and after it cools a bit cut it to the shape you desire or as common people do form it into cake.\nStep 5\nServe with chicken stew or beef stew or even sour milk (maziwa mala)",
         "2.0",
         "287",
         "8",
         "228",
         "48",
         "276",
         "201",
         "83"
        ],
        [
         "18",
         "Chinsaga/Saget/African Spider Plant",
         "40",
         "Saget\nOnions\nTomatoes\nSalt\nCooking oil",
         "Step 1\nPrepare your vegetables, (saget and terere) wash them thoroughly since they often have lots of soil\nStep 2\nBoil for 2 hours more or less defending on how you prefer them to be.\nStep 3\nPrepare onions and tomatoes\nStep 4\nFry onions then add in tomatoes\nStep 5\nLater add in your vegetables in small bunches and salt to taste\nStep 6\nCook until ready and serve with ugali",
         "4.0",
         "745",
         "250",
         "3",
         "28",
         "48",
         "84",
         "215"
        ],
        [
         "19",
         "Kenyan omelette",
         "8",
         "3 eggs\n1 tbsp oil\n1/2 tea spoon of salt",
         "Step 1\nInto a bowl break 3 eggs and mix well with a hand mixer.\nStep 2\nThen put one tbsp of oil into a pan and heat the pan.\nStep 3\nThen add salt to the raw eggs and mix very well so that salt doesn't remain in one place\nStep 4\nThen pour the eggs to the heated pan and allow it to cook for about 3 minutes.\nStep 5\nThen turn the other side and let it cook also for 2minutes.\nStep 6\nThen serve with tea for breakfast or with bread.",
         "3.0",
         "217",
         "225",
         "287",
         "221",
         "73",
         "116",
         "117"
        ],
        [
         "20",
         "African style Rajma with Nsima and peri",
         "45",
         "1 and a 1/2 standard measuring cup fresh Rajma (kidney beans)\n1 tsp salt\n1 medium size onion\n1 medium to big tomato\n1 tsp Kambuzi chilli sauce\n4 tbsp oil",
         "Step 1\nWash beans. Take them in a thick pot, add lots of water and half the amount of salt. Cover the pit and cook on slow flame until the beans are thoroughly cooked. They must not be even a bit hard. We are aiming at mushy beans. This may take over 2 hours. You may have to add more water in between if required.\nStep 2\nHeat oil in a pan. Fry onions till they shrink a bit. Add tomatoes and the remaining amount of salt.\nStep 3\nCook till they are soft. Add Kambuzi chilli or the chilli sauce. Add this mixture to the boiling beans.\nStep 4\nAdjust consistency. Let it simmer for about 5 min. Serve it hot with Nsima and Kambuzi chilli sauce.",
         "3.0",
         "554",
         "195",
         "97",
         "291",
         "113",
         "164",
         "115"
        ],
        [
         "21",
         "Kenyan 'kachumbari'",
         "5",
         "6-10 fresh tomatoes\n5-8 onions\n2 dhanias/ coriander\nsweet coloured capsicum(optional)\nMild chillies if you like\nto taste salt\nlime juice/add lemons",
         "Step 1\nChop all the ingredients\nStep 2\nCombine them together in a bowl.\nStep 3\nServe immediately.",
         "1.0",
         "905",
         "75",
         "60",
         "115",
         "26",
         "48",
         "34"
        ],
        [
         "22",
         "African mukimo",
         "45",
         "Potato\nMaize\nGreen (kahurura)\nOnion",
         "Step 1\nBoiler maize\nStep 2\nBoiler potatoes,mixing with boiler maize\nStep 3\nBoiler Green and you blend\nStep 4\nMarsh the potatoes and maize you add the blend greens\nStep 5\nFry the onions mixing",
         "2.0",
         "818",
         "56",
         "16",
         "288",
         "83",
         "275",
         "233"
        ],
        [
         "23",
         "African style tandoori chicken 🐓& kachumbari mixed salad",
         "125",
         "1 whole chicken \n11/2 tbsp tandoori masala\n1 tbsp garlic paste \n2-3 tbsp plain yogurt\n1/2 tsp kashmiri red chillies powder \nSalt to taste\n2 tbsp oil\n11/2 tbsp finely chopped coriander leaves ",
         "Step 1\nWash and clean chicken , pat dry on kitchen towel and keep aside. Cut from the middle, but it should be intact.\nStep 2\nIn a small bowl  add tandoori masala, garlic paste , kashmiri red chillies powder , plain yogurt, salt and oil mix well to combine, cover and marinade for 1 hr.\nStep 3\nI have used African traditional method to make this chicken. Heat charcoal, wash and cleaned my grill net well, add marinated chicken and grill slowly, add few tsp of oil in between and grill until chicken is tender, and serve hot with kachumbari African salad .\nStep 4\nNote: the chicken on grill is not African style tandoori chicken, I have just show the method how African tandoori chicken is grilled. If you desired you can bake in the oven at 180°c for 45 mins. Cook & check in-between, don't burn your chicken because this chicken has no masala mixture to cover it.\nStep 5\nGarnish with finely chopped coriander leaves  and lemon wedges ",
         "3.0",
         "531",
         "112",
         "263",
         "165",
         "125",
         "164",
         "227"
        ],
        [
         "24",
         "African meal recipe",
         "320",
         "50 grams Nkok/okazi leaves dry\n1 pound peanut butter\n200 grams palm cream concentrate (half a can)\n1/3 cup sugar\n1 tsp salt\nFrozen or fresh cassava\nFrozen fermented cassava(bobolo)",
         "Step 1\nSoak the leaves in hot boiling water the night before, and cook it the next day for 4 hours or more on medium heat (it takes a long time for the leaves to soften), rinse the leaves after boiling multiple times and place it back into the pot\nStep 2\nOn a medium heat, add the palm concentrate, peanut butter, palm concentrate, sugar and salt, cook for 45 minutes on low-medium heat while stirring so it doesn't stick to the bottom and adding water as needed (about 8-10)\nStep 3\nCassava both regular and fermented can be boiled, the fermented doesn't need more than 10 minutes to cook in boiling water... as for the regular cassava 20 minutes or until tender fully\nStep 4\nSpoon out the stew/paste on the cassava and enjoy! It tastes heavenly",
         "1.0",
         "931",
         "175",
         "196",
         "262",
         "63",
         "16",
         "288"
        ],
        [
         "25",
         "Kenyan delicacy\"Vitumbua\"",
         "10",
         "1 3/4 cups thick/ heavy tui/ coconut milk\n11/2 cups rice (the thick variety if possible, we need these to be able to mash up nicely)\n1 cup sugar\n1 tbs instant yeast\n1 TBS cardamom powder\nOil for frying",
         "Step 1\nSoak the rice overnight, and then drain completely. Make sure no water remains in the rice, and you can do this by leaving it in a sieve to drain for as long as you can.\nStep 2\nPut the rice, coconut milk, yeast and cardamom powder into your blender and blend until completely smooth. This may take a while but stick to it. Keep blending for a full minute at a time, giving the blender a rest of a few seconds between pulses. Once you're satisfied that the rice has been mashed completely and your batter is smooth, pour it out into a bowl, cover and set aside to rise for 30-60mins.\nStep 3\nThis is how thick the batter will look after 30-60 mins. Add the sugar and mix it in using your hand. Make sure you mix it completely such that no sugar granules remain.\nStep 4\nOnce the sugar is mixed in, the batter will become lighter and slightly more runny in consistency\nStep 5\nIf you have an appam pan like the one in the pic, use it for smaller sized vitumbua. Otherwise use the smallest karai that you've got. Add oil into it, half a tsp. per slot if you're using an appam, otherwise more if using a bigger pan. Heat it up on medium.\nStep 6\nCarefully, pour your batter into the pan. Do not over-fill.\nStep 7\nAs the vitumbua cook, you will notice tiny bubbles forming all over the batter in the pan. This is a good sign, it means your vitumbua will have the perfect sieve-like texture. Keep the heat on low so that the vitumbua cook through without burning\nStep 8\nWhen you notice the vitumbua firming up and their bottoms look colored, gently turn each one over and cook the other side. You can use a skewer or flat wooden stick for this.\nStep 9\nCook the other side to a good golden color. Remove and continue this method for the rest of your batter. Serve warm.\nStep 10\nThis how the Appam pan looks like.",
         "4.0",
         "328",
         "281",
         "28",
         "115",
         "117",
         "95",
         "124"
        ],
        [
         "26",
         "Spinach,kale mango smoothie",
         "5",
         "1 mang\n100 ml water\n3 leaves Spinach\n2 leavea kales\n1 bowl nettle",
         "Step 1\nPeel the mango and cube them\nWash the greens and cut\nStep 2\nPut them into the blender.\nAdd the water and blend to a smooth mix.\nStep 3\nServe and enjoy",
         "4.0",
         "552",
         "187",
         "210",
         "46",
         "234",
         "144",
         "99"
        ],
        [
         "27",
         "January recipe Githeri",
         "45",
         "3 medium sized potatoes\n2 medium-sized carrot\n1 green bell pepper\n3 stems of coriander\n100 g pre boiled Githeri\n1 medium-sized tomato\n1 medium-sized tomato\n5 g turmeric powder",
         "Step 1\nFinely chop all the raw ingredients\nStep 2\nFry onions until golden brown, add tomatoes and cook until well cooked then add your coriander stems\nStep 3\nAdd turmeric, carrot and stir and add potatoes\nStep 4\nAdd salt to taste\nStep 5\nAdd Githeri and 250g of water and cook at low eat\nStep 6\nAdd the bell pepper and stir\nStep 7\nAdd the coriander leaves and turn of the heat\nStep 8\nServe with your avocado",
         "3.0",
         "322",
         "143",
         "215",
         "122",
         "100",
         "159",
         "151"
        ],
        [
         "28",
         "African bhajia potatoes",
         "180",
         "1 kg Potatoes\n1/2 cup Exe flour\nGinger/garlic\nCummins seed's\nEgg yellow 1/2t/spoon\nSalt\nDhania\nOil",
         "Step 1\nSlice your potatoes.\nStep 2\nMix all your ingredients together in a bowl to a thick butter by adding water.\nStep 3\nOn a medium heat the oil and deep fry the potatoes to done and soft.\nStep 4\nServe still hot and crunchy with salad of your choice.",
         "1.0",
         "152",
         "104",
         "249",
         "116",
         "113",
         "284",
         "16"
        ],
        [
         "29",
         "Cinnamon mandazi",
         "70",
         "2 cups baking flour\n200 ml milk\n2 eggs\n1 teaspoon cinnamon\n5 tablespoons sugar\n1 tablespoon bàking powder\n1/4 cup water\n1/2 litre oil",
         "Step 1\nPour the flour into a bowl\nStep 2\nAdd sugar, cinnamon baking and mix\nStep 3\nAdd eggs and mix\nStep 4\nAdd a little oil and rub till golden brown\nStep 5\nWarm the milk and water together and add to the mixture\nStep 6\nKnead the dough for 2minutes\nStep 7\nCover the dough for 30minutes\nStep 8\nSpread it in a flat surface and cut it into pieces of your choice\nStep 9\nDeep fry until golden brown\nStep 10\nServe it hot\n",
         "2.0",
         "955",
         "220",
         "160",
         "47",
         "278",
         "98",
         "262"
        ],
        [
         "30",
         "African beef stew",
         "60",
         "Ingredients\n250 grams beef\n1/2 cup peas\n3 potatoes\n1 carrot\n1 tomato\n1 beef cube",
         "Step 1\nBoil the beef till tender and save the broth\nStep 2\nFry the onions till brown n add tomatoes.\nStep 3\nAdd potatoes, meat, broth, peas n let simmer\nStep 4\nSeason n serve",
         "4.0",
         "784",
         "228",
         "239",
         "5",
         "273",
         "276",
         "78"
        ],
        [
         "31",
         "Muthokoi",
         "120",
         "Yellow beans a half a kilo. Uncoated maize grains also a half a kilo. Add salt to test",
         "For the final cooking method \"karanga\". Fry the onions with oil and tomato to make a fine greesy source for mixing in the boiled muthokoi",
         "3.0",
         "509",
         "148",
         "222",
         "141",
         "196",
         "79",
         "266"
        ],
        [
         "32",
         "Wet fry beef & Chinsaga (African Spider plant)",
         "60",
         "Beef\nGinger\nGarlic\nSalt\nTomatoes\nOnions",
         "Step 1\nPrepare your ingredients while the meat is boiling\nStep 2\nAdd water to the beef and let it boil some more then drain the excess water (broth) into a bowl\nStep 3\nAdd some cooking oil into the meat and let it cook slightly before adding your onions\nStep 4\nLater add in the ginger and garlic mixture and let it cook for minute\nStep 5\nThen add in the tomatoes and salt...let it cook\nStep 6\nYou can serve at this point or add in the broth to have soup if you prefer soup\nWhen done serve with greens of your choice and ugali or any other accompaniment\nStep 8\nEnjoy",
         "4.0",
         "261",
         "237",
         "90",
         "288",
         "157",
         "221",
         "60"
        ],
        [
         "33",
         "Fried pork with ugali",
         "50",
         "Ingredients\n1/2 kg pork\nOnions\nGarlic\nCayenne\nSalt to taste\nDhania",
         "Cooking Instructions\nStep 1\nBoil the meat till tender\nStep 2\nOnce dry, in the same sufuria add the onions and garlic and continue stirring since the meat will be draining its oil. Cook on low heat\nStep 3\nSalt and once browned, garnish with dhania and allow to cool serve hot with ugali",
         "3.0",
         "103",
         "255",
         "297",
         "165",
         "192",
         "257",
         "168"
        ],
        [
         "34",
         "African beef stew",
         "60",
         "1/2 kg beef\nMixed vegetables. Potatoes, courgettes, onions, tomatoes,\nAssorted bell peppers. Can do as many vegetables as you want\n2 pcs carrots\n2 tbsps grated garlic n ginger\nto taste Salt\n1 tbs cooking oil\nFresh chillies (optional)",
         "Step 1\nBring your beef to boil.\nStep 2\nClean all your vegetables and chop them accordingly.\nStep 3\nIn a sufuria add cooking oil n heat abit.\nStep 4\nAdd onions n brown them.\nStep 5\nAdd garlic, ginger,salt n mix.\nStep 6\nAdd some chopped tomatoes. Can do some tomato paste as well.\nStep 7\nAdd your beef n mix well.\nStep 8\nAdd potatoes n let them cook. No over cooking of potatoes.\nStep 9\nAdd some little water then reduce the heat.\nStep 10\nWhen almost ready, add carrots. Cook for 10 mins then add other vegetables like courgettes n bell peppers.\nStep 11\nMix well then put off the heat. Cover the sufuria for 5 mins.\nStep 12\nServe when ready with any accompaniments. Mine was just beef.\n",
         "4.0",
         "521",
         "242",
         "193",
         "214",
         "269",
         "186",
         "290"
        ],
        [
         "35",
         "Tumbukiza beef with peas\n",
         "60",
         "Ingredients\n1/2 kg beef\nPeas\nDhania, Chopped\nHoho, chopped\nOnions, chopped\nGarlic, grated\nginger, grated\nsalt to taste\nTomatoes, chopped\nblack pepper\nCayenne\nSoy sauce",
         "Cooking Instructions\nStep 1\nWash meat and bring to boil. Put enough water\nStep 2\nAdd garlic, onions and ginger.add the tomatoes and salt. Add the peas\nStep 3\nNow put in the spices and soy sauce\nStep 4\nOnce the water reduces totally and beef is cooked, add the dhania and hoho. Allow the meat to cool\nStep 5\nServe hot. Enjoy with any dish of choice",
         "4.0",
         "627",
         "33",
         "114",
         "298",
         "292",
         "152",
         "106"
        ],
        [
         "36",
         "African pork sausage",
         "10",
         "2 tablespoon cooking oil\n2 whole pork sausage",
         "Step 1\nHeat cooking oil in a pan\nStep 2\nPut sausage and let it cook while turning after 2 second till it turns golden brown\nStep 3\nServe hot with kachumbari",
         "4.0",
         "779",
         "185",
         "27",
         "8",
         "169",
         "110",
         "123"
        ],
        [
         "37",
         "East African Swahili biryani",
         "75",
         "4-5 chicken pieces \n2 chopped tomatoes \nSalt to taste \n5 onions chopped \n2 green chillies chopped\n11/2 tbsp ready made tomato paste \n1 tsp sugar\n1 tbsp cumin powder\n1 tsp cinnamon powder\n1/4 tsp cloves powder\n1 tsp cardamom powder\n1 tsp black pepper powder\n1 tbsp ginger- garlic paste 🧄\n1/2 cup yogurt\n2 tbsp chopped coriander leaves\n4 Potatoes for chips\n3 tbsp ghee\n1 tsp kashmiri red chillies powder 🌶️\n1/2 tsp coriander & cumin powder\n11/2 tsp turmeric powder\n2 tbsp fried onions 🧅\n2 cups basmati rice 🍚\n1 tsp cumin seeds, 1 black cardamom, 4-5 small cardamom\n1-2 cinnamon stick, 3-4 cloves, 1 bay leaf\n2 leaves of star anise, 1/2 tsp black pepper corns\nFew strands of saffron for garnish",
         "Step 1\nWash and peel potatoes , cut potatoes into chips, deep fry them until done, keep aside.\nStep 2\nFor white  rice : boil water, add whole spices,salt, let them boil for 5 mins, add 1 cup rice, cook until rice is done, keep aside.\nStep 3\nFor yellow rice: heat oil, add cumin seeds when start to crackle, add turmeric powder, salt mix well\nStep 4\nFor gravy: in a heavy bottom pan, add ghee, when hot add cumin seeds, when start to crackle, chopped onions cook until golden brown, add ginger- garlic paste mix well, cook for 1 min.\nStep 5\nAdd chopped tomatoes , salt , chopped green chillies, ready made tomato paste  and mix, cook for 1 min, when oil comes out, add chicken pieces mix, add sugar, grounds spices (cumin powder, cinnamon powder, cloves powder, black pepper powder) and mix well and cook for 2 mins.\nStep 6\nAdd kashmiri red chillies powder , turmeric powder coriander & cumin powder, yogurt, little water mix well, cover and cook until chicken is tender and gravy is thick. Remove from the flame, keep aside.\nStep 7\nNote: you can cut potatoes into half and deep fry them, I have used potatoes  chips in my version and always I used some of Indian spices for enhance the flavor.\nStep 8\nTo assemble the biryani: mix both rice,add fried onions  and chopped green coriander leaves and mix gently,take your serving dish and add rice, on top add chicken pieces, pour hot gravy, spread little fried onions  and chopped coriander leaves, on side of your dish add fried chips and serve hot.\nStep 9\nTip: add remaining gravy in small bowls and serve individually with biryani,if you like.",
         "1.0",
         "299",
         "63",
         "44",
         "277",
         "128",
         "164",
         "299"
        ],
        [
         "38",
         "Boiled African Beef Stew",
         "50",
         "1/2 kg fresh beef on bone\n2 onions\n2 Tomatoes\n5 pcs potatoes\n1 pc leek\n2 cloves crushed/ grated garlic\n2 pcs carrots\n1 courgett\nCan add as many veges as you can such as assorted Bell peppers, dhania etc",
         "Step 1\nClean your beef.\nStep 2\nPut it in a sufuria, add salt n some garlic, 1 pc tomato n 1 pc onion. Leave some garlic, tomato n onion to add it later while your beef is almost ready.\nStep 3\nMix them well for like 15 mins on a low heat.\nStep 4\nAdd water in it and bring to boil.\nStep 5\nAs you boil it, prepare your vegetables by cleaning, peeling n dicing them accordingly.\nStep 6\nDepending on how your soft or tough your beef is, when 3/4 done, add your potatoes n let them boil together till ready. Let them cook n not mash. Taste salt n make sure it has enough soup (optional).\nStep 7\n5 mins before you are done with your beef, add carrots, courgettes, garlic, tomatoes n onions that your left behind. Put off the heat n let your meal cool ready for service. Can add dhania, fresh chilli at this point if need be.\nStep 8\nServe at your own leisure with any accompaniment of your choice or just like that. Enjoy.\n",
         "3.0",
         "199",
         "64",
         "2",
         "93",
         "266",
         "90",
         "258"
        ],
        [
         "39",
         "Beans stew",
         "60",
         "2 and half cup boiled beans\n1 medium size garlic\n4 small bulb onions\n250 mls blended tomatoes\nCooking oil\nSalt\n4 glasses clean water",
         "Step 1\nPrepare your ingredients and the cooking area\nStep 2\nDice your onions, grind ginger and blend your tomatoes.\n\nStep 3\nBring the onions fry in cooking oil.\nAdd your ground ginger to fry with the onions\nThis is exactly golden brown that I do talk about, \nI wish I could capture the aroma\nStep 4\nAdd your blended tomatoes. Stir\nCover snd let cook for 3mins to form a paste\nStep 5\nAdd the boiled beans ensure the beans are boiled well, I boiled mine using the smart pressure cooker\nTo form a thick bean stew mash the beans slightly, not all the beans but a cooking spoon\nStep 6\nAdd 3 cups water to your beans, salt to taste.\nStir to mix well and cover.\nLet it cook for 5 mins\nStep 7\nMy mum once told me to always ensure there is no foam in my cooked bean stew,\nThat's always an indicator of a well cooked bean stew\nStir and let cook till this kind of foam is gone.\nStep 8\nIn 5-10 mins on moderate heat, your bean stew will be ready.\nI love beans with chapati, but today I'll do rice \nStep 9\nServe hot and enjoy\n\n",
         "4.0",
         "403",
         "268",
         "260",
         "16",
         "264",
         "267",
         "138"
        ],
        [
         "40",
         "African Kale (kunde)",
         "20",
         "Cooking oil\nSalt\n1 full onion\nMilk\n3 full tomatoes",
         "Step 1\nBlunch the kale for about 5 mins\nStep 2\nFry onions on another sufuria till golden brown\nStep 3\nAdd tomatoes to the golden brown onions and cook for a while\nStep 4\nAfter the onion and the tomatoes has become soft and fine add salt\nstep 5\nAdd kales and cover for a while before adding milk\nStep 6\nAfter it has boil for 5 mins add milk then cover for some 5 mins then serve with hot ugali",
         "4.0",
         "808",
         "7",
         "269",
         "0",
         "254",
         "220",
         "146"
        ],
        [
         "41",
         "African cookies",
         "30",
         "500 g flour (white maize flour)\n1 1/2 cups clean water\n3 teaspoonfuls of sugar\n1 pinch salt\nCooking oil",
         "Step 1\nMix flour with sugar and salt.\nStep 2\nAdd water and make thick paste.\nStep 3\nMake small balls with your paste\nStep 4\nPut oil in a cooking pot... For deep fry (the amount of oil depends on how many balls you got) let it cook for 7mins.\nStep 5\nFry the cookie balls in the pot. Notice the colour change to golden brown.\nStep 6\nServe hot with your favourite drink.",
         "3.0",
         "333",
         "30",
         "271",
         "187",
         "252",
         "27",
         "194"
        ],
        [
         "42",
         "African dagaa (sardines)",
         "60",
         "50 gms African dagaa (sardines)\n2 tbsp plain yoghurt\n2 small size onions finely chopped \n1 small size finely chopped \n1/2 \" finely chopped ginger\n5 garlic cloves finely chopped \n2 green chillies finely chopped\n1 tbsp coriander leaves finely chopped\n1 tsp cumin seeds\nSalt to taste \n2 tbsp sunflower oil \n1 /2 tsp kashmiri red chillies powder \n1/2 tsp coriander & cumin powder\n1/4 tsp turmeric powder",
         "Step 1\nHeat sunflower oil , add cumin seeds, when start to crackle add finely chopped onions , stir.\nStep 2\nAdd finely chopped ginger and garlic , green chilies and mix, add finely chopped  tomato, salt🧂, cook until oil comes out, add all the spices, kashmiri red chillies powder , turmeric powder, coriander & cumin powder, little finely chopped coriander leaves mix it well, add plain yoghurt, cook for 2 mins on medium heat, add dagaa mix well.\nStep 3\nJust cook for 1 min and serve hot, garnish with finely chopped coriander leaves.\nStep 4\nServe with wali (plain rice/ coconut  rice), ugali.",
         "1.0",
         "408",
         "286",
         "201",
         "238",
         "70",
         "265",
         "26"
        ],
        [
         "43",
         "Managu (African nightshade)",
         "30",
         "Managu\nOnions\nTomatoes\nSalt\nCooking oil",
         "Step 1\nCarefully select your managu to ensure it's clean\nStep 2\nWash with plenty water\nStep 3\nBoil for some minutes\nStep 4\nFry onions and tomatoes... Add salt to taste\nStep 5\nAdd the managu and cook for a few minutes...to reduce managu's bitterness you can either add spinach or terere(amaranths)\nStep 6\nServe with ugali",
         "4.0",
         "308",
         "95",
         "66",
         "185",
         "274",
         "51",
         "269"
        ],
        [
         "44",
         "African mashed potatoes",
         "45",
         "6 large potatoes\n3 large arrowroots\n5 green bananas\nCooking oil\n1 large onion",
         "Step 1\nPeel the potatoes, arrowroots, and bananas.\nStep 2\nWash them\nStep 3\nFry the onion till golden brown.\nStep 4\nAdd the potatoes,arrowroots and bananas.\nStep 5\nCover them till they are cooked\nStep 6\nMash them.\nStep 7\nServe with vegetable salad.",
         "3.0",
         "495",
         "143",
         "202",
         "127",
         "38",
         "7",
         "67"
        ],
        [
         "45",
         "African kales",
         "10",
         "Kales freshly cut\nOil\nRed onions 1 large\n3 tomatoes well chopped",
         "Step 1\nFry the onions in oil until golden brown.\nAdd garlic\nAdd salt\nStep 2\nAdd the tomatoes.\nAdd any spices of your choice for me I prefer turmeric, coriander powder and royco cubes.\nStep 3\nCover for one minute to cook\nStep 4\nMix well to get a consistent mixture of the tomatoes.\nStep 5\nAdd the kales\nMix well on medium heat\nStep 6\nServe with your preferred dish\nUgali, chapati\nEnjoy",
         "1.0",
         "498",
         "270",
         "165",
         "86",
         "94",
         "49",
         "150"
        ],
        [
         "46",
         "African polenta (ngunja matu)",
         "20",
         "2 cups maize flour\n1/4 cup boiled beans\nBunch pumpkin leave's\nWater\nto taste Salt\nBlue band\n1 big onion",
         "Step 1\nChop the onion and the pumpkin leaves\nStep 2\nFry the onion with the blue band until golden brown\nStep 3\nAdd the pumpkin leaves cook for 1 minute then put salt to taste\nStep 4\nAdd the boiled bean's and stir\nStep 5\nAdd enough water and let it boil\nStep 6\nAdd the maize flour and stir until it hardens\nStep 7\nCook under moderate heat for ten minutes\nStep 8\nServe with stirrifried cabbage's",
         "3.0",
         "695",
         "172",
         "190",
         "130",
         "269",
         "279",
         "175"
        ],
        [
         "47",
         "African sausage(mutura) served with salad",
         "45",
         "Matumbo minced\nDhania\nSalt\nPepper",
         "Step 1\nWash and boil matumbo\nStep 2\nAdd onions and dhania and salt\nStep 3\nAdd pepper aswell\nStep 4\nTake the intenstines and suck the matumbo in.\nStep 5\nPut them on a grill and smoke till ready",
         "1.0",
         "393",
         "71",
         "15",
         "268",
         "267",
         "270",
         "95"
        ],
        [
         "48",
         "Soft layered East African Carrot Chapati",
         "120",
         "6 cups all-purpose flour for the dough\n1/4 cup sugar\n1 grated carrot\n1 tbsp salt\n2 1/4 cups warm water\n4 tbsp vegetable oil for the dough\n1 cup all-purpose flour for dusting\n1 1/2 cup vegetable oil for cooking and dough spread",
         "Step 1\nMix the flour, sugar, grated carrot and salt in a mixing bowl. In another container mix water and vegetable oil.\nStep 2\nAdd the water gradually in the dry ingredients mixing with your hands or a dough mixer if you have one until you get a very nice soft dough and ensure it doesn't stick on your hand.\nStep 3\nWhen you get that nice dough, coat it with oil and flour and it's now ready to work with.(The dough made 25 chapatis).\nStep 4\nDivide the dough in five portions to work with each at ease. With each portion, roll out the dough until its very thin and spread oil then divide in five equal parts.\nStep 5\nRoll each part lengthwise then roll to form a coil kinda shape and tuck in the end. Arrange the coils in a systematic way and then cover them using a kitchen towel. If you feel the coil is a little bit too much, cut it, and if you feel it's small add from any coil you've cut.\nStep 6\nHeat your pan and then start rolling out each coil forming a nice round shape\nStep 7\nIn a hot pan, place the rolled out round dough and let it cook for about 10 seconds each side with 4 flips without oil. Now spread oil each side at a time and let it cook. Put the chapatis in a hotpot or the storage container you prefer using.\nStep 8\nRepeat the rolling out and cooking process to the rest of dough coils.\nStep 9\nOnce you're done, serve when hot with your best stew. Enjoyyy.",
         "3.0",
         "894",
         "236",
         "234",
         "206",
         "244",
         "247",
         "168"
        ],
        [
         "49",
         "Wukunu (Sweet Potatoes & Dehulled Black Beans)",
         "60",
         "Ingredients\n2¼ cups (384 g) black beans, dolichos\nlablab, raw, dry\n7 sweet potatoes, unpeeled, pink skin,\nraw (1.8 kg)\n13½ cups (2946 g) water\n2 tsp. (11 g) salt, iodized",
         "Preparation 15 minutes | Cooking 2 hours 30 minutes | Serves 4\n• Sort the black beans and wash.\n• Boil the beans in 9 cups of water for 1 hour 20 minutes (or until almost cooked).\n• While the beans boil, peel the sweet potatoes and\nset aside covered with water.\n• Remove the boiled beans from fire and set aside to\ncool.\n• Once cool enough to handle, shell the beans\n(remove the outer skin)/ you can also blanch after\ncooling the beans to make shelling easier.\n• Put the shelled black beans into a pot, add 4 ½\ncups of water and boil for 4 minutes.\n• Add the peeled sweet potatoes, salt and boil for 50\nminutes or until the sweet potatoes are tender\n• Remove from fire and mash to a smooth consistency.\n• Serve. ",
         "1.0",
         "896",
         "171",
         "298",
         "257",
         "165",
         "145",
         "162"
        ]
       ],
       "shape": {
        "columns": 12,
        "rows": 206
       }
      },
      "text/html": [
       "<div>\n",
       "<style scoped>\n",
       "    .dataframe tbody tr th:only-of-type {\n",
       "        vertical-align: middle;\n",
       "    }\n",
       "\n",
       "    .dataframe tbody tr th {\n",
       "        vertical-align: top;\n",
       "    }\n",
       "\n",
       "    .dataframe thead th {\n",
       "        text-align: right;\n",
       "    }\n",
       "</style>\n",
       "<table border=\"1\" class=\"dataframe\">\n",
       "  <thead>\n",
       "    <tr style=\"text-align: right;\">\n",
       "      <th></th>\n",
       "      <th>name</th>\n",
       "      <th>minutes</th>\n",
       "      <th>ingredients</th>\n",
       "      <th>steps</th>\n",
       "      <th>Serving</th>\n",
       "      <th>calories</th>\n",
       "      <th>total fat (PDV)</th>\n",
       "      <th>sugar (PDV)</th>\n",
       "      <th>sodium (PDV)</th>\n",
       "      <th>protein (PDV)</th>\n",
       "      <th>saturated fat (PDV)</th>\n",
       "      <th>carbohydrates (PDV)</th>\n",
       "    </tr>\n",
       "  </thead>\n",
       "  <tbody>\n",
       "    <tr>\n",
       "      <th>0</th>\n",
       "      <td>Ugali and omena</td>\n",
       "      <td>30</td>\n",
       "      <td>Maize flour\\nOmena\\nOil\\n3 chopped tomatoes\\nC...</td>\n",
       "      <td>Step 1\\nBoil 3 cups of water add maize flour s...</td>\n",
       "      <td>4.0</td>\n",
       "      <td>91</td>\n",
       "      <td>30</td>\n",
       "      <td>203</td>\n",
       "      <td>29</td>\n",
       "      <td>192</td>\n",
       "      <td>172</td>\n",
       "      <td>182</td>\n",
       "    </tr>\n",
       "    <tr>\n",
       "      <th>1</th>\n",
       "      <td>Kienyeji fried</td>\n",
       "      <td>25</td>\n",
       "      <td>1 table spoon salt\\n2 table spoon cooking vege...</td>\n",
       "      <td>Asemble the vegetables.\\nPluck leaves from the...</td>\n",
       "      <td>1.0</td>\n",
       "      <td>230</td>\n",
       "      <td>173</td>\n",
       "      <td>247</td>\n",
       "      <td>196</td>\n",
       "      <td>87</td>\n",
       "      <td>200</td>\n",
       "      <td>239</td>\n",
       "    </tr>\n",
       "    <tr>\n",
       "      <th>2</th>\n",
       "      <td>dengu Chapati</td>\n",
       "      <td>30</td>\n",
       "      <td>Ndengu\\ncubes congets diced in\\ncubes carrots ...</td>\n",
       "      <td>Step 1\\nSteam the mince meat and add oil then ...</td>\n",
       "      <td>4.0</td>\n",
       "      <td>138</td>\n",
       "      <td>211</td>\n",
       "      <td>131</td>\n",
       "      <td>260</td>\n",
       "      <td>84</td>\n",
       "      <td>75</td>\n",
       "      <td>275</td>\n",
       "    </tr>\n",
       "    <tr>\n",
       "      <th>3</th>\n",
       "      <td>Ugali matumbo ft african salad</td>\n",
       "      <td>60</td>\n",
       "      <td>400 g Maize flour \\n20 g Onions \\n11/2 kgMatum...</td>\n",
       "      <td>Step 1 Bring the water to boil, add the maize ...</td>\n",
       "      <td>4.0</td>\n",
       "      <td>365</td>\n",
       "      <td>259</td>\n",
       "      <td>71</td>\n",
       "      <td>255</td>\n",
       "      <td>205</td>\n",
       "      <td>20</td>\n",
       "      <td>57</td>\n",
       "    </tr>\n",
       "    <tr>\n",
       "      <th>4</th>\n",
       "      <td>Chicken stew</td>\n",
       "      <td>60</td>\n",
       "      <td>Boiled chicken\\n2 Red onion\\n1 Spring onion\\n4...</td>\n",
       "      <td>Step 1Boil 1 diced potato and 1 diced carrot\\...</td>\n",
       "      <td>2.0</td>\n",
       "      <td>171</td>\n",
       "      <td>35</td>\n",
       "      <td>221</td>\n",
       "      <td>109</td>\n",
       "      <td>219</td>\n",
       "      <td>210</td>\n",
       "      <td>125</td>\n",
       "    </tr>\n",
       "    <tr>\n",
       "      <th>...</th>\n",
       "      <td>...</td>\n",
       "      <td>...</td>\n",
       "      <td>...</td>\n",
       "      <td>...</td>\n",
       "      <td>...</td>\n",
       "      <td>...</td>\n",
       "      <td>...</td>\n",
       "      <td>...</td>\n",
       "      <td>...</td>\n",
       "      <td>...</td>\n",
       "      <td>...</td>\n",
       "      <td>...</td>\n",
       "    </tr>\n",
       "    <tr>\n",
       "      <th>201</th>\n",
       "      <td>Traditional South African Bobotie</td>\n",
       "      <td>75</td>\n",
       "      <td>Mince filling:\\n60 ml butter\\n20 ml ground gin...</td>\n",
       "      <td>Step 1\\nPreheat oven to 180°F celcius\\nStep 2\\...</td>\n",
       "      <td>4.0</td>\n",
       "      <td>632</td>\n",
       "      <td>201</td>\n",
       "      <td>259</td>\n",
       "      <td>229</td>\n",
       "      <td>85</td>\n",
       "      <td>91</td>\n",
       "      <td>215</td>\n",
       "    </tr>\n",
       "    <tr>\n",
       "      <th>202</th>\n",
       "      <td>My African salad</td>\n",
       "      <td>10</td>\n",
       "      <td>2 cups dried abacha\\n1/2 cube seasoning\\n2 tea...</td>\n",
       "      <td>Step 1\\nGet a bowl and soak the dried abacha i...</td>\n",
       "      <td>3.0</td>\n",
       "      <td>975</td>\n",
       "      <td>49</td>\n",
       "      <td>139</td>\n",
       "      <td>15</td>\n",
       "      <td>200</td>\n",
       "      <td>193</td>\n",
       "      <td>219</td>\n",
       "    </tr>\n",
       "    <tr>\n",
       "      <th>203</th>\n",
       "      <td>Sweet mandazi</td>\n",
       "      <td>60</td>\n",
       "      <td>500 g White flour -\\n250 ml Milk -\\n20 g Bakin...</td>\n",
       "      <td>Step 1\\nIn a bowl, add sieved flour, sugar, ba...</td>\n",
       "      <td>4.0</td>\n",
       "      <td>786</td>\n",
       "      <td>91</td>\n",
       "      <td>294</td>\n",
       "      <td>43</td>\n",
       "      <td>271</td>\n",
       "      <td>192</td>\n",
       "      <td>135</td>\n",
       "    </tr>\n",
       "    <tr>\n",
       "      <th>204</th>\n",
       "      <td>Roasted Guinea fowl parts\\nUmmul-khairi Ahmed</td>\n",
       "      <td>60</td>\n",
       "      <td>Guinea fowl parts\\nchilli powder\\nStar anice p...</td>\n",
       "      <td>Step 1\\nWash ur Guinea fawl parts and allow it...</td>\n",
       "      <td>4.0</td>\n",
       "      <td>277</td>\n",
       "      <td>135</td>\n",
       "      <td>296</td>\n",
       "      <td>180</td>\n",
       "      <td>25</td>\n",
       "      <td>252</td>\n",
       "      <td>213</td>\n",
       "    </tr>\n",
       "    <tr>\n",
       "      <th>205</th>\n",
       "      <td>Pigeon Peas Mukimo</td>\n",
       "      <td>120</td>\n",
       "      <td>1.5 Cups Pigeon Peas /Mbaazi\\n1 Red onion\\n500...</td>\n",
       "      <td>Step 1\\nSoak the pigeon peas for 8+ hours then...</td>\n",
       "      <td>3.0</td>\n",
       "      <td>860</td>\n",
       "      <td>222</td>\n",
       "      <td>209</td>\n",
       "      <td>47</td>\n",
       "      <td>103</td>\n",
       "      <td>213</td>\n",
       "      <td>48</td>\n",
       "    </tr>\n",
       "  </tbody>\n",
       "</table>\n",
       "<p>206 rows × 12 columns</p>\n",
       "</div>"
      ],
      "text/plain": [
       "                                              name minutes  \\\n",
       "0                                  Ugali and omena      30   \n",
       "1                                   Kienyeji fried      25   \n",
       "2                                    dengu Chapati      30   \n",
       "3                   Ugali matumbo ft african salad      60   \n",
       "4                                     Chicken stew      60   \n",
       "..                                             ...     ...   \n",
       "201              Traditional South African Bobotie      75   \n",
       "202                               My African salad      10   \n",
       "203                                  Sweet mandazi      60   \n",
       "204  Roasted Guinea fowl parts\\nUmmul-khairi Ahmed      60   \n",
       "205                             Pigeon Peas Mukimo     120   \n",
       "\n",
       "                                           ingredients  \\\n",
       "0    Maize flour\\nOmena\\nOil\\n3 chopped tomatoes\\nC...   \n",
       "1    1 table spoon salt\\n2 table spoon cooking vege...   \n",
       "2    Ndengu\\ncubes congets diced in\\ncubes carrots ...   \n",
       "3    400 g Maize flour \\n20 g Onions \\n11/2 kgMatum...   \n",
       "4    Boiled chicken\\n2 Red onion\\n1 Spring onion\\n4...   \n",
       "..                                                 ...   \n",
       "201  Mince filling:\\n60 ml butter\\n20 ml ground gin...   \n",
       "202  2 cups dried abacha\\n1/2 cube seasoning\\n2 tea...   \n",
       "203  500 g White flour -\\n250 ml Milk -\\n20 g Bakin...   \n",
       "204  Guinea fowl parts\\nchilli powder\\nStar anice p...   \n",
       "205  1.5 Cups Pigeon Peas /Mbaazi\\n1 Red onion\\n500...   \n",
       "\n",
       "                                                 steps  Serving  calories  \\\n",
       "0    Step 1\\nBoil 3 cups of water add maize flour s...      4.0        91   \n",
       "1    Asemble the vegetables.\\nPluck leaves from the...      1.0       230   \n",
       "2    Step 1\\nSteam the mince meat and add oil then ...      4.0       138   \n",
       "3    Step 1 Bring the water to boil, add the maize ...      4.0       365   \n",
       "4     Step 1Boil 1 diced potato and 1 diced carrot\\...      2.0       171   \n",
       "..                                                 ...      ...       ...   \n",
       "201  Step 1\\nPreheat oven to 180°F celcius\\nStep 2\\...      4.0       632   \n",
       "202  Step 1\\nGet a bowl and soak the dried abacha i...      3.0       975   \n",
       "203  Step 1\\nIn a bowl, add sieved flour, sugar, ba...      4.0       786   \n",
       "204  Step 1\\nWash ur Guinea fawl parts and allow it...      4.0       277   \n",
       "205  Step 1\\nSoak the pigeon peas for 8+ hours then...      3.0       860   \n",
       "\n",
       "     total fat (PDV)  sugar (PDV)  sodium (PDV)  protein (PDV)  \\\n",
       "0                 30          203            29            192   \n",
       "1                173          247           196             87   \n",
       "2                211          131           260             84   \n",
       "3                259           71           255            205   \n",
       "4                 35          221           109            219   \n",
       "..               ...          ...           ...            ...   \n",
       "201              201          259           229             85   \n",
       "202               49          139            15            200   \n",
       "203               91          294            43            271   \n",
       "204              135          296           180             25   \n",
       "205              222          209            47            103   \n",
       "\n",
       "     saturated fat (PDV)  carbohydrates (PDV)  \n",
       "0                    172                  182  \n",
       "1                    200                  239  \n",
       "2                     75                  275  \n",
       "3                     20                   57  \n",
       "4                    210                  125  \n",
       "..                   ...                  ...  \n",
       "201                   91                  215  \n",
       "202                  193                  219  \n",
       "203                  192                  135  \n",
       "204                  252                  213  \n",
       "205                  213                   48  \n",
       "\n",
       "[206 rows x 12 columns]"
      ]
     },
     "execution_count": 20,
     "metadata": {},
     "output_type": "execute_result"
    }
   ],
   "source": [
    "African_recipes"
   ]
  },
  {
   "cell_type": "code",
   "execution_count": 21,
   "metadata": {},
   "outputs": [
    {
     "name": "stderr",
     "output_type": "stream",
     "text": [
      "C:\\Users\\Admin\\AppData\\Local\\Temp\\ipykernel_21508\\423533099.py:5: SettingWithCopyWarning: \n",
      "A value is trying to be set on a copy of a slice from a DataFrame.\n",
      "Try using .loc[row_indexer,col_indexer] = value instead\n",
      "\n",
      "See the caveats in the documentation: https://pandas.pydata.org/pandas-docs/stable/user_guide/indexing.html#returning-a-view-versus-a-copy\n",
      "  African_recipies['name'] = African_recipies['name'].str.lower().str.strip()\n"
     ]
    }
   ],
   "source": [
    "# Remove duplicate recipes based on the name\n",
    "African_recipies = African_recipes.drop_duplicates(subset='name', keep='first')\n",
    "\n",
    "# Standardize similar names\n",
    "African_recipies['name'] = African_recipies['name'].str.lower().str.strip()"
   ]
  },
  {
   "cell_type": "markdown",
   "metadata": {},
   "source": [
    "# Recipies Data"
   ]
  },
  {
   "cell_type": "code",
   "execution_count": 22,
   "metadata": {},
   "outputs": [],
   "source": [
    "# Getting only the important columns\n",
    "columns_to_drop = ['contributor_id', 'submitted', 'description', 'n_steps', 'n_ingredients']\n",
    "International_recipes = International_recipes.drop(columns=columns_to_drop)"
   ]
  },
  {
   "cell_type": "code",
   "execution_count": 23,
   "metadata": {},
   "outputs": [
    {
     "name": "stdout",
     "output_type": "stream",
     "text": [
      "<class 'pandas.core.frame.DataFrame'>\n",
      "RangeIndex: 231637 entries, 0 to 231636\n",
      "Data columns (total 7 columns):\n",
      " #   Column       Non-Null Count   Dtype \n",
      "---  ------       --------------   ----- \n",
      " 0   name         231636 non-null  object\n",
      " 1   id           231637 non-null  int64 \n",
      " 2   minutes      231637 non-null  int64 \n",
      " 3   tags         231637 non-null  object\n",
      " 4   nutrition    231637 non-null  object\n",
      " 5   steps        231637 non-null  object\n",
      " 6   ingredients  231637 non-null  object\n",
      "dtypes: int64(2), object(5)\n",
      "memory usage: 12.4+ MB\n"
     ]
    }
   ],
   "source": [
    "# Getting info of the data\n",
    "International_recipes.info()"
   ]
  },
  {
   "cell_type": "code",
   "execution_count": 24,
   "metadata": {},
   "outputs": [],
   "source": [
    "# Splitting the nutrition column into individual nutrients\n",
    "International_recipes[['calories', 'total fat (PDV)', 'sugar (PDV)', 'sodium (PDV)', 'protein (PDV)', 'saturated fat (PDV)', 'carbohydrates (PDV)']] = International_recipes['nutrition'].str.split(\",\", expand=True)\n",
    "\n",
    "# Removing extra characters from specific columns\n",
    "International_recipes['calories'] = International_recipes['calories'].str.replace(r'\\[', '', regex=True)\n",
    "International_recipes['carbohydrates (PDV)'] = International_recipes['carbohydrates (PDV)'].str.replace(r'\\]', '', regex=True)"
   ]
  },
  {
   "cell_type": "code",
   "execution_count": 25,
   "metadata": {},
   "outputs": [],
   "source": [
    "# Droping the nutrients column\n",
    "International_recipes.drop(['nutrition'], axis=1, inplace=True)"
   ]
  },
  {
   "cell_type": "code",
   "execution_count": 26,
   "metadata": {},
   "outputs": [
    {
     "data": {
      "text/plain": [
       "name                   object\n",
       "id                      int64\n",
       "minutes                 int64\n",
       "tags                   object\n",
       "steps                  object\n",
       "ingredients            object\n",
       "calories               object\n",
       "total fat (PDV)        object\n",
       "sugar (PDV)            object\n",
       "sodium (PDV)           object\n",
       "protein (PDV)          object\n",
       "saturated fat (PDV)    object\n",
       "carbohydrates (PDV)    object\n",
       "dtype: object"
      ]
     },
     "execution_count": 26,
     "metadata": {},
     "output_type": "execute_result"
    }
   ],
   "source": [
    "International_recipes.dtypes"
   ]
  },
  {
   "cell_type": "code",
   "execution_count": 27,
   "metadata": {},
   "outputs": [],
   "source": [
    "numeric_columns = ['calories', 'total fat (PDV)', 'sugar (PDV)', 'sodium (PDV)', \n",
    "                    'protein (PDV)', 'saturated fat (PDV)', 'carbohydrates (PDV)']\n",
    "\n",
    "International_recipes[numeric_columns] = International_recipes[numeric_columns].apply(pd.to_numeric, errors='coerce')"
   ]
  },
  {
   "cell_type": "code",
   "execution_count": 28,
   "metadata": {},
   "outputs": [
    {
     "data": {
      "application/vnd.microsoft.datawrangler.viewer.v0+json": {
       "columns": [
        {
         "name": "index",
         "rawType": "int64",
         "type": "integer"
        },
        {
         "name": "name",
         "rawType": "object",
         "type": "string"
        },
        {
         "name": "id",
         "rawType": "int64",
         "type": "integer"
        },
        {
         "name": "minutes",
         "rawType": "int64",
         "type": "integer"
        },
        {
         "name": "tags",
         "rawType": "object",
         "type": "string"
        },
        {
         "name": "steps",
         "rawType": "object",
         "type": "string"
        },
        {
         "name": "ingredients",
         "rawType": "object",
         "type": "string"
        },
        {
         "name": "calories",
         "rawType": "float64",
         "type": "float"
        },
        {
         "name": "total fat (PDV)",
         "rawType": "float64",
         "type": "float"
        },
        {
         "name": "sugar (PDV)",
         "rawType": "float64",
         "type": "float"
        },
        {
         "name": "sodium (PDV)",
         "rawType": "float64",
         "type": "float"
        },
        {
         "name": "protein (PDV)",
         "rawType": "float64",
         "type": "float"
        },
        {
         "name": "saturated fat (PDV)",
         "rawType": "float64",
         "type": "float"
        },
        {
         "name": "carbohydrates (PDV)",
         "rawType": "float64",
         "type": "float"
        }
       ],
       "conversionMethod": "pd.DataFrame",
       "ref": "940328b6-125e-41db-905d-821693ea3cd3",
       "rows": [
        [
         "0",
         "arriba   baked winter squash mexican style",
         "137739",
         "55",
         "['60-minutes-or-less', 'time-to-make', 'course', 'main-ingredient', 'cuisine', 'preparation', 'occasion', 'north-american', 'side-dishes', 'vegetables', 'mexican', 'easy', 'fall', 'holiday-event', 'vegetarian', 'winter', 'dietary', 'christmas', 'seasonal', 'squash']",
         "['make a choice and proceed with recipe', 'depending on size of squash , cut into half or fourths', 'remove seeds', 'for spicy squash , drizzle olive oil or melted butter over each cut squash piece', 'season with mexican seasoning mix ii', 'for sweet squash , drizzle melted honey , butter , grated piloncillo over each cut squash piece', 'season with sweet mexican spice mix', 'bake at 350 degrees , again depending on size , for 40 minutes up to an hour , until a fork can easily pierce the skin', 'be careful not to burn the squash especially if you opt to use sugar or butter', 'if you feel more comfortable , cover the squash with aluminum foil the first half hour , give or take , of baking', 'if desired , season with salt']",
         "['winter squash', 'mexican seasoning', 'mixed spice', 'honey', 'butter', 'olive oil', 'salt']",
         "51.5",
         "0.0",
         "13.0",
         "0.0",
         "2.0",
         "0.0",
         "4.0"
        ],
        [
         "1",
         "a bit different  breakfast pizza",
         "31490",
         "30",
         "['30-minutes-or-less', 'time-to-make', 'course', 'main-ingredient', 'cuisine', 'preparation', 'occasion', 'north-american', 'breakfast', 'main-dish', 'pork', 'american', 'oven', 'easy', 'kid-friendly', 'pizza', 'dietary', 'northeastern-united-states', 'meat', 'equipment']",
         "['preheat oven to 425 degrees f', 'press dough into the bottom and sides of a 12 inch pizza pan', 'bake for 5 minutes until set but not browned', 'cut sausage into small pieces', 'whisk eggs and milk in a bowl until frothy', 'spoon sausage over baked crust and sprinkle with cheese', 'pour egg mixture slowly over sausage and cheese', 's& p to taste', 'bake 15-20 minutes or until eggs are set and crust is brown']",
         "['prepared pizza crust', 'sausage patty', 'eggs', 'milk', 'salt and pepper', 'cheese']",
         "173.4",
         "18.0",
         "0.0",
         "17.0",
         "22.0",
         "35.0",
         "1.0"
        ],
        [
         "2",
         "all in the kitchen  chili",
         "112140",
         "130",
         "['time-to-make', 'course', 'preparation', 'main-dish', 'chili', 'crock-pot-slow-cooker', 'dietary', 'equipment', '4-hours-or-less']",
         "['brown ground beef in large pot', 'add chopped onions to ground beef when almost brown and sautee until wilted', 'add all other ingredients', 'add kidney beans if you like beans in your chili', 'cook in slow cooker on high for 2-3 hours or 6-8 hours on low', 'serve with cold clean lettuce and shredded cheese']",
         "['ground beef', 'yellow onions', 'diced tomatoes', 'tomato paste', 'tomato soup', 'rotel tomatoes', 'kidney beans', 'water', 'chili powder', 'ground cumin', 'salt', 'lettuce', 'cheddar cheese']",
         "269.8",
         "22.0",
         "32.0",
         "48.0",
         "39.0",
         "27.0",
         "5.0"
        ],
        [
         "3",
         "alouette  potatoes",
         "59389",
         "45",
         "['60-minutes-or-less', 'time-to-make', 'course', 'main-ingredient', 'preparation', 'occasion', 'side-dishes', 'eggs-dairy', 'potatoes', 'vegetables', 'oven', 'easy', 'dinner-party', 'holiday-event', 'easter', 'cheese', 'stove-top', 'dietary', 'christmas', 'new-years', 'thanksgiving', 'independence-day', 'st-patricks-day', 'valentines-day', 'inexpensive', 'brunch', 'superbowl', 'equipment', 'presentation', 'served-hot']",
         "['place potatoes in a large pot of lightly salted water and bring to a gentle boil', 'cook until potatoes are just tender', 'drain', 'place potatoes in a large bowl and add all ingredients except the\"alouette\"', 'mix well and transfer to a buttered 8x8 inch glass baking dish with 2 inch sides', 'press the potatoes with a spatula to make top as flat as possible', 'set aside for 2 hours at room temperature', 'preheat oven to 350^f', 'spread\"alouette\" evenly over potatoes and bake 15 minutes', 'divide between plates', 'garnish with finely diced red and yellow bell peppers']",
         "['spreadable cheese with garlic and herbs', 'new potatoes', 'shallots', 'parsley', 'tarragon', 'olive oil', 'red wine vinegar', 'salt', 'pepper', 'red bell pepper', 'yellow bell pepper']",
         "368.1",
         "17.0",
         "10.0",
         "2.0",
         "14.0",
         "8.0",
         "20.0"
        ],
        [
         "4",
         "amish  tomato ketchup  for canning",
         "44061",
         "190",
         "['weeknight', 'time-to-make', 'course', 'main-ingredient', 'cuisine', 'preparation', 'occasion', 'north-american', 'canning', 'condiments-etc', 'vegetables', 'american', 'heirloom-historical', 'holiday-event', 'vegetarian', 'dietary', 'amish-mennonite', 'northeastern-united-states', 'number-of-servings', 'technique', '4-hours-or-less']",
         "['mix all ingredients& boil for 2 1 / 2 hours , or until thick', 'pour into jars', \"i use'old' glass ketchup bottles\", \"it is not necessary for these to'seal\", \"'my amish mother-in-law has been making this her entire life , and has never used a'sealed' jar for this recipe , and it's always been great !\"]",
         "['tomato juice', 'apple cider vinegar', 'sugar', 'salt', 'pepper', 'clove oil', 'cinnamon oil', 'dry mustard']",
         "352.9",
         "1.0",
         "337.0",
         "23.0",
         "3.0",
         "0.0",
         "28.0"
        ]
       ],
       "shape": {
        "columns": 13,
        "rows": 5
       }
      },
      "text/html": [
       "<div>\n",
       "<style scoped>\n",
       "    .dataframe tbody tr th:only-of-type {\n",
       "        vertical-align: middle;\n",
       "    }\n",
       "\n",
       "    .dataframe tbody tr th {\n",
       "        vertical-align: top;\n",
       "    }\n",
       "\n",
       "    .dataframe thead th {\n",
       "        text-align: right;\n",
       "    }\n",
       "</style>\n",
       "<table border=\"1\" class=\"dataframe\">\n",
       "  <thead>\n",
       "    <tr style=\"text-align: right;\">\n",
       "      <th></th>\n",
       "      <th>name</th>\n",
       "      <th>id</th>\n",
       "      <th>minutes</th>\n",
       "      <th>tags</th>\n",
       "      <th>steps</th>\n",
       "      <th>ingredients</th>\n",
       "      <th>calories</th>\n",
       "      <th>total fat (PDV)</th>\n",
       "      <th>sugar (PDV)</th>\n",
       "      <th>sodium (PDV)</th>\n",
       "      <th>protein (PDV)</th>\n",
       "      <th>saturated fat (PDV)</th>\n",
       "      <th>carbohydrates (PDV)</th>\n",
       "    </tr>\n",
       "  </thead>\n",
       "  <tbody>\n",
       "    <tr>\n",
       "      <th>0</th>\n",
       "      <td>arriba   baked winter squash mexican style</td>\n",
       "      <td>137739</td>\n",
       "      <td>55</td>\n",
       "      <td>['60-minutes-or-less', 'time-to-make', 'course...</td>\n",
       "      <td>['make a choice and proceed with recipe', 'dep...</td>\n",
       "      <td>['winter squash', 'mexican seasoning', 'mixed ...</td>\n",
       "      <td>51.5</td>\n",
       "      <td>0.0</td>\n",
       "      <td>13.0</td>\n",
       "      <td>0.0</td>\n",
       "      <td>2.0</td>\n",
       "      <td>0.0</td>\n",
       "      <td>4.0</td>\n",
       "    </tr>\n",
       "    <tr>\n",
       "      <th>1</th>\n",
       "      <td>a bit different  breakfast pizza</td>\n",
       "      <td>31490</td>\n",
       "      <td>30</td>\n",
       "      <td>['30-minutes-or-less', 'time-to-make', 'course...</td>\n",
       "      <td>['preheat oven to 425 degrees f', 'press dough...</td>\n",
       "      <td>['prepared pizza crust', 'sausage patty', 'egg...</td>\n",
       "      <td>173.4</td>\n",
       "      <td>18.0</td>\n",
       "      <td>0.0</td>\n",
       "      <td>17.0</td>\n",
       "      <td>22.0</td>\n",
       "      <td>35.0</td>\n",
       "      <td>1.0</td>\n",
       "    </tr>\n",
       "    <tr>\n",
       "      <th>2</th>\n",
       "      <td>all in the kitchen  chili</td>\n",
       "      <td>112140</td>\n",
       "      <td>130</td>\n",
       "      <td>['time-to-make', 'course', 'preparation', 'mai...</td>\n",
       "      <td>['brown ground beef in large pot', 'add choppe...</td>\n",
       "      <td>['ground beef', 'yellow onions', 'diced tomato...</td>\n",
       "      <td>269.8</td>\n",
       "      <td>22.0</td>\n",
       "      <td>32.0</td>\n",
       "      <td>48.0</td>\n",
       "      <td>39.0</td>\n",
       "      <td>27.0</td>\n",
       "      <td>5.0</td>\n",
       "    </tr>\n",
       "    <tr>\n",
       "      <th>3</th>\n",
       "      <td>alouette  potatoes</td>\n",
       "      <td>59389</td>\n",
       "      <td>45</td>\n",
       "      <td>['60-minutes-or-less', 'time-to-make', 'course...</td>\n",
       "      <td>['place potatoes in a large pot of lightly sal...</td>\n",
       "      <td>['spreadable cheese with garlic and herbs', 'n...</td>\n",
       "      <td>368.1</td>\n",
       "      <td>17.0</td>\n",
       "      <td>10.0</td>\n",
       "      <td>2.0</td>\n",
       "      <td>14.0</td>\n",
       "      <td>8.0</td>\n",
       "      <td>20.0</td>\n",
       "    </tr>\n",
       "    <tr>\n",
       "      <th>4</th>\n",
       "      <td>amish  tomato ketchup  for canning</td>\n",
       "      <td>44061</td>\n",
       "      <td>190</td>\n",
       "      <td>['weeknight', 'time-to-make', 'course', 'main-...</td>\n",
       "      <td>['mix all ingredients&amp; boil for 2 1 / 2 hours ...</td>\n",
       "      <td>['tomato juice', 'apple cider vinegar', 'sugar...</td>\n",
       "      <td>352.9</td>\n",
       "      <td>1.0</td>\n",
       "      <td>337.0</td>\n",
       "      <td>23.0</td>\n",
       "      <td>3.0</td>\n",
       "      <td>0.0</td>\n",
       "      <td>28.0</td>\n",
       "    </tr>\n",
       "  </tbody>\n",
       "</table>\n",
       "</div>"
      ],
      "text/plain": [
       "                                         name      id  minutes  \\\n",
       "0  arriba   baked winter squash mexican style  137739       55   \n",
       "1            a bit different  breakfast pizza   31490       30   \n",
       "2                   all in the kitchen  chili  112140      130   \n",
       "3                          alouette  potatoes   59389       45   \n",
       "4          amish  tomato ketchup  for canning   44061      190   \n",
       "\n",
       "                                                tags  \\\n",
       "0  ['60-minutes-or-less', 'time-to-make', 'course...   \n",
       "1  ['30-minutes-or-less', 'time-to-make', 'course...   \n",
       "2  ['time-to-make', 'course', 'preparation', 'mai...   \n",
       "3  ['60-minutes-or-less', 'time-to-make', 'course...   \n",
       "4  ['weeknight', 'time-to-make', 'course', 'main-...   \n",
       "\n",
       "                                               steps  \\\n",
       "0  ['make a choice and proceed with recipe', 'dep...   \n",
       "1  ['preheat oven to 425 degrees f', 'press dough...   \n",
       "2  ['brown ground beef in large pot', 'add choppe...   \n",
       "3  ['place potatoes in a large pot of lightly sal...   \n",
       "4  ['mix all ingredients& boil for 2 1 / 2 hours ...   \n",
       "\n",
       "                                         ingredients  calories  \\\n",
       "0  ['winter squash', 'mexican seasoning', 'mixed ...      51.5   \n",
       "1  ['prepared pizza crust', 'sausage patty', 'egg...     173.4   \n",
       "2  ['ground beef', 'yellow onions', 'diced tomato...     269.8   \n",
       "3  ['spreadable cheese with garlic and herbs', 'n...     368.1   \n",
       "4  ['tomato juice', 'apple cider vinegar', 'sugar...     352.9   \n",
       "\n",
       "   total fat (PDV)  sugar (PDV)  sodium (PDV)  protein (PDV)  \\\n",
       "0              0.0         13.0           0.0            2.0   \n",
       "1             18.0          0.0          17.0           22.0   \n",
       "2             22.0         32.0          48.0           39.0   \n",
       "3             17.0         10.0           2.0           14.0   \n",
       "4              1.0        337.0          23.0            3.0   \n",
       "\n",
       "   saturated fat (PDV)  carbohydrates (PDV)  \n",
       "0                  0.0                  4.0  \n",
       "1                 35.0                  1.0  \n",
       "2                 27.0                  5.0  \n",
       "3                  8.0                 20.0  \n",
       "4                  0.0                 28.0  "
      ]
     },
     "execution_count": 28,
     "metadata": {},
     "output_type": "execute_result"
    }
   ],
   "source": [
    "International_recipes.head()"
   ]
  },
  {
   "cell_type": "code",
   "execution_count": 29,
   "metadata": {},
   "outputs": [],
   "source": [
    "# Cleaning the ingridients data\n",
    "International_recipes['ingredients'] = International_recipes['ingredients'].str.replace(r\"[^a-zA-Z0-9, ]\", \"\", regex=True)\n"
   ]
  },
  {
   "cell_type": "code",
   "execution_count": 30,
   "metadata": {},
   "outputs": [],
   "source": [
    "# Replacing the commas (,) ingridient data with spaces\n",
    "International_recipes['ingredients'] = International_recipes['ingredients'].str.replace(',', ' ', regex=True)\n"
   ]
  },
  {
   "cell_type": "code",
   "execution_count": 31,
   "metadata": {},
   "outputs": [
    {
     "data": {
      "text/plain": [
       "0         winter squash  mexican seasoning  mixed spice ...\n",
       "1         prepared pizza crust  sausage patty  eggs  mil...\n",
       "2         ground beef  yellow onions  diced tomatoes  to...\n",
       "3         spreadable cheese with garlic and herbs  new p...\n",
       "4         tomato juice  apple cider vinegar  sugar  salt...\n",
       "                                ...                        \n",
       "231632    celery  onion  green sweet pepper  garlic clov...\n",
       "231633    paprika  salt  garlic powder  onion powder  dr...\n",
       "231634    hardcooked eggs  mayonnaise  dijon mustard  sa...\n",
       "231635    butter  eagle brand condensed milk  light brow...\n",
       "231636    granulated sugar  shortening  eggs  flour  cre...\n",
       "Name: ingredients, Length: 231637, dtype: object"
      ]
     },
     "execution_count": 31,
     "metadata": {},
     "output_type": "execute_result"
    }
   ],
   "source": [
    "International_recipes['ingredients']"
   ]
  },
  {
   "cell_type": "code",
   "execution_count": 32,
   "metadata": {},
   "outputs": [
    {
     "data": {
      "text/plain": [
       "name                   1\n",
       "id                     0\n",
       "minutes                0\n",
       "tags                   0\n",
       "steps                  0\n",
       "ingredients            0\n",
       "calories               0\n",
       "total fat (PDV)        0\n",
       "sugar (PDV)            0\n",
       "sodium (PDV)           0\n",
       "protein (PDV)          0\n",
       "saturated fat (PDV)    0\n",
       "carbohydrates (PDV)    0\n",
       "dtype: int64"
      ]
     },
     "execution_count": 32,
     "metadata": {},
     "output_type": "execute_result"
    }
   ],
   "source": [
    "# Checking for missing values\n",
    "International_recipes.isna().sum()"
   ]
  },
  {
   "cell_type": "code",
   "execution_count": 33,
   "metadata": {},
   "outputs": [],
   "source": [
    "# Dropping the misisng values\n",
    "International_recipes.dropna(subset=['name'],inplace=True)"
   ]
  },
  {
   "cell_type": "code",
   "execution_count": 34,
   "metadata": {},
   "outputs": [
    {
     "name": "stdout",
     "output_type": "stream",
     "text": [
      "<class 'pandas.core.frame.DataFrame'>\n",
      "Index: 231636 entries, 0 to 231636\n",
      "Data columns (total 13 columns):\n",
      " #   Column               Non-Null Count   Dtype  \n",
      "---  ------               --------------   -----  \n",
      " 0   name                 231636 non-null  object \n",
      " 1   id                   231636 non-null  int64  \n",
      " 2   minutes              231636 non-null  int64  \n",
      " 3   tags                 231636 non-null  object \n",
      " 4   steps                231636 non-null  object \n",
      " 5   ingredients          231636 non-null  object \n",
      " 6   calories             231636 non-null  float64\n",
      " 7   total fat (PDV)      231636 non-null  float64\n",
      " 8   sugar (PDV)          231636 non-null  float64\n",
      " 9   sodium (PDV)         231636 non-null  float64\n",
      " 10  protein (PDV)        231636 non-null  float64\n",
      " 11  saturated fat (PDV)  231636 non-null  float64\n",
      " 12  carbohydrates (PDV)  231636 non-null  float64\n",
      "dtypes: float64(7), int64(2), object(4)\n",
      "memory usage: 24.7+ MB\n"
     ]
    }
   ],
   "source": [
    "# Checkingg info of the data\n",
    "International_recipes.info()"
   ]
  },
  {
   "cell_type": "markdown",
   "metadata": {},
   "source": [
    "## Interaction data"
   ]
  },
  {
   "cell_type": "code",
   "execution_count": 35,
   "metadata": {},
   "outputs": [
    {
     "name": "stdout",
     "output_type": "stream",
     "text": [
      "<class 'pandas.core.frame.DataFrame'>\n",
      "RangeIndex: 1048575 entries, 0 to 1048574\n",
      "Data columns (total 5 columns):\n",
      " #   Column     Non-Null Count    Dtype \n",
      "---  ------     --------------    ----- \n",
      " 0   user_id    1048575 non-null  int64 \n",
      " 1   recipe_id  1048575 non-null  int64 \n",
      " 2   date       1048575 non-null  object\n",
      " 3   rating     1048575 non-null  int64 \n",
      " 4   review     1048417 non-null  object\n",
      "dtypes: int64(3), object(2)\n",
      "memory usage: 40.0+ MB\n"
     ]
    }
   ],
   "source": [
    "# Getting info of the data\n",
    "interactions.info()"
   ]
  },
  {
   "cell_type": "code",
   "execution_count": 36,
   "metadata": {},
   "outputs": [
    {
     "data": {
      "text/plain": [
       "user_id        0\n",
       "recipe_id      0\n",
       "date           0\n",
       "rating         0\n",
       "review       158\n",
       "dtype: int64"
      ]
     },
     "execution_count": 36,
     "metadata": {},
     "output_type": "execute_result"
    }
   ],
   "source": [
    "# checking for missing values\n",
    "interactions.isna().sum()"
   ]
  },
  {
   "cell_type": "code",
   "execution_count": 37,
   "metadata": {},
   "outputs": [],
   "source": [
    "# Dropping missing values\n",
    "interactions.dropna(subset=['review'],inplace=True)"
   ]
  },
  {
   "cell_type": "code",
   "execution_count": 38,
   "metadata": {},
   "outputs": [
    {
     "data": {
      "text/plain": [
       "0"
      ]
     },
     "execution_count": 38,
     "metadata": {},
     "output_type": "execute_result"
    }
   ],
   "source": [
    "# Checking for missing values\n",
    "interactions.duplicated().sum()"
   ]
  },
  {
   "cell_type": "markdown",
   "metadata": {},
   "source": [
    "No duplicates in the data"
   ]
  },
  {
   "cell_type": "markdown",
   "metadata": {},
   "source": [
    "# Exploratory Data Analysis"
   ]
  },
  {
   "cell_type": "markdown",
   "metadata": {},
   "source": [
    "## 1. What are the most common ingredients used across all cuisines?"
   ]
  },
  {
   "cell_type": "code",
   "execution_count": 39,
   "metadata": {},
   "outputs": [
    {
     "data": {
      "image/png": "[encoded data removed]",
      "text/plain": [
       "<Figure size 1000x600 with 1 Axes>"
      ]
     },
     "metadata": {},
     "output_type": "display_data"
    }
   ],
   "source": [
    "import pandas as pd\n",
    "import matplotlib.pyplot as plt\n",
    "from collections import Counter\n",
    "import re\n",
    "\n",
    "# Define common adjectives and stop words\n",
    "adjectives = {'fresh', 'ground', 'chopped', 'sliced', 'crushed', 'dried'}\n",
    "stop_words = {'to', 'taste', 'and', 'with', 'for', 'in', 'of'}\n",
    "\n",
    "# Flatten and count ingredients\n",
    "ingredient_counts = Counter()\n",
    "\n",
    "for ingredients in International_recipes['ingredients']:\n",
    "    if isinstance(ingredients, str):\n",
    "        words = ingredients.lower().replace(',', '').split()\n",
    "        \n",
    "        # Combine adjectives with the following word\n",
    "        for i, word in enumerate(words):\n",
    "            if word in adjectives and i < len(words) - 1:\n",
    "                combined = f\"{word} {words[i+1]}\"\n",
    "                if words[i+1] not in stop_words:\n",
    "                    ingredient_counts[combined] += 1\n",
    "            elif word not in adjectives and word not in stop_words:\n",
    "                ingredient_counts[word] += 1\n",
    "\n",
    "# Get top 10 ingredients\n",
    "top_10_ingredients = ingredient_counts.most_common(10)\n",
    "\n",
    "# Convert to DataFrame for plotting\n",
    "top_10_df = pd.DataFrame(top_10_ingredients, columns=['Ingredient', 'Count'])\n",
    "\n",
    "# Plot the results\n",
    "plt.figure(figsize=(10, 6))\n",
    "plt.barh(top_10_df['Ingredient'], top_10_df['Count'], color='skyblue')\n",
    "plt.xlabel('Frequency')\n",
    "plt.ylabel('Ingredients')\n",
    "plt.title('Top 10 Most Common Ingredients in Foreign Dishes')\n",
    "plt.gca().invert_yaxis()\n",
    "plt.show()\n"
   ]
  },
  {
   "cell_type": "code",
   "execution_count": 40,
   "metadata": {},
   "outputs": [],
   "source": [
    "top_10_df.to_csv(\"Top 10 International ingridients.csv\", index=False)"
   ]
  },
  {
   "cell_type": "code",
   "execution_count": 41,
   "metadata": {},
   "outputs": [
    {
     "data": {
      "application/vnd.microsoft.datawrangler.viewer.v0+json": {
       "columns": [
        {
         "name": "index",
         "rawType": "int64",
         "type": "integer"
        },
        {
         "name": "name",
         "rawType": "object",
         "type": "string"
        },
        {
         "name": "id",
         "rawType": "int64",
         "type": "integer"
        },
        {
         "name": "minutes",
         "rawType": "int64",
         "type": "integer"
        },
        {
         "name": "tags",
         "rawType": "object",
         "type": "string"
        },
        {
         "name": "steps",
         "rawType": "object",
         "type": "string"
        },
        {
         "name": "ingredients",
         "rawType": "object",
         "type": "string"
        },
        {
         "name": "calories",
         "rawType": "float64",
         "type": "float"
        },
        {
         "name": "total fat (PDV)",
         "rawType": "float64",
         "type": "float"
        },
        {
         "name": "sugar (PDV)",
         "rawType": "float64",
         "type": "float"
        },
        {
         "name": "sodium (PDV)",
         "rawType": "float64",
         "type": "float"
        },
        {
         "name": "protein (PDV)",
         "rawType": "float64",
         "type": "float"
        },
        {
         "name": "saturated fat (PDV)",
         "rawType": "float64",
         "type": "float"
        },
        {
         "name": "carbohydrates (PDV)",
         "rawType": "float64",
         "type": "float"
        }
       ],
       "conversionMethod": "pd.DataFrame",
       "ref": "0fb60cef-069c-4b98-96bc-7588f713706e",
       "rows": [
        [
         "0",
         "arriba   baked winter squash mexican style",
         "137739",
         "55",
         "['60-minutes-or-less', 'time-to-make', 'course', 'main-ingredient', 'cuisine', 'preparation', 'occasion', 'north-american', 'side-dishes', 'vegetables', 'mexican', 'easy', 'fall', 'holiday-event', 'vegetarian', 'winter', 'dietary', 'christmas', 'seasonal', 'squash']",
         "['make a choice and proceed with recipe', 'depending on size of squash , cut into half or fourths', 'remove seeds', 'for spicy squash , drizzle olive oil or melted butter over each cut squash piece', 'season with mexican seasoning mix ii', 'for sweet squash , drizzle melted honey , butter , grated piloncillo over each cut squash piece', 'season with sweet mexican spice mix', 'bake at 350 degrees , again depending on size , for 40 minutes up to an hour , until a fork can easily pierce the skin', 'be careful not to burn the squash especially if you opt to use sugar or butter', 'if you feel more comfortable , cover the squash with aluminum foil the first half hour , give or take , of baking', 'if desired , season with salt']",
         "winter squash  mexican seasoning  mixed spice  honey  butter  olive oil  salt",
         "51.5",
         "0.0",
         "13.0",
         "0.0",
         "2.0",
         "0.0",
         "4.0"
        ],
        [
         "1",
         "a bit different  breakfast pizza",
         "31490",
         "30",
         "['30-minutes-or-less', 'time-to-make', 'course', 'main-ingredient', 'cuisine', 'preparation', 'occasion', 'north-american', 'breakfast', 'main-dish', 'pork', 'american', 'oven', 'easy', 'kid-friendly', 'pizza', 'dietary', 'northeastern-united-states', 'meat', 'equipment']",
         "['preheat oven to 425 degrees f', 'press dough into the bottom and sides of a 12 inch pizza pan', 'bake for 5 minutes until set but not browned', 'cut sausage into small pieces', 'whisk eggs and milk in a bowl until frothy', 'spoon sausage over baked crust and sprinkle with cheese', 'pour egg mixture slowly over sausage and cheese', 's& p to taste', 'bake 15-20 minutes or until eggs are set and crust is brown']",
         "prepared pizza crust  sausage patty  eggs  milk  salt and pepper  cheese",
         "173.4",
         "18.0",
         "0.0",
         "17.0",
         "22.0",
         "35.0",
         "1.0"
        ],
        [
         "2",
         "all in the kitchen  chili",
         "112140",
         "130",
         "['time-to-make', 'course', 'preparation', 'main-dish', 'chili', 'crock-pot-slow-cooker', 'dietary', 'equipment', '4-hours-or-less']",
         "['brown ground beef in large pot', 'add chopped onions to ground beef when almost brown and sautee until wilted', 'add all other ingredients', 'add kidney beans if you like beans in your chili', 'cook in slow cooker on high for 2-3 hours or 6-8 hours on low', 'serve with cold clean lettuce and shredded cheese']",
         "ground beef  yellow onions  diced tomatoes  tomato paste  tomato soup  rotel tomatoes  kidney beans  water  chili powder  ground cumin  salt  lettuce  cheddar cheese",
         "269.8",
         "22.0",
         "32.0",
         "48.0",
         "39.0",
         "27.0",
         "5.0"
        ],
        [
         "3",
         "alouette  potatoes",
         "59389",
         "45",
         "['60-minutes-or-less', 'time-to-make', 'course', 'main-ingredient', 'preparation', 'occasion', 'side-dishes', 'eggs-dairy', 'potatoes', 'vegetables', 'oven', 'easy', 'dinner-party', 'holiday-event', 'easter', 'cheese', 'stove-top', 'dietary', 'christmas', 'new-years', 'thanksgiving', 'independence-day', 'st-patricks-day', 'valentines-day', 'inexpensive', 'brunch', 'superbowl', 'equipment', 'presentation', 'served-hot']",
         "['place potatoes in a large pot of lightly salted water and bring to a gentle boil', 'cook until potatoes are just tender', 'drain', 'place potatoes in a large bowl and add all ingredients except the\"alouette\"', 'mix well and transfer to a buttered 8x8 inch glass baking dish with 2 inch sides', 'press the potatoes with a spatula to make top as flat as possible', 'set aside for 2 hours at room temperature', 'preheat oven to 350^f', 'spread\"alouette\" evenly over potatoes and bake 15 minutes', 'divide between plates', 'garnish with finely diced red and yellow bell peppers']",
         "spreadable cheese with garlic and herbs  new potatoes  shallots  parsley  tarragon  olive oil  red wine vinegar  salt  pepper  red bell pepper  yellow bell pepper",
         "368.1",
         "17.0",
         "10.0",
         "2.0",
         "14.0",
         "8.0",
         "20.0"
        ],
        [
         "4",
         "amish  tomato ketchup  for canning",
         "44061",
         "190",
         "['weeknight', 'time-to-make', 'course', 'main-ingredient', 'cuisine', 'preparation', 'occasion', 'north-american', 'canning', 'condiments-etc', 'vegetables', 'american', 'heirloom-historical', 'holiday-event', 'vegetarian', 'dietary', 'amish-mennonite', 'northeastern-united-states', 'number-of-servings', 'technique', '4-hours-or-less']",
         "['mix all ingredients& boil for 2 1 / 2 hours , or until thick', 'pour into jars', \"i use'old' glass ketchup bottles\", \"it is not necessary for these to'seal\", \"'my amish mother-in-law has been making this her entire life , and has never used a'sealed' jar for this recipe , and it's always been great !\"]",
         "tomato juice  apple cider vinegar  sugar  salt  pepper  clove oil  cinnamon oil  dry mustard",
         "352.9",
         "1.0",
         "337.0",
         "23.0",
         "3.0",
         "0.0",
         "28.0"
        ]
       ],
       "shape": {
        "columns": 13,
        "rows": 5
       }
      },
      "text/html": [
       "<div>\n",
       "<style scoped>\n",
       "    .dataframe tbody tr th:only-of-type {\n",
       "        vertical-align: middle;\n",
       "    }\n",
       "\n",
       "    .dataframe tbody tr th {\n",
       "        vertical-align: top;\n",
       "    }\n",
       "\n",
       "    .dataframe thead th {\n",
       "        text-align: right;\n",
       "    }\n",
       "</style>\n",
       "<table border=\"1\" class=\"dataframe\">\n",
       "  <thead>\n",
       "    <tr style=\"text-align: right;\">\n",
       "      <th></th>\n",
       "      <th>name</th>\n",
       "      <th>id</th>\n",
       "      <th>minutes</th>\n",
       "      <th>tags</th>\n",
       "      <th>steps</th>\n",
       "      <th>ingredients</th>\n",
       "      <th>calories</th>\n",
       "      <th>total fat (PDV)</th>\n",
       "      <th>sugar (PDV)</th>\n",
       "      <th>sodium (PDV)</th>\n",
       "      <th>protein (PDV)</th>\n",
       "      <th>saturated fat (PDV)</th>\n",
       "      <th>carbohydrates (PDV)</th>\n",
       "    </tr>\n",
       "  </thead>\n",
       "  <tbody>\n",
       "    <tr>\n",
       "      <th>0</th>\n",
       "      <td>arriba   baked winter squash mexican style</td>\n",
       "      <td>137739</td>\n",
       "      <td>55</td>\n",
       "      <td>['60-minutes-or-less', 'time-to-make', 'course...</td>\n",
       "      <td>['make a choice and proceed with recipe', 'dep...</td>\n",
       "      <td>winter squash  mexican seasoning  mixed spice ...</td>\n",
       "      <td>51.5</td>\n",
       "      <td>0.0</td>\n",
       "      <td>13.0</td>\n",
       "      <td>0.0</td>\n",
       "      <td>2.0</td>\n",
       "      <td>0.0</td>\n",
       "      <td>4.0</td>\n",
       "    </tr>\n",
       "    <tr>\n",
       "      <th>1</th>\n",
       "      <td>a bit different  breakfast pizza</td>\n",
       "      <td>31490</td>\n",
       "      <td>30</td>\n",
       "      <td>['30-minutes-or-less', 'time-to-make', 'course...</td>\n",
       "      <td>['preheat oven to 425 degrees f', 'press dough...</td>\n",
       "      <td>prepared pizza crust  sausage patty  eggs  mil...</td>\n",
       "      <td>173.4</td>\n",
       "      <td>18.0</td>\n",
       "      <td>0.0</td>\n",
       "      <td>17.0</td>\n",
       "      <td>22.0</td>\n",
       "      <td>35.0</td>\n",
       "      <td>1.0</td>\n",
       "    </tr>\n",
       "    <tr>\n",
       "      <th>2</th>\n",
       "      <td>all in the kitchen  chili</td>\n",
       "      <td>112140</td>\n",
       "      <td>130</td>\n",
       "      <td>['time-to-make', 'course', 'preparation', 'mai...</td>\n",
       "      <td>['brown ground beef in large pot', 'add choppe...</td>\n",
       "      <td>ground beef  yellow onions  diced tomatoes  to...</td>\n",
       "      <td>269.8</td>\n",
       "      <td>22.0</td>\n",
       "      <td>32.0</td>\n",
       "      <td>48.0</td>\n",
       "      <td>39.0</td>\n",
       "      <td>27.0</td>\n",
       "      <td>5.0</td>\n",
       "    </tr>\n",
       "    <tr>\n",
       "      <th>3</th>\n",
       "      <td>alouette  potatoes</td>\n",
       "      <td>59389</td>\n",
       "      <td>45</td>\n",
       "      <td>['60-minutes-or-less', 'time-to-make', 'course...</td>\n",
       "      <td>['place potatoes in a large pot of lightly sal...</td>\n",
       "      <td>spreadable cheese with garlic and herbs  new p...</td>\n",
       "      <td>368.1</td>\n",
       "      <td>17.0</td>\n",
       "      <td>10.0</td>\n",
       "      <td>2.0</td>\n",
       "      <td>14.0</td>\n",
       "      <td>8.0</td>\n",
       "      <td>20.0</td>\n",
       "    </tr>\n",
       "    <tr>\n",
       "      <th>4</th>\n",
       "      <td>amish  tomato ketchup  for canning</td>\n",
       "      <td>44061</td>\n",
       "      <td>190</td>\n",
       "      <td>['weeknight', 'time-to-make', 'course', 'main-...</td>\n",
       "      <td>['mix all ingredients&amp; boil for 2 1 / 2 hours ...</td>\n",
       "      <td>tomato juice  apple cider vinegar  sugar  salt...</td>\n",
       "      <td>352.9</td>\n",
       "      <td>1.0</td>\n",
       "      <td>337.0</td>\n",
       "      <td>23.0</td>\n",
       "      <td>3.0</td>\n",
       "      <td>0.0</td>\n",
       "      <td>28.0</td>\n",
       "    </tr>\n",
       "  </tbody>\n",
       "</table>\n",
       "</div>"
      ],
      "text/plain": [
       "                                         name      id  minutes  \\\n",
       "0  arriba   baked winter squash mexican style  137739       55   \n",
       "1            a bit different  breakfast pizza   31490       30   \n",
       "2                   all in the kitchen  chili  112140      130   \n",
       "3                          alouette  potatoes   59389       45   \n",
       "4          amish  tomato ketchup  for canning   44061      190   \n",
       "\n",
       "                                                tags  \\\n",
       "0  ['60-minutes-or-less', 'time-to-make', 'course...   \n",
       "1  ['30-minutes-or-less', 'time-to-make', 'course...   \n",
       "2  ['time-to-make', 'course', 'preparation', 'mai...   \n",
       "3  ['60-minutes-or-less', 'time-to-make', 'course...   \n",
       "4  ['weeknight', 'time-to-make', 'course', 'main-...   \n",
       "\n",
       "                                               steps  \\\n",
       "0  ['make a choice and proceed with recipe', 'dep...   \n",
       "1  ['preheat oven to 425 degrees f', 'press dough...   \n",
       "2  ['brown ground beef in large pot', 'add choppe...   \n",
       "3  ['place potatoes in a large pot of lightly sal...   \n",
       "4  ['mix all ingredients& boil for 2 1 / 2 hours ...   \n",
       "\n",
       "                                         ingredients  calories  \\\n",
       "0  winter squash  mexican seasoning  mixed spice ...      51.5   \n",
       "1  prepared pizza crust  sausage patty  eggs  mil...     173.4   \n",
       "2  ground beef  yellow onions  diced tomatoes  to...     269.8   \n",
       "3  spreadable cheese with garlic and herbs  new p...     368.1   \n",
       "4  tomato juice  apple cider vinegar  sugar  salt...     352.9   \n",
       "\n",
       "   total fat (PDV)  sugar (PDV)  sodium (PDV)  protein (PDV)  \\\n",
       "0              0.0         13.0           0.0            2.0   \n",
       "1             18.0          0.0          17.0           22.0   \n",
       "2             22.0         32.0          48.0           39.0   \n",
       "3             17.0         10.0           2.0           14.0   \n",
       "4              1.0        337.0          23.0            3.0   \n",
       "\n",
       "   saturated fat (PDV)  carbohydrates (PDV)  \n",
       "0                  0.0                  4.0  \n",
       "1                 35.0                  1.0  \n",
       "2                 27.0                  5.0  \n",
       "3                  8.0                 20.0  \n",
       "4                  0.0                 28.0  "
      ]
     },
     "execution_count": 41,
     "metadata": {},
     "output_type": "execute_result"
    }
   ],
   "source": [
    "International_recipes.head()"
   ]
  },
  {
   "cell_type": "code",
   "execution_count": 42,
   "metadata": {},
   "outputs": [
    {
     "data": {
      "application/vnd.microsoft.datawrangler.viewer.v0+json": {
       "columns": [
        {
         "name": "index",
         "rawType": "int64",
         "type": "integer"
        },
        {
         "name": "Ingredient",
         "rawType": "object",
         "type": "string"
        },
        {
         "name": "Count",
         "rawType": "int64",
         "type": "integer"
        }
       ],
       "conversionMethod": "pd.DataFrame",
       "ref": "a649bed3-f5e8-4c5d-b309-8e888519d17d",
       "rows": [
        [
         "0",
         "salt",
         "126148"
        ],
        [
         "1",
         "pepper",
         "118940"
        ],
        [
         "2",
         "sugar",
         "93034"
        ],
        [
         "3",
         "oil",
         "80800"
        ],
        [
         "4",
         "cheese",
         "76382"
        ],
        [
         "5",
         "garlic",
         "71913"
        ],
        [
         "6",
         "butter",
         "71368"
        ],
        [
         "7",
         "onion",
         "65239"
        ],
        [
         "8",
         "flour",
         "60384"
        ],
        [
         "9",
         "powder",
         "51763"
        ]
       ],
       "shape": {
        "columns": 2,
        "rows": 10
       }
      },
      "text/html": [
       "<div>\n",
       "<style scoped>\n",
       "    .dataframe tbody tr th:only-of-type {\n",
       "        vertical-align: middle;\n",
       "    }\n",
       "\n",
       "    .dataframe tbody tr th {\n",
       "        vertical-align: top;\n",
       "    }\n",
       "\n",
       "    .dataframe thead th {\n",
       "        text-align: right;\n",
       "    }\n",
       "</style>\n",
       "<table border=\"1\" class=\"dataframe\">\n",
       "  <thead>\n",
       "    <tr style=\"text-align: right;\">\n",
       "      <th></th>\n",
       "      <th>Ingredient</th>\n",
       "      <th>Count</th>\n",
       "    </tr>\n",
       "  </thead>\n",
       "  <tbody>\n",
       "    <tr>\n",
       "      <th>0</th>\n",
       "      <td>salt</td>\n",
       "      <td>126148</td>\n",
       "    </tr>\n",
       "    <tr>\n",
       "      <th>1</th>\n",
       "      <td>pepper</td>\n",
       "      <td>118940</td>\n",
       "    </tr>\n",
       "    <tr>\n",
       "      <th>2</th>\n",
       "      <td>sugar</td>\n",
       "      <td>93034</td>\n",
       "    </tr>\n",
       "    <tr>\n",
       "      <th>3</th>\n",
       "      <td>oil</td>\n",
       "      <td>80800</td>\n",
       "    </tr>\n",
       "    <tr>\n",
       "      <th>4</th>\n",
       "      <td>cheese</td>\n",
       "      <td>76382</td>\n",
       "    </tr>\n",
       "    <tr>\n",
       "      <th>5</th>\n",
       "      <td>garlic</td>\n",
       "      <td>71913</td>\n",
       "    </tr>\n",
       "    <tr>\n",
       "      <th>6</th>\n",
       "      <td>butter</td>\n",
       "      <td>71368</td>\n",
       "    </tr>\n",
       "    <tr>\n",
       "      <th>7</th>\n",
       "      <td>onion</td>\n",
       "      <td>65239</td>\n",
       "    </tr>\n",
       "    <tr>\n",
       "      <th>8</th>\n",
       "      <td>flour</td>\n",
       "      <td>60384</td>\n",
       "    </tr>\n",
       "    <tr>\n",
       "      <th>9</th>\n",
       "      <td>powder</td>\n",
       "      <td>51763</td>\n",
       "    </tr>\n",
       "  </tbody>\n",
       "</table>\n",
       "</div>"
      ],
      "text/plain": [
       "  Ingredient   Count\n",
       "0       salt  126148\n",
       "1     pepper  118940\n",
       "2      sugar   93034\n",
       "3        oil   80800\n",
       "4     cheese   76382\n",
       "5     garlic   71913\n",
       "6     butter   71368\n",
       "7      onion   65239\n",
       "8      flour   60384\n",
       "9     powder   51763"
      ]
     },
     "execution_count": 42,
     "metadata": {},
     "output_type": "execute_result"
    }
   ],
   "source": [
    "top_10_df"
   ]
  },
  {
   "cell_type": "code",
   "execution_count": 43,
   "metadata": {},
   "outputs": [
    {
     "data": {
      "application/vnd.microsoft.datawrangler.viewer.v0+json": {
       "columns": [
        {
         "name": "index",
         "rawType": "int64",
         "type": "integer"
        },
        {
         "name": "Ingredient",
         "rawType": "object",
         "type": "string"
        },
        {
         "name": "Count",
         "rawType": "int64",
         "type": "integer"
        }
       ],
       "conversionMethod": "pd.DataFrame",
       "ref": "f2d17d58-e390-4012-9b29-ac7412098790",
       "rows": [
        [
         "0",
         "salt",
         "126148"
        ],
        [
         "1",
         "pepper",
         "118940"
        ],
        [
         "2",
         "sugar",
         "93034"
        ],
        [
         "3",
         "oil",
         "80800"
        ],
        [
         "4",
         "cheese",
         "76382"
        ],
        [
         "5",
         "garlic",
         "71913"
        ],
        [
         "6",
         "butter",
         "71368"
        ],
        [
         "7",
         "onion",
         "65239"
        ],
        [
         "8",
         "flour",
         "60384"
        ],
        [
         "9",
         "powder",
         "51763"
        ]
       ],
       "shape": {
        "columns": 2,
        "rows": 10
       }
      },
      "text/html": [
       "<div>\n",
       "<style scoped>\n",
       "    .dataframe tbody tr th:only-of-type {\n",
       "        vertical-align: middle;\n",
       "    }\n",
       "\n",
       "    .dataframe tbody tr th {\n",
       "        vertical-align: top;\n",
       "    }\n",
       "\n",
       "    .dataframe thead th {\n",
       "        text-align: right;\n",
       "    }\n",
       "</style>\n",
       "<table border=\"1\" class=\"dataframe\">\n",
       "  <thead>\n",
       "    <tr style=\"text-align: right;\">\n",
       "      <th></th>\n",
       "      <th>Ingredient</th>\n",
       "      <th>Count</th>\n",
       "    </tr>\n",
       "  </thead>\n",
       "  <tbody>\n",
       "    <tr>\n",
       "      <th>0</th>\n",
       "      <td>salt</td>\n",
       "      <td>126148</td>\n",
       "    </tr>\n",
       "    <tr>\n",
       "      <th>1</th>\n",
       "      <td>pepper</td>\n",
       "      <td>118940</td>\n",
       "    </tr>\n",
       "    <tr>\n",
       "      <th>2</th>\n",
       "      <td>sugar</td>\n",
       "      <td>93034</td>\n",
       "    </tr>\n",
       "    <tr>\n",
       "      <th>3</th>\n",
       "      <td>oil</td>\n",
       "      <td>80800</td>\n",
       "    </tr>\n",
       "    <tr>\n",
       "      <th>4</th>\n",
       "      <td>cheese</td>\n",
       "      <td>76382</td>\n",
       "    </tr>\n",
       "    <tr>\n",
       "      <th>5</th>\n",
       "      <td>garlic</td>\n",
       "      <td>71913</td>\n",
       "    </tr>\n",
       "    <tr>\n",
       "      <th>6</th>\n",
       "      <td>butter</td>\n",
       "      <td>71368</td>\n",
       "    </tr>\n",
       "    <tr>\n",
       "      <th>7</th>\n",
       "      <td>onion</td>\n",
       "      <td>65239</td>\n",
       "    </tr>\n",
       "    <tr>\n",
       "      <th>8</th>\n",
       "      <td>flour</td>\n",
       "      <td>60384</td>\n",
       "    </tr>\n",
       "    <tr>\n",
       "      <th>9</th>\n",
       "      <td>powder</td>\n",
       "      <td>51763</td>\n",
       "    </tr>\n",
       "  </tbody>\n",
       "</table>\n",
       "</div>"
      ],
      "text/plain": [
       "  Ingredient   Count\n",
       "0       salt  126148\n",
       "1     pepper  118940\n",
       "2      sugar   93034\n",
       "3        oil   80800\n",
       "4     cheese   76382\n",
       "5     garlic   71913\n",
       "6     butter   71368\n",
       "7      onion   65239\n",
       "8      flour   60384\n",
       "9     powder   51763"
      ]
     },
     "execution_count": 43,
     "metadata": {},
     "output_type": "execute_result"
    }
   ],
   "source": [
    "top_10_df"
   ]
  },
  {
   "cell_type": "markdown",
   "metadata": {},
   "source": [
    "Most commoin ingridient in Foreign cuisine is Salt"
   ]
  },
  {
   "cell_type": "markdown",
   "metadata": {},
   "source": []
  },
  {
   "cell_type": "code",
   "execution_count": 44,
   "metadata": {},
   "outputs": [
    {
     "data": {
      "image/png": "[encoded data removed]",
      "text/plain": [
       "<Figure size 1000x600 with 1 Axes>"
      ]
     },
     "metadata": {},
     "output_type": "display_data"
    }
   ],
   "source": [
    "\n",
    "from collections import Counter\n",
    "\n",
    "# Define stop words and preparation methods to exclude\n",
    "stop_words = {\"to\", \"taste\", \"and\", \"with\", \"for\", \"in\", \"of\", \"or\"}\n",
    "prep_words = {\"chopped\", \"sliced\", \"crushed\", \"diced\", \"minced\"}\n",
    "measurement_words = {\"cup\", \"cups\", \"tsp\", \"tsps\", \"tbsp\", \"tbsps\", \n",
    "                      \"g\", \"mg\", \"kg\", \"ml\", \"l\", \"oz\", \"lb\", \"lbs\"}\n",
    "\n",
    "ingredient_counts = Counter()\n",
    "\n",
    "for ingredients in African_recipies['ingredients']:\n",
    "    if isinstance(ingredients, str):\n",
    "        words = ingredients.lower().replace(',', '').split()\n",
    "        \n",
    "        for word in words:\n",
    "            # Filter out stop words, prep words, and measurements\n",
    "            if word.isalpha() and word not in stop_words and word not in prep_words and word not in measurement_words:\n",
    "                ingredient_counts[word] += 1\n",
    "\n",
    "# Get top 10 ingredients\n",
    "top_10_ingredients = ingredient_counts.most_common(10)\n",
    "\n",
    "# Convert to DataFrame for plotting\n",
    "top_10_df = pd.DataFrame(top_10_ingredients, columns=['Ingredient', 'Count'])\n",
    "\n",
    "# Plot the results\n",
    "plt.figure(figsize=(10, 6))\n",
    "plt.barh(top_10_df['Ingredient'], top_10_df['Count'], color='skyblue')\n",
    "plt.xlabel('Frequency')\n",
    "plt.ylabel('Ingredients')\n",
    "plt.title('Top 10 Most Common Ingredients in African Dishes')\n",
    "plt.gca().invert_yaxis()\n",
    "plt.show()\n"
   ]
  },
  {
   "cell_type": "code",
   "execution_count": 45,
   "metadata": {},
   "outputs": [],
   "source": [
    "top_10_df.to_csv(\"Top 10 African ingridients.csv\", index=False)"
   ]
  },
  {
   "cell_type": "markdown",
   "metadata": {},
   "source": [
    "Most common ingridient in African Dishes is oil"
   ]
  },
  {
   "cell_type": "code",
   "execution_count": 46,
   "metadata": {},
   "outputs": [
    {
     "data": {
      "application/vnd.microsoft.datawrangler.viewer.v0+json": {
       "columns": [
        {
         "name": "index",
         "rawType": "int64",
         "type": "integer"
        },
        {
         "name": "name",
         "rawType": "object",
         "type": "string"
        },
        {
         "name": "minutes",
         "rawType": "object",
         "type": "string"
        },
        {
         "name": "ingredients",
         "rawType": "object",
         "type": "string"
        },
        {
         "name": "steps",
         "rawType": "object",
         "type": "string"
        },
        {
         "name": "Serving",
         "rawType": "float64",
         "type": "float"
        },
        {
         "name": "calories",
         "rawType": "int64",
         "type": "integer"
        },
        {
         "name": "total fat (PDV)",
         "rawType": "int64",
         "type": "integer"
        },
        {
         "name": "sugar (PDV)",
         "rawType": "int64",
         "type": "integer"
        },
        {
         "name": "sodium (PDV)",
         "rawType": "int64",
         "type": "integer"
        },
        {
         "name": "protein (PDV)",
         "rawType": "int64",
         "type": "integer"
        },
        {
         "name": "saturated fat (PDV)",
         "rawType": "int64",
         "type": "integer"
        },
        {
         "name": "carbohydrates (PDV)",
         "rawType": "int64",
         "type": "integer"
        }
       ],
       "conversionMethod": "pd.DataFrame",
       "ref": "207ec4ad-39f6-44fe-966d-e46ade859c83",
       "rows": [
        [
         "0",
         "ugali and omena",
         "30",
         "Maize flour\nOmena\nOil\n3 chopped tomatoes\nChopped green onions\nCapsicum\nSalt\nCurry powder",
         "Step 1\nBoil 3 cups of water add maize flour stir briskly with a wooden spoon until firm,let it cook for a few minutes.\nStep 2\nUgali is ready,cover and put aside\nStep 3\nWash the omena with warm water and put aside\nStep 4\nPut oil and heat\nStep 5\nDeep in the omena to fry until golden brown\nStep 6\nAdd onions and capsicum,let it cook for 6 minutes add tomatoes,salt to taste and curry powder\nStep 7\nServe with Ugali",
         "4.0",
         "91",
         "30",
         "203",
         "29",
         "192",
         "172",
         "182"
        ],
        [
         "1",
         "kienyeji fried",
         "25",
         "1 table spoon salt\n2 table spoon cooking vegetable\n2 bunches Sageti\n2 bunches Kansara\n2 bunches Terere\n1 bunch blacknight\n1 cup milk\n2 cups boiled water\n2 onions\n1 tomato",
         "Asemble the vegetables.\nPluck leaves from the vegetable stem.\nWash the vegetables then mix.\nAdd water and boil for 5 mins.\n\nFry onions\nAdd salt and tomato then fry till it forms a paste\nDrain water from vegetables and add milk then stir\nLet it cook for 5 mins then serve with ugali",
         "1.0",
         "230",
         "173",
         "247",
         "196",
         "87",
         "200",
         "239"
        ],
        [
         "2",
         "dengu chapati",
         "30",
         "Ndengu\ncubes congets diced in\ncubes carrots in\nonion diced\ncubes potatoes diced\ncubes tomatoes cut in\n3 cloves garlic grated\ngrated ginger\nminced meat\noil and salt",
         "Step 1\nSteam the mince meat and add oil then onion.cook till brown.\nStep 2\nAdd ginger and garlic, turn and then add carrots, then congets,tomatoes and turn them add potatoes. Cook till ready.\nStep 3\nAdd the already sorted and boiled ndengu. Keep turning. Add salt if u want.\nStep 4\nServe with chapati or any accompaniment of your choice.",
         "4.0",
         "138",
         "211",
         "131",
         "260",
         "84",
         "75",
         "275"
        ],
        [
         "3",
         "ugali matumbo ft african salad",
         "60",
         "400 g Maize flour \n20 g Onions \n11/2 kgMatumbo \n30 g Tomatoe paste\n 10 g Corriander \n30 ml water \n10 g Tomatoe \n5 g Salt & B. Pepper\n 5 g Garlic \n1 avocado",
         "Step 1 Bring the water to boil, add the maize flour and mix them till they thicken. \nCover the mixture and leave to sit at room temp for 20 minutes \nStep 2 \nBoil the matumbo for 25 mins As well as Getting the onions diced,\n tomatoes diced, corriander diced and chopping the garlic and avocado. \nStep 3\n Heat your oiled pan Strain the matumbo. \nSave some 30 ml soup Add the first half of the diced onions \nstir them for 5 mins then add the chopped garlic stir and let them \ncook for 5 mins \nStep 4 \nAdd the first",
         "4.0",
         "365",
         "259",
         "71",
         "255",
         "205",
         "20",
         "57"
        ],
        [
         "4",
         "chicken stew",
         "60",
         "Boiled chicken\n2 Red onion\n1 Spring onion\n4 Tomatoes\n1 Green bell pepper\n1 Potato\n2 carrots\n1/2 teaspoon Salt\n1 teaspoon pilau masala\nCoriander/ dhania",
         " Step 1Boil 1 diced potato and 1 diced carrot\n       Step 2 Add cooking oil to a pan and fry 1 diced red onion and 1 green bell pepper. Add 4 chopped tomatoes Add the boiled potato and carrot to the mixture then add salt and pepper. Lastly add half of water.\n       Step 3 Once they are ready, use a blender and blend all the ingredients together\n       Step 4 Separately add oil to a pan and red onions, then add spring onion after 2 minutes. As they cook add pilau masala, then add your boiled chicken pieces.\n       Step 5 Cover and let it cook for about 20 minutes however keep checking and turning until the chicken has started to develop a brown quoting\n       Step 6 Add the blended mixture to the chicken and cover as you let it cook for 10 minutes\n       Step 7 Pre heat oven at 180 degrees as you wait for the chicken to continue cooking\n       Step 8 After the 10 minutes are done, add chopped coriander\n       Step 9 Add your chicken to a baking dish, cover with foil then put it in the oven and set the timer to 20 minutes\n       Step 10 After the 20 minutes are done remove from the oven and serve! You can serve this chicken with rice, chapati, mashed potatoes, ugali; the list is endless",
         "2.0",
         "171",
         "35",
         "221",
         "109",
         "219",
         "210",
         "125"
        ],
        [
         "5",
         "minji with beef stew",
         "60",
         "1 glass Green peas (minji) pre boiled\n250 gms Pre boiled beef\nSliced onion\nSliced tomatoes\nGarlic paste\nGinger paste\nSalt to taste\nGreen pepper\n100 ml Water\nbunch Dhania\nCooking oil\nPotatoes",
         "Step 1\nIn a hot pan put your cooking oil and onions Cook until late lightly brown\nStep 2\nAdd in the garlic paste and ginger paste\nStep 3\nAdd the pre boiled beef stir until they mix up together for 5mins\nStep 4\nAdd the sliced tomatoes and green pepper while stirring\n(At this point you can add your spices of choice)stir until cooked\nStep 5\nAdd the potatoes and the pre boiled green grams\nStep 6\nAdd salt to taste and stir and add water (the amount of your choice)\nStep 7\nCover and simmer for 10 mins\nStep 8\nAdd in your dhania\nStep 9\nServer and enjoy",
         "4.0",
         "242",
         "13",
         "230",
         "49",
         "286",
         "247",
         "24"
        ],
        [
         "6",
         "african brewed lemon grass tea",
         "30",
         "1 Cup milk\n1 cup water\n1/2 tsp Kenyan tea\nSome lemon grass\nSugar (optional)",
         "Step 1\nBring to boil the milk and water.\nStep 2\nAdd tea and lemon grass and let it boil on low heat for about 4 min.\nStep 3\nSieve and enjoy your tea with or without sugar\n",
         "1.0",
         "785",
         "63",
         "133",
         "128",
         "179",
         "157",
         "269"
        ],
        [
         "7",
         "african cassava chilli-garlic sabzi",
         "60",
         "2 fresh cassava cut into fingers\n3 tbsp salted butter\n2 tbsp sunflower oil \n10 chopped garlic \n3-4 finely chopped green chillies\n11/2 tsp cumin seeds\nSalt to taste \n2 tbsp finely chopped coriander leaves \n3-4 onions rings\n1/2 tsp kashmiri red chillies powder \n1/2 tsp coriander & cumin powder\n2-3 tbsp lemon juice ",
         "Step 1\nWash cassava and pat dry on kitchen towel, peel and cut into long fingers and keep aside.\nStep 2\nHeat butter, add oil, add cumin seeds, when start to crackle, add chopped garlic saute till golden, add cassava long fingers and fry them on medium low heat, add kashmiri red chillies powder , coriander & cumin powder, salt ,finely chopped green chillies and mix well, cook on medium low heat until cassava is tender.\nStep 3\nRemove from heat, add onions rings , finely chopped coriander leaves , lemon juice and mix well, serve hot.",
         "4.0",
         "474",
         "57",
         "223",
         "176",
         "91",
         "265",
         "285"
        ],
        [
         "8",
         "minced meat stew combined with spaghetti",
         "45",
         "Onions\nGarlic and ginger paste\nCarrots\nTomatoes\nPaprika\nBlack pepper\n",
         "Step 1\nAdd your mince meat in a wide pan and cook with medium or low heat\nStep 2\nKeep stiring the minced meat till cook,do not add any water\nStep 3\nAdd ginger and garlic paste to add flavor to the meat and also to remove the meat smell\nStep 4\nAdd onions and mix properly. You canalso add black pepper and paprika\nStep 5\nAdd carrots and tomatoes. Mix well then cover to let everything cook.cook for 5-10min\nStep 6\nRemove the lid and stir the minced meat you can add little water of you want it with soup.\nStep 7\nNow ready to serve with spagheti",
         "1.0",
         "268",
         "126",
         "244",
         "273",
         "11",
         "199",
         "7"
        ],
        [
         "9",
         "kenyan pancakes",
         "60",
         "Some lemon grass\nSugar (optional)\n1 tbsp banking powder\n2 eggs\n50 ml oil",
         "Cooking Instructions\nStep 1\nInto a bowl pour 250 g of of flour\nStep 2\nThen add sugar and the the baking powder.\nStep 3\nAdd 2 Tbsp of oil.\nStep 4\nThen add water and mix till it forms a pouring consistency\nStep 5\nThen to a flat pan preferably noon stick pan, put 1/2 tsp of oil.\nStep 6\nThen pour just a small amount of the mixture to the pan and fry it changes colour to golden brown and produces bubbles on the uncooked side.\nStep 7\nThen turn and cook the uncooked side.\nStep 8\nRepeat the last process till all pancakes are cooked.\nStep 9\nServe with milk of Tea.",
         "4.0",
         "783",
         "71",
         "204",
         "182",
         "100",
         "191",
         "227"
        ],
        [
         "10",
         "kenyan githeri",
         "20",
         "300 g boiled beans\n200 g boiled maize\n3 carrots\nleaves coriander\n3 tomatoes\n1 onions\ncooking oil\n1 avocado",
         "Step 1\nStir fry the onions with oil till golden brown then add tomatoes.\nStep 2\nThen stir and add chopped carrots. Once soft add the beans and maize. Stir and add coriander leaves.\nStep 3\nAdd a little water then add salt. Let it cook for 10 mins.\nStep 4\nRemove from heat and serve. Eat with avocado.",
         "1.0",
         "589",
         "237",
         "219",
         "36",
         "110",
         "242",
         "146"
        ],
        [
         "11",
         "kenyan fried rice",
         "50",
         "2 cups Rice\n1 egg _ whisked\n1 onion diced\n1 capsicum (red capsicum)\n1 carrot diced to small pieces\noil for frying\nto taste Salt\n1 medium size tomato....chopped",
         "Step 1\nWash rice in cold water and soak it in water for 10 minutes\nStep 2\nIn a sufuria heat oil and fry onions until slightly brown. The add in the diced capsicum, carrots and tomatoes and cook for five minutes\nStep 3\nAdd the whisked eggs stir and cook for 3 minutes.Add in the boiled rice/ cooked rice with salt and stir. stir very well to ensure that all sides are coated.\nStep 4\nRemove from fire and set a side to cool then serve.",
         "2.0",
         "976",
         "228",
         "215",
         "247",
         "215",
         "262",
         "2"
        ],
        [
         "12",
         "kenyan matoke",
         "45",
         "10 raw bananas\n3 tomatoes\n1/2 onion\nleaves coriander\ncooking oil\n1 pinch salt\n1 tsp royco",
         "Step 1\nSmear oil on your hands and peel the bananas. Then wash the bananas.\nStep 2\nStir fry the onions with oil then add tomatoes. Let the tomatoes soften then add the bananas.\nStep 3\nStir then add the coriander leaves, royco and salt.\nStep 4\nCover then let it cook for 25-30 mins till soft.\nStep 5\nRemove from heat and serve. Yummy!!",
         "1.0",
         "952",
         "68",
         "206",
         "38",
         "17",
         "79",
         "277"
        ],
        [
         "13",
         "ugali,spinach and pork",
         "50",
         "Raw pork\nOnions\nSoy sauce\nSalt\nSpinach\nCooking oil\nMaize Flour\nleaves Pumpkin",
         "Step 1\nMake the Ugali by boiling water and mixing in the flour until it thickens\nStep 2\nFor the vegetables, cut Spinach and Pumpkin leaves together.\nFry Onions until transparent\nAdd in Salt and Curry or Royco\nMix in the vegetables and steam for 4mins\nStep 3\nFor the Pork: boil with salt for 5 mins.\nFry the pork until Golden brown, Add in Onions,and keep frying.\nAdd salt and required spices and the Dark soy sauce\nFry for 3minutes Serve while hot or warm",
         "2.0",
         "641",
         "261",
         "103",
         "31",
         "224",
         "178",
         "68"
        ],
        [
         "14",
         "african savanna",
         "20",
         "1 small fresh pineapple cut into small cubes\n1 fresh orange (seeds remove) cut into small cubes\n1 fresh mango cut into small cubes\n1/2 cup fresh pomegranate juice\n3-4 tbsp sugar\n1 fresh apple cut into small cubes\n1/2 cup - 1 cup chilled water",
         "Cooking Instructions\nStep 1\nPeel, pineapple , apple , mango  and orange . Cut all of them into small cubes, keep aside.\nStep 2\nIn a blender add cubes of pineapple ,apple , orange , mango , pomegranate juice, sugar, chilled water and blend until smooth, sieve juice.\nStep 3\nPour in serving glasses, if desired add ice cubes and serve immediately. Enjoy\nStep 4\nNote: it is kindly recommended that use fresh fruits in this recipe, (don't use bottle or canned fruits or juice's) to make this recipe.",
         "3.0",
         "281",
         "206",
         "165",
         "161",
         "116",
         "190",
         "5"
        ],
        [
         "15",
         "african style red kidney beans curry",
         "45",
         "1 cup red kidney beans soaked and boiled\n3-4 raw green bananas\n1 tsp white vinegar\n1/2 tsp black pepper powder\nSalt to taste \n1 tsp bihari masala powder for flavour\n1 tsp coriander & cumin powder\n1 tbsp ginger garlic paste \n2 tbsp green chillies paste\n1 tbsp ready made tomato paste\n1 tsp kashmiri red chillies powder \n4 tbsp sunflower oil \n3-4 finely chopped onions \n11/2 finely chopped tomatoes \n1 tbsp finely chopped coriander leaves \n1 tsp cumin seeds\n2 cups boiled kidney beans water\n",
         "Cooking Instructions\nStep 1\nHeat oil, add cumin seeds when start to crackle and add finely chopped onions , till golden, add finely chopped tomatoes , mix well, add salt , cook for 1 mins.\nStep 2\nAdd ready made tomato paste , ginger garlic paste , black pepper powder, kashmiri red chillies powder , bihari masala powder, green chillies paste, coriander & cumin powder mix well, cook till oil comes out, add boiled kidney beans, mix well. Add boiled kidney beans water  let it boiled.\nStep 3\nPeel raw (green) bananas, add in boiling gravy, cook until bananas are tender. Serve hot with jeera (cumin) rice and salad.",
         "3.0",
         "280",
         "101",
         "154",
         "72",
         "196",
         "151",
         "295"
        ],
        [
         "16",
         "fluffy home made donuts",
         "30",
         "540 g flour\n300 ml milk\n7 g Baking yeast\n100 g margarine\n3.5 g baking powder\n50 g caster sugar\n3 eggs",
         "Sieve and enjoy your tea with or without sugar",
         "1.0",
         "299",
         "190",
         "45",
         "112",
         "202",
         "130",
         "275"
        ],
        [
         "17",
         "ugali the kenyan staple food",
         "30",
         "3 cups water\n3 cups maize meal",
         "Step 1\nIn a sufuria bring water to boil. Add the maize meal and stir with a mwiko.until the mixture is thick and smooth.\nStep 2\nMake sure it is not too stiff. Add boiling water if it is too thick.Gather the mixture in the middle of the pan and turn the heat to low.\nStep 3\nCover the pan and leave it on low heat.for about 15 minutes turning after some time.\nStep 4\nFlip the ugali onto a plate and after it cools a bit cut it to the shape you desire or as common people do form it into cake.\nStep 5\nServe with chicken stew or beef stew or even sour milk (maziwa mala)",
         "2.0",
         "287",
         "8",
         "228",
         "48",
         "276",
         "201",
         "83"
        ],
        [
         "18",
         "chinsaga/saget/african spider plant",
         "40",
         "Saget\nOnions\nTomatoes\nSalt\nCooking oil",
         "Step 1\nPrepare your vegetables, (saget and terere) wash them thoroughly since they often have lots of soil\nStep 2\nBoil for 2 hours more or less defending on how you prefer them to be.\nStep 3\nPrepare onions and tomatoes\nStep 4\nFry onions then add in tomatoes\nStep 5\nLater add in your vegetables in small bunches and salt to taste\nStep 6\nCook until ready and serve with ugali",
         "4.0",
         "745",
         "250",
         "3",
         "28",
         "48",
         "84",
         "215"
        ],
        [
         "19",
         "kenyan omelette",
         "8",
         "3 eggs\n1 tbsp oil\n1/2 tea spoon of salt",
         "Step 1\nInto a bowl break 3 eggs and mix well with a hand mixer.\nStep 2\nThen put one tbsp of oil into a pan and heat the pan.\nStep 3\nThen add salt to the raw eggs and mix very well so that salt doesn't remain in one place\nStep 4\nThen pour the eggs to the heated pan and allow it to cook for about 3 minutes.\nStep 5\nThen turn the other side and let it cook also for 2minutes.\nStep 6\nThen serve with tea for breakfast or with bread.",
         "3.0",
         "217",
         "225",
         "287",
         "221",
         "73",
         "116",
         "117"
        ],
        [
         "20",
         "african style rajma with nsima and peri",
         "45",
         "1 and a 1/2 standard measuring cup fresh Rajma (kidney beans)\n1 tsp salt\n1 medium size onion\n1 medium to big tomato\n1 tsp Kambuzi chilli sauce\n4 tbsp oil",
         "Step 1\nWash beans. Take them in a thick pot, add lots of water and half the amount of salt. Cover the pit and cook on slow flame until the beans are thoroughly cooked. They must not be even a bit hard. We are aiming at mushy beans. This may take over 2 hours. You may have to add more water in between if required.\nStep 2\nHeat oil in a pan. Fry onions till they shrink a bit. Add tomatoes and the remaining amount of salt.\nStep 3\nCook till they are soft. Add Kambuzi chilli or the chilli sauce. Add this mixture to the boiling beans.\nStep 4\nAdjust consistency. Let it simmer for about 5 min. Serve it hot with Nsima and Kambuzi chilli sauce.",
         "3.0",
         "554",
         "195",
         "97",
         "291",
         "113",
         "164",
         "115"
        ],
        [
         "21",
         "kenyan 'kachumbari'",
         "5",
         "6-10 fresh tomatoes\n5-8 onions\n2 dhanias/ coriander\nsweet coloured capsicum(optional)\nMild chillies if you like\nto taste salt\nlime juice/add lemons",
         "Step 1\nChop all the ingredients\nStep 2\nCombine them together in a bowl.\nStep 3\nServe immediately.",
         "1.0",
         "905",
         "75",
         "60",
         "115",
         "26",
         "48",
         "34"
        ],
        [
         "22",
         "african mukimo",
         "45",
         "Potato\nMaize\nGreen (kahurura)\nOnion",
         "Step 1\nBoiler maize\nStep 2\nBoiler potatoes,mixing with boiler maize\nStep 3\nBoiler Green and you blend\nStep 4\nMarsh the potatoes and maize you add the blend greens\nStep 5\nFry the onions mixing",
         "2.0",
         "818",
         "56",
         "16",
         "288",
         "83",
         "275",
         "233"
        ],
        [
         "23",
         "african style tandoori chicken 🐓& kachumbari mixed salad",
         "125",
         "1 whole chicken \n11/2 tbsp tandoori masala\n1 tbsp garlic paste \n2-3 tbsp plain yogurt\n1/2 tsp kashmiri red chillies powder \nSalt to taste\n2 tbsp oil\n11/2 tbsp finely chopped coriander leaves ",
         "Step 1\nWash and clean chicken , pat dry on kitchen towel and keep aside. Cut from the middle, but it should be intact.\nStep 2\nIn a small bowl  add tandoori masala, garlic paste , kashmiri red chillies powder , plain yogurt, salt and oil mix well to combine, cover and marinade for 1 hr.\nStep 3\nI have used African traditional method to make this chicken. Heat charcoal, wash and cleaned my grill net well, add marinated chicken and grill slowly, add few tsp of oil in between and grill until chicken is tender, and serve hot with kachumbari African salad .\nStep 4\nNote: the chicken on grill is not African style tandoori chicken, I have just show the method how African tandoori chicken is grilled. If you desired you can bake in the oven at 180°c for 45 mins. Cook & check in-between, don't burn your chicken because this chicken has no masala mixture to cover it.\nStep 5\nGarnish with finely chopped coriander leaves  and lemon wedges ",
         "3.0",
         "531",
         "112",
         "263",
         "165",
         "125",
         "164",
         "227"
        ],
        [
         "24",
         "african meal recipe",
         "320",
         "50 grams Nkok/okazi leaves dry\n1 pound peanut butter\n200 grams palm cream concentrate (half a can)\n1/3 cup sugar\n1 tsp salt\nFrozen or fresh cassava\nFrozen fermented cassava(bobolo)",
         "Step 1\nSoak the leaves in hot boiling water the night before, and cook it the next day for 4 hours or more on medium heat (it takes a long time for the leaves to soften), rinse the leaves after boiling multiple times and place it back into the pot\nStep 2\nOn a medium heat, add the palm concentrate, peanut butter, palm concentrate, sugar and salt, cook for 45 minutes on low-medium heat while stirring so it doesn't stick to the bottom and adding water as needed (about 8-10)\nStep 3\nCassava both regular and fermented can be boiled, the fermented doesn't need more than 10 minutes to cook in boiling water... as for the regular cassava 20 minutes or until tender fully\nStep 4\nSpoon out the stew/paste on the cassava and enjoy! It tastes heavenly",
         "1.0",
         "931",
         "175",
         "196",
         "262",
         "63",
         "16",
         "288"
        ],
        [
         "25",
         "kenyan delicacy\"vitumbua\"",
         "10",
         "1 3/4 cups thick/ heavy tui/ coconut milk\n11/2 cups rice (the thick variety if possible, we need these to be able to mash up nicely)\n1 cup sugar\n1 tbs instant yeast\n1 TBS cardamom powder\nOil for frying",
         "Step 1\nSoak the rice overnight, and then drain completely. Make sure no water remains in the rice, and you can do this by leaving it in a sieve to drain for as long as you can.\nStep 2\nPut the rice, coconut milk, yeast and cardamom powder into your blender and blend until completely smooth. This may take a while but stick to it. Keep blending for a full minute at a time, giving the blender a rest of a few seconds between pulses. Once you're satisfied that the rice has been mashed completely and your batter is smooth, pour it out into a bowl, cover and set aside to rise for 30-60mins.\nStep 3\nThis is how thick the batter will look after 30-60 mins. Add the sugar and mix it in using your hand. Make sure you mix it completely such that no sugar granules remain.\nStep 4\nOnce the sugar is mixed in, the batter will become lighter and slightly more runny in consistency\nStep 5\nIf you have an appam pan like the one in the pic, use it for smaller sized vitumbua. Otherwise use the smallest karai that you've got. Add oil into it, half a tsp. per slot if you're using an appam, otherwise more if using a bigger pan. Heat it up on medium.\nStep 6\nCarefully, pour your batter into the pan. Do not over-fill.\nStep 7\nAs the vitumbua cook, you will notice tiny bubbles forming all over the batter in the pan. This is a good sign, it means your vitumbua will have the perfect sieve-like texture. Keep the heat on low so that the vitumbua cook through without burning\nStep 8\nWhen you notice the vitumbua firming up and their bottoms look colored, gently turn each one over and cook the other side. You can use a skewer or flat wooden stick for this.\nStep 9\nCook the other side to a good golden color. Remove and continue this method for the rest of your batter. Serve warm.\nStep 10\nThis how the Appam pan looks like.",
         "4.0",
         "328",
         "281",
         "28",
         "115",
         "117",
         "95",
         "124"
        ],
        [
         "26",
         "spinach,kale mango smoothie",
         "5",
         "1 mang\n100 ml water\n3 leaves Spinach\n2 leavea kales\n1 bowl nettle",
         "Step 1\nPeel the mango and cube them\nWash the greens and cut\nStep 2\nPut them into the blender.\nAdd the water and blend to a smooth mix.\nStep 3\nServe and enjoy",
         "4.0",
         "552",
         "187",
         "210",
         "46",
         "234",
         "144",
         "99"
        ],
        [
         "27",
         "january recipe githeri",
         "45",
         "3 medium sized potatoes\n2 medium-sized carrot\n1 green bell pepper\n3 stems of coriander\n100 g pre boiled Githeri\n1 medium-sized tomato\n1 medium-sized tomato\n5 g turmeric powder",
         "Step 1\nFinely chop all the raw ingredients\nStep 2\nFry onions until golden brown, add tomatoes and cook until well cooked then add your coriander stems\nStep 3\nAdd turmeric, carrot and stir and add potatoes\nStep 4\nAdd salt to taste\nStep 5\nAdd Githeri and 250g of water and cook at low eat\nStep 6\nAdd the bell pepper and stir\nStep 7\nAdd the coriander leaves and turn of the heat\nStep 8\nServe with your avocado",
         "3.0",
         "322",
         "143",
         "215",
         "122",
         "100",
         "159",
         "151"
        ],
        [
         "28",
         "african bhajia potatoes",
         "180",
         "1 kg Potatoes\n1/2 cup Exe flour\nGinger/garlic\nCummins seed's\nEgg yellow 1/2t/spoon\nSalt\nDhania\nOil",
         "Step 1\nSlice your potatoes.\nStep 2\nMix all your ingredients together in a bowl to a thick butter by adding water.\nStep 3\nOn a medium heat the oil and deep fry the potatoes to done and soft.\nStep 4\nServe still hot and crunchy with salad of your choice.",
         "1.0",
         "152",
         "104",
         "249",
         "116",
         "113",
         "284",
         "16"
        ],
        [
         "29",
         "cinnamon mandazi",
         "70",
         "2 cups baking flour\n200 ml milk\n2 eggs\n1 teaspoon cinnamon\n5 tablespoons sugar\n1 tablespoon bàking powder\n1/4 cup water\n1/2 litre oil",
         "Step 1\nPour the flour into a bowl\nStep 2\nAdd sugar, cinnamon baking and mix\nStep 3\nAdd eggs and mix\nStep 4\nAdd a little oil and rub till golden brown\nStep 5\nWarm the milk and water together and add to the mixture\nStep 6\nKnead the dough for 2minutes\nStep 7\nCover the dough for 30minutes\nStep 8\nSpread it in a flat surface and cut it into pieces of your choice\nStep 9\nDeep fry until golden brown\nStep 10\nServe it hot\n",
         "2.0",
         "955",
         "220",
         "160",
         "47",
         "278",
         "98",
         "262"
        ],
        [
         "30",
         "african beef stew",
         "60",
         "Ingredients\n250 grams beef\n1/2 cup peas\n3 potatoes\n1 carrot\n1 tomato\n1 beef cube",
         "Step 1\nBoil the beef till tender and save the broth\nStep 2\nFry the onions till brown n add tomatoes.\nStep 3\nAdd potatoes, meat, broth, peas n let simmer\nStep 4\nSeason n serve",
         "4.0",
         "784",
         "228",
         "239",
         "5",
         "273",
         "276",
         "78"
        ],
        [
         "31",
         "muthokoi",
         "120",
         "Yellow beans a half a kilo. Uncoated maize grains also a half a kilo. Add salt to test",
         "For the final cooking method \"karanga\". Fry the onions with oil and tomato to make a fine greesy source for mixing in the boiled muthokoi",
         "3.0",
         "509",
         "148",
         "222",
         "141",
         "196",
         "79",
         "266"
        ],
        [
         "32",
         "wet fry beef & chinsaga (african spider plant)",
         "60",
         "Beef\nGinger\nGarlic\nSalt\nTomatoes\nOnions",
         "Step 1\nPrepare your ingredients while the meat is boiling\nStep 2\nAdd water to the beef and let it boil some more then drain the excess water (broth) into a bowl\nStep 3\nAdd some cooking oil into the meat and let it cook slightly before adding your onions\nStep 4\nLater add in the ginger and garlic mixture and let it cook for minute\nStep 5\nThen add in the tomatoes and salt...let it cook\nStep 6\nYou can serve at this point or add in the broth to have soup if you prefer soup\nWhen done serve with greens of your choice and ugali or any other accompaniment\nStep 8\nEnjoy",
         "4.0",
         "261",
         "237",
         "90",
         "288",
         "157",
         "221",
         "60"
        ],
        [
         "33",
         "fried pork with ugali",
         "50",
         "Ingredients\n1/2 kg pork\nOnions\nGarlic\nCayenne\nSalt to taste\nDhania",
         "Cooking Instructions\nStep 1\nBoil the meat till tender\nStep 2\nOnce dry, in the same sufuria add the onions and garlic and continue stirring since the meat will be draining its oil. Cook on low heat\nStep 3\nSalt and once browned, garnish with dhania and allow to cool serve hot with ugali",
         "3.0",
         "103",
         "255",
         "297",
         "165",
         "192",
         "257",
         "168"
        ],
        [
         "35",
         "tumbukiza beef with peas",
         "60",
         "Ingredients\n1/2 kg beef\nPeas\nDhania, Chopped\nHoho, chopped\nOnions, chopped\nGarlic, grated\nginger, grated\nsalt to taste\nTomatoes, chopped\nblack pepper\nCayenne\nSoy sauce",
         "Cooking Instructions\nStep 1\nWash meat and bring to boil. Put enough water\nStep 2\nAdd garlic, onions and ginger.add the tomatoes and salt. Add the peas\nStep 3\nNow put in the spices and soy sauce\nStep 4\nOnce the water reduces totally and beef is cooked, add the dhania and hoho. Allow the meat to cool\nStep 5\nServe hot. Enjoy with any dish of choice",
         "4.0",
         "627",
         "33",
         "114",
         "298",
         "292",
         "152",
         "106"
        ],
        [
         "36",
         "african pork sausage",
         "10",
         "2 tablespoon cooking oil\n2 whole pork sausage",
         "Step 1\nHeat cooking oil in a pan\nStep 2\nPut sausage and let it cook while turning after 2 second till it turns golden brown\nStep 3\nServe hot with kachumbari",
         "4.0",
         "779",
         "185",
         "27",
         "8",
         "169",
         "110",
         "123"
        ],
        [
         "37",
         "east african swahili biryani",
         "75",
         "4-5 chicken pieces \n2 chopped tomatoes \nSalt to taste \n5 onions chopped \n2 green chillies chopped\n11/2 tbsp ready made tomato paste \n1 tsp sugar\n1 tbsp cumin powder\n1 tsp cinnamon powder\n1/4 tsp cloves powder\n1 tsp cardamom powder\n1 tsp black pepper powder\n1 tbsp ginger- garlic paste 🧄\n1/2 cup yogurt\n2 tbsp chopped coriander leaves\n4 Potatoes for chips\n3 tbsp ghee\n1 tsp kashmiri red chillies powder 🌶️\n1/2 tsp coriander & cumin powder\n11/2 tsp turmeric powder\n2 tbsp fried onions 🧅\n2 cups basmati rice 🍚\n1 tsp cumin seeds, 1 black cardamom, 4-5 small cardamom\n1-2 cinnamon stick, 3-4 cloves, 1 bay leaf\n2 leaves of star anise, 1/2 tsp black pepper corns\nFew strands of saffron for garnish",
         "Step 1\nWash and peel potatoes , cut potatoes into chips, deep fry them until done, keep aside.\nStep 2\nFor white  rice : boil water, add whole spices,salt, let them boil for 5 mins, add 1 cup rice, cook until rice is done, keep aside.\nStep 3\nFor yellow rice: heat oil, add cumin seeds when start to crackle, add turmeric powder, salt mix well\nStep 4\nFor gravy: in a heavy bottom pan, add ghee, when hot add cumin seeds, when start to crackle, chopped onions cook until golden brown, add ginger- garlic paste mix well, cook for 1 min.\nStep 5\nAdd chopped tomatoes , salt , chopped green chillies, ready made tomato paste  and mix, cook for 1 min, when oil comes out, add chicken pieces mix, add sugar, grounds spices (cumin powder, cinnamon powder, cloves powder, black pepper powder) and mix well and cook for 2 mins.\nStep 6\nAdd kashmiri red chillies powder , turmeric powder coriander & cumin powder, yogurt, little water mix well, cover and cook until chicken is tender and gravy is thick. Remove from the flame, keep aside.\nStep 7\nNote: you can cut potatoes into half and deep fry them, I have used potatoes  chips in my version and always I used some of Indian spices for enhance the flavor.\nStep 8\nTo assemble the biryani: mix both rice,add fried onions  and chopped green coriander leaves and mix gently,take your serving dish and add rice, on top add chicken pieces, pour hot gravy, spread little fried onions  and chopped coriander leaves, on side of your dish add fried chips and serve hot.\nStep 9\nTip: add remaining gravy in small bowls and serve individually with biryani,if you like.",
         "1.0",
         "299",
         "63",
         "44",
         "277",
         "128",
         "164",
         "299"
        ],
        [
         "38",
         "boiled african beef stew",
         "50",
         "1/2 kg fresh beef on bone\n2 onions\n2 Tomatoes\n5 pcs potatoes\n1 pc leek\n2 cloves crushed/ grated garlic\n2 pcs carrots\n1 courgett\nCan add as many veges as you can such as assorted Bell peppers, dhania etc",
         "Step 1\nClean your beef.\nStep 2\nPut it in a sufuria, add salt n some garlic, 1 pc tomato n 1 pc onion. Leave some garlic, tomato n onion to add it later while your beef is almost ready.\nStep 3\nMix them well for like 15 mins on a low heat.\nStep 4\nAdd water in it and bring to boil.\nStep 5\nAs you boil it, prepare your vegetables by cleaning, peeling n dicing them accordingly.\nStep 6\nDepending on how your soft or tough your beef is, when 3/4 done, add your potatoes n let them boil together till ready. Let them cook n not mash. Taste salt n make sure it has enough soup (optional).\nStep 7\n5 mins before you are done with your beef, add carrots, courgettes, garlic, tomatoes n onions that your left behind. Put off the heat n let your meal cool ready for service. Can add dhania, fresh chilli at this point if need be.\nStep 8\nServe at your own leisure with any accompaniment of your choice or just like that. Enjoy.\n",
         "3.0",
         "199",
         "64",
         "2",
         "93",
         "266",
         "90",
         "258"
        ],
        [
         "39",
         "beans stew",
         "60",
         "2 and half cup boiled beans\n1 medium size garlic\n4 small bulb onions\n250 mls blended tomatoes\nCooking oil\nSalt\n4 glasses clean water",
         "Step 1\nPrepare your ingredients and the cooking area\nStep 2\nDice your onions, grind ginger and blend your tomatoes.\n\nStep 3\nBring the onions fry in cooking oil.\nAdd your ground ginger to fry with the onions\nThis is exactly golden brown that I do talk about, \nI wish I could capture the aroma\nStep 4\nAdd your blended tomatoes. Stir\nCover snd let cook for 3mins to form a paste\nStep 5\nAdd the boiled beans ensure the beans are boiled well, I boiled mine using the smart pressure cooker\nTo form a thick bean stew mash the beans slightly, not all the beans but a cooking spoon\nStep 6\nAdd 3 cups water to your beans, salt to taste.\nStir to mix well and cover.\nLet it cook for 5 mins\nStep 7\nMy mum once told me to always ensure there is no foam in my cooked bean stew,\nThat's always an indicator of a well cooked bean stew\nStir and let cook till this kind of foam is gone.\nStep 8\nIn 5-10 mins on moderate heat, your bean stew will be ready.\nI love beans with chapati, but today I'll do rice \nStep 9\nServe hot and enjoy\n\n",
         "4.0",
         "403",
         "268",
         "260",
         "16",
         "264",
         "267",
         "138"
        ],
        [
         "40",
         "african kale (kunde)",
         "20",
         "Cooking oil\nSalt\n1 full onion\nMilk\n3 full tomatoes",
         "Step 1\nBlunch the kale for about 5 mins\nStep 2\nFry onions on another sufuria till golden brown\nStep 3\nAdd tomatoes to the golden brown onions and cook for a while\nStep 4\nAfter the onion and the tomatoes has become soft and fine add salt\nstep 5\nAdd kales and cover for a while before adding milk\nStep 6\nAfter it has boil for 5 mins add milk then cover for some 5 mins then serve with hot ugali",
         "4.0",
         "808",
         "7",
         "269",
         "0",
         "254",
         "220",
         "146"
        ],
        [
         "41",
         "african cookies",
         "30",
         "500 g flour (white maize flour)\n1 1/2 cups clean water\n3 teaspoonfuls of sugar\n1 pinch salt\nCooking oil",
         "Step 1\nMix flour with sugar and salt.\nStep 2\nAdd water and make thick paste.\nStep 3\nMake small balls with your paste\nStep 4\nPut oil in a cooking pot... For deep fry (the amount of oil depends on how many balls you got) let it cook for 7mins.\nStep 5\nFry the cookie balls in the pot. Notice the colour change to golden brown.\nStep 6\nServe hot with your favourite drink.",
         "3.0",
         "333",
         "30",
         "271",
         "187",
         "252",
         "27",
         "194"
        ],
        [
         "42",
         "african dagaa (sardines)",
         "60",
         "50 gms African dagaa (sardines)\n2 tbsp plain yoghurt\n2 small size onions finely chopped \n1 small size finely chopped \n1/2 \" finely chopped ginger\n5 garlic cloves finely chopped \n2 green chillies finely chopped\n1 tbsp coriander leaves finely chopped\n1 tsp cumin seeds\nSalt to taste \n2 tbsp sunflower oil \n1 /2 tsp kashmiri red chillies powder \n1/2 tsp coriander & cumin powder\n1/4 tsp turmeric powder",
         "Step 1\nHeat sunflower oil , add cumin seeds, when start to crackle add finely chopped onions , stir.\nStep 2\nAdd finely chopped ginger and garlic , green chilies and mix, add finely chopped  tomato, salt🧂, cook until oil comes out, add all the spices, kashmiri red chillies powder , turmeric powder, coriander & cumin powder, little finely chopped coriander leaves mix it well, add plain yoghurt, cook for 2 mins on medium heat, add dagaa mix well.\nStep 3\nJust cook for 1 min and serve hot, garnish with finely chopped coriander leaves.\nStep 4\nServe with wali (plain rice/ coconut  rice), ugali.",
         "1.0",
         "408",
         "286",
         "201",
         "238",
         "70",
         "265",
         "26"
        ],
        [
         "43",
         "managu (african nightshade)",
         "30",
         "Managu\nOnions\nTomatoes\nSalt\nCooking oil",
         "Step 1\nCarefully select your managu to ensure it's clean\nStep 2\nWash with plenty water\nStep 3\nBoil for some minutes\nStep 4\nFry onions and tomatoes... Add salt to taste\nStep 5\nAdd the managu and cook for a few minutes...to reduce managu's bitterness you can either add spinach or terere(amaranths)\nStep 6\nServe with ugali",
         "4.0",
         "308",
         "95",
         "66",
         "185",
         "274",
         "51",
         "269"
        ],
        [
         "44",
         "african mashed potatoes",
         "45",
         "6 large potatoes\n3 large arrowroots\n5 green bananas\nCooking oil\n1 large onion",
         "Step 1\nPeel the potatoes, arrowroots, and bananas.\nStep 2\nWash them\nStep 3\nFry the onion till golden brown.\nStep 4\nAdd the potatoes,arrowroots and bananas.\nStep 5\nCover them till they are cooked\nStep 6\nMash them.\nStep 7\nServe with vegetable salad.",
         "3.0",
         "495",
         "143",
         "202",
         "127",
         "38",
         "7",
         "67"
        ],
        [
         "45",
         "african kales",
         "10",
         "Kales freshly cut\nOil\nRed onions 1 large\n3 tomatoes well chopped",
         "Step 1\nFry the onions in oil until golden brown.\nAdd garlic\nAdd salt\nStep 2\nAdd the tomatoes.\nAdd any spices of your choice for me I prefer turmeric, coriander powder and royco cubes.\nStep 3\nCover for one minute to cook\nStep 4\nMix well to get a consistent mixture of the tomatoes.\nStep 5\nAdd the kales\nMix well on medium heat\nStep 6\nServe with your preferred dish\nUgali, chapati\nEnjoy",
         "1.0",
         "498",
         "270",
         "165",
         "86",
         "94",
         "49",
         "150"
        ],
        [
         "46",
         "african polenta (ngunja matu)",
         "20",
         "2 cups maize flour\n1/4 cup boiled beans\nBunch pumpkin leave's\nWater\nto taste Salt\nBlue band\n1 big onion",
         "Step 1\nChop the onion and the pumpkin leaves\nStep 2\nFry the onion with the blue band until golden brown\nStep 3\nAdd the pumpkin leaves cook for 1 minute then put salt to taste\nStep 4\nAdd the boiled bean's and stir\nStep 5\nAdd enough water and let it boil\nStep 6\nAdd the maize flour and stir until it hardens\nStep 7\nCook under moderate heat for ten minutes\nStep 8\nServe with stirrifried cabbage's",
         "3.0",
         "695",
         "172",
         "190",
         "130",
         "269",
         "279",
         "175"
        ],
        [
         "47",
         "african sausage(mutura) served with salad",
         "45",
         "Matumbo minced\nDhania\nSalt\nPepper",
         "Step 1\nWash and boil matumbo\nStep 2\nAdd onions and dhania and salt\nStep 3\nAdd pepper aswell\nStep 4\nTake the intenstines and suck the matumbo in.\nStep 5\nPut them on a grill and smoke till ready",
         "1.0",
         "393",
         "71",
         "15",
         "268",
         "267",
         "270",
         "95"
        ],
        [
         "48",
         "soft layered east african carrot chapati",
         "120",
         "6 cups all-purpose flour for the dough\n1/4 cup sugar\n1 grated carrot\n1 tbsp salt\n2 1/4 cups warm water\n4 tbsp vegetable oil for the dough\n1 cup all-purpose flour for dusting\n1 1/2 cup vegetable oil for cooking and dough spread",
         "Step 1\nMix the flour, sugar, grated carrot and salt in a mixing bowl. In another container mix water and vegetable oil.\nStep 2\nAdd the water gradually in the dry ingredients mixing with your hands or a dough mixer if you have one until you get a very nice soft dough and ensure it doesn't stick on your hand.\nStep 3\nWhen you get that nice dough, coat it with oil and flour and it's now ready to work with.(The dough made 25 chapatis).\nStep 4\nDivide the dough in five portions to work with each at ease. With each portion, roll out the dough until its very thin and spread oil then divide in five equal parts.\nStep 5\nRoll each part lengthwise then roll to form a coil kinda shape and tuck in the end. Arrange the coils in a systematic way and then cover them using a kitchen towel. If you feel the coil is a little bit too much, cut it, and if you feel it's small add from any coil you've cut.\nStep 6\nHeat your pan and then start rolling out each coil forming a nice round shape\nStep 7\nIn a hot pan, place the rolled out round dough and let it cook for about 10 seconds each side with 4 flips without oil. Now spread oil each side at a time and let it cook. Put the chapatis in a hotpot or the storage container you prefer using.\nStep 8\nRepeat the rolling out and cooking process to the rest of dough coils.\nStep 9\nOnce you're done, serve when hot with your best stew. Enjoyyy.",
         "3.0",
         "894",
         "236",
         "234",
         "206",
         "244",
         "247",
         "168"
        ],
        [
         "49",
         "wukunu (sweet potatoes & dehulled black beans)",
         "60",
         "Ingredients\n2¼ cups (384 g) black beans, dolichos\nlablab, raw, dry\n7 sweet potatoes, unpeeled, pink skin,\nraw (1.8 kg)\n13½ cups (2946 g) water\n2 tsp. (11 g) salt, iodized",
         "Preparation 15 minutes | Cooking 2 hours 30 minutes | Serves 4\n• Sort the black beans and wash.\n• Boil the beans in 9 cups of water for 1 hour 20 minutes (or until almost cooked).\n• While the beans boil, peel the sweet potatoes and\nset aside covered with water.\n• Remove the boiled beans from fire and set aside to\ncool.\n• Once cool enough to handle, shell the beans\n(remove the outer skin)/ you can also blanch after\ncooling the beans to make shelling easier.\n• Put the shelled black beans into a pot, add 4 ½\ncups of water and boil for 4 minutes.\n• Add the peeled sweet potatoes, salt and boil for 50\nminutes or until the sweet potatoes are tender\n• Remove from fire and mash to a smooth consistency.\n• Serve. ",
         "1.0",
         "896",
         "171",
         "298",
         "257",
         "165",
         "145",
         "162"
        ],
        [
         "50",
         "african tea",
         "15",
         "2 glass water\n1 glass milk\n2 spoon sugar\n1/2 spoon tea leaves",
         "Step 1\nPut water in a sufuria, tea leaves and milk then boil\nStep 2\nServe in a cup sieving the tea leaves\nStep 3\nAdd sugar stir\nStep 4\nTake hot",
         "2.0",
         "284",
         "219",
         "190",
         "53",
         "21",
         "69",
         "5"
        ]
       ],
       "shape": {
        "columns": 12,
        "rows": 190
       }
      },
      "text/html": [
       "<div>\n",
       "<style scoped>\n",
       "    .dataframe tbody tr th:only-of-type {\n",
       "        vertical-align: middle;\n",
       "    }\n",
       "\n",
       "    .dataframe tbody tr th {\n",
       "        vertical-align: top;\n",
       "    }\n",
       "\n",
       "    .dataframe thead th {\n",
       "        text-align: right;\n",
       "    }\n",
       "</style>\n",
       "<table border=\"1\" class=\"dataframe\">\n",
       "  <thead>\n",
       "    <tr style=\"text-align: right;\">\n",
       "      <th></th>\n",
       "      <th>name</th>\n",
       "      <th>minutes</th>\n",
       "      <th>ingredients</th>\n",
       "      <th>steps</th>\n",
       "      <th>Serving</th>\n",
       "      <th>calories</th>\n",
       "      <th>total fat (PDV)</th>\n",
       "      <th>sugar (PDV)</th>\n",
       "      <th>sodium (PDV)</th>\n",
       "      <th>protein (PDV)</th>\n",
       "      <th>saturated fat (PDV)</th>\n",
       "      <th>carbohydrates (PDV)</th>\n",
       "    </tr>\n",
       "  </thead>\n",
       "  <tbody>\n",
       "    <tr>\n",
       "      <th>0</th>\n",
       "      <td>ugali and omena</td>\n",
       "      <td>30</td>\n",
       "      <td>Maize flour\\nOmena\\nOil\\n3 chopped tomatoes\\nC...</td>\n",
       "      <td>Step 1\\nBoil 3 cups of water add maize flour s...</td>\n",
       "      <td>4.0</td>\n",
       "      <td>91</td>\n",
       "      <td>30</td>\n",
       "      <td>203</td>\n",
       "      <td>29</td>\n",
       "      <td>192</td>\n",
       "      <td>172</td>\n",
       "      <td>182</td>\n",
       "    </tr>\n",
       "    <tr>\n",
       "      <th>1</th>\n",
       "      <td>kienyeji fried</td>\n",
       "      <td>25</td>\n",
       "      <td>1 table spoon salt\\n2 table spoon cooking vege...</td>\n",
       "      <td>Asemble the vegetables.\\nPluck leaves from the...</td>\n",
       "      <td>1.0</td>\n",
       "      <td>230</td>\n",
       "      <td>173</td>\n",
       "      <td>247</td>\n",
       "      <td>196</td>\n",
       "      <td>87</td>\n",
       "      <td>200</td>\n",
       "      <td>239</td>\n",
       "    </tr>\n",
       "    <tr>\n",
       "      <th>2</th>\n",
       "      <td>dengu chapati</td>\n",
       "      <td>30</td>\n",
       "      <td>Ndengu\\ncubes congets diced in\\ncubes carrots ...</td>\n",
       "      <td>Step 1\\nSteam the mince meat and add oil then ...</td>\n",
       "      <td>4.0</td>\n",
       "      <td>138</td>\n",
       "      <td>211</td>\n",
       "      <td>131</td>\n",
       "      <td>260</td>\n",
       "      <td>84</td>\n",
       "      <td>75</td>\n",
       "      <td>275</td>\n",
       "    </tr>\n",
       "    <tr>\n",
       "      <th>3</th>\n",
       "      <td>ugali matumbo ft african salad</td>\n",
       "      <td>60</td>\n",
       "      <td>400 g Maize flour \\n20 g Onions \\n11/2 kgMatum...</td>\n",
       "      <td>Step 1 Bring the water to boil, add the maize ...</td>\n",
       "      <td>4.0</td>\n",
       "      <td>365</td>\n",
       "      <td>259</td>\n",
       "      <td>71</td>\n",
       "      <td>255</td>\n",
       "      <td>205</td>\n",
       "      <td>20</td>\n",
       "      <td>57</td>\n",
       "    </tr>\n",
       "    <tr>\n",
       "      <th>4</th>\n",
       "      <td>chicken stew</td>\n",
       "      <td>60</td>\n",
       "      <td>Boiled chicken\\n2 Red onion\\n1 Spring onion\\n4...</td>\n",
       "      <td>Step 1Boil 1 diced potato and 1 diced carrot\\...</td>\n",
       "      <td>2.0</td>\n",
       "      <td>171</td>\n",
       "      <td>35</td>\n",
       "      <td>221</td>\n",
       "      <td>109</td>\n",
       "      <td>219</td>\n",
       "      <td>210</td>\n",
       "      <td>125</td>\n",
       "    </tr>\n",
       "    <tr>\n",
       "      <th>...</th>\n",
       "      <td>...</td>\n",
       "      <td>...</td>\n",
       "      <td>...</td>\n",
       "      <td>...</td>\n",
       "      <td>...</td>\n",
       "      <td>...</td>\n",
       "      <td>...</td>\n",
       "      <td>...</td>\n",
       "      <td>...</td>\n",
       "      <td>...</td>\n",
       "      <td>...</td>\n",
       "      <td>...</td>\n",
       "    </tr>\n",
       "    <tr>\n",
       "      <th>200</th>\n",
       "      <td>african tennis</td>\n",
       "      <td>30</td>\n",
       "      <td>1 cup flour\\n1/4 sugar\\n1 egg\\nPinch salt\\n1 t...</td>\n",
       "      <td>Step 1\\nMix flour, sugar, salt, sugar, yeast t...</td>\n",
       "      <td>2.0</td>\n",
       "      <td>729</td>\n",
       "      <td>242</td>\n",
       "      <td>13</td>\n",
       "      <td>119</td>\n",
       "      <td>244</td>\n",
       "      <td>219</td>\n",
       "      <td>17</td>\n",
       "    </tr>\n",
       "    <tr>\n",
       "      <th>202</th>\n",
       "      <td>my african salad</td>\n",
       "      <td>10</td>\n",
       "      <td>2 cups dried abacha\\n1/2 cube seasoning\\n2 tea...</td>\n",
       "      <td>Step 1\\nGet a bowl and soak the dried abacha i...</td>\n",
       "      <td>3.0</td>\n",
       "      <td>975</td>\n",
       "      <td>49</td>\n",
       "      <td>139</td>\n",
       "      <td>15</td>\n",
       "      <td>200</td>\n",
       "      <td>193</td>\n",
       "      <td>219</td>\n",
       "    </tr>\n",
       "    <tr>\n",
       "      <th>203</th>\n",
       "      <td>sweet mandazi</td>\n",
       "      <td>60</td>\n",
       "      <td>500 g White flour -\\n250 ml Milk -\\n20 g Bakin...</td>\n",
       "      <td>Step 1\\nIn a bowl, add sieved flour, sugar, ba...</td>\n",
       "      <td>4.0</td>\n",
       "      <td>786</td>\n",
       "      <td>91</td>\n",
       "      <td>294</td>\n",
       "      <td>43</td>\n",
       "      <td>271</td>\n",
       "      <td>192</td>\n",
       "      <td>135</td>\n",
       "    </tr>\n",
       "    <tr>\n",
       "      <th>204</th>\n",
       "      <td>roasted guinea fowl parts\\nummul-khairi ahmed</td>\n",
       "      <td>60</td>\n",
       "      <td>Guinea fowl parts\\nchilli powder\\nStar anice p...</td>\n",
       "      <td>Step 1\\nWash ur Guinea fawl parts and allow it...</td>\n",
       "      <td>4.0</td>\n",
       "      <td>277</td>\n",
       "      <td>135</td>\n",
       "      <td>296</td>\n",
       "      <td>180</td>\n",
       "      <td>25</td>\n",
       "      <td>252</td>\n",
       "      <td>213</td>\n",
       "    </tr>\n",
       "    <tr>\n",
       "      <th>205</th>\n",
       "      <td>pigeon peas mukimo</td>\n",
       "      <td>120</td>\n",
       "      <td>1.5 Cups Pigeon Peas /Mbaazi\\n1 Red onion\\n500...</td>\n",
       "      <td>Step 1\\nSoak the pigeon peas for 8+ hours then...</td>\n",
       "      <td>3.0</td>\n",
       "      <td>860</td>\n",
       "      <td>222</td>\n",
       "      <td>209</td>\n",
       "      <td>47</td>\n",
       "      <td>103</td>\n",
       "      <td>213</td>\n",
       "      <td>48</td>\n",
       "    </tr>\n",
       "  </tbody>\n",
       "</table>\n",
       "<p>190 rows × 12 columns</p>\n",
       "</div>"
      ],
      "text/plain": [
       "                                              name minutes  \\\n",
       "0                                  ugali and omena      30   \n",
       "1                                   kienyeji fried      25   \n",
       "2                                    dengu chapati      30   \n",
       "3                   ugali matumbo ft african salad      60   \n",
       "4                                     chicken stew      60   \n",
       "..                                             ...     ...   \n",
       "200                                 african tennis      30   \n",
       "202                               my african salad      10   \n",
       "203                                  sweet mandazi      60   \n",
       "204  roasted guinea fowl parts\\nummul-khairi ahmed      60   \n",
       "205                             pigeon peas mukimo     120   \n",
       "\n",
       "                                           ingredients  \\\n",
       "0    Maize flour\\nOmena\\nOil\\n3 chopped tomatoes\\nC...   \n",
       "1    1 table spoon salt\\n2 table spoon cooking vege...   \n",
       "2    Ndengu\\ncubes congets diced in\\ncubes carrots ...   \n",
       "3    400 g Maize flour \\n20 g Onions \\n11/2 kgMatum...   \n",
       "4    Boiled chicken\\n2 Red onion\\n1 Spring onion\\n4...   \n",
       "..                                                 ...   \n",
       "200  1 cup flour\\n1/4 sugar\\n1 egg\\nPinch salt\\n1 t...   \n",
       "202  2 cups dried abacha\\n1/2 cube seasoning\\n2 tea...   \n",
       "203  500 g White flour -\\n250 ml Milk -\\n20 g Bakin...   \n",
       "204  Guinea fowl parts\\nchilli powder\\nStar anice p...   \n",
       "205  1.5 Cups Pigeon Peas /Mbaazi\\n1 Red onion\\n500...   \n",
       "\n",
       "                                                 steps  Serving  calories  \\\n",
       "0    Step 1\\nBoil 3 cups of water add maize flour s...      4.0        91   \n",
       "1    Asemble the vegetables.\\nPluck leaves from the...      1.0       230   \n",
       "2    Step 1\\nSteam the mince meat and add oil then ...      4.0       138   \n",
       "3    Step 1 Bring the water to boil, add the maize ...      4.0       365   \n",
       "4     Step 1Boil 1 diced potato and 1 diced carrot\\...      2.0       171   \n",
       "..                                                 ...      ...       ...   \n",
       "200  Step 1\\nMix flour, sugar, salt, sugar, yeast t...      2.0       729   \n",
       "202  Step 1\\nGet a bowl and soak the dried abacha i...      3.0       975   \n",
       "203  Step 1\\nIn a bowl, add sieved flour, sugar, ba...      4.0       786   \n",
       "204  Step 1\\nWash ur Guinea fawl parts and allow it...      4.0       277   \n",
       "205  Step 1\\nSoak the pigeon peas for 8+ hours then...      3.0       860   \n",
       "\n",
       "     total fat (PDV)  sugar (PDV)  sodium (PDV)  protein (PDV)  \\\n",
       "0                 30          203            29            192   \n",
       "1                173          247           196             87   \n",
       "2                211          131           260             84   \n",
       "3                259           71           255            205   \n",
       "4                 35          221           109            219   \n",
       "..               ...          ...           ...            ...   \n",
       "200              242           13           119            244   \n",
       "202               49          139            15            200   \n",
       "203               91          294            43            271   \n",
       "204              135          296           180             25   \n",
       "205              222          209            47            103   \n",
       "\n",
       "     saturated fat (PDV)  carbohydrates (PDV)  \n",
       "0                    172                  182  \n",
       "1                    200                  239  \n",
       "2                     75                  275  \n",
       "3                     20                   57  \n",
       "4                    210                  125  \n",
       "..                   ...                  ...  \n",
       "200                  219                   17  \n",
       "202                  193                  219  \n",
       "203                  192                  135  \n",
       "204                  252                  213  \n",
       "205                  213                   48  \n",
       "\n",
       "[190 rows x 12 columns]"
      ]
     },
     "execution_count": 46,
     "metadata": {},
     "output_type": "execute_result"
    }
   ],
   "source": [
    "African_recipies"
   ]
  },
  {
   "cell_type": "markdown",
   "metadata": {},
   "source": [
    "# Correlation between different Nutrients"
   ]
  },
  {
   "cell_type": "code",
   "execution_count": 47,
   "metadata": {},
   "outputs": [
    {
     "data": {
      "application/vnd.microsoft.datawrangler.viewer.v0+json": {
       "columns": [
        {
         "name": "index",
         "rawType": "int64",
         "type": "integer"
        },
        {
         "name": "Unnamed: 0",
         "rawType": "int64",
         "type": "integer"
        },
        {
         "name": "name",
         "rawType": "object",
         "type": "string"
        },
        {
         "name": "serving_size",
         "rawType": "object",
         "type": "string"
        },
        {
         "name": "calories",
         "rawType": "object",
         "type": "string"
        },
        {
         "name": "total_fat",
         "rawType": "object",
         "type": "string"
        },
        {
         "name": "saturated_fat",
         "rawType": "object",
         "type": "string"
        },
        {
         "name": "cholesterol",
         "rawType": "object",
         "type": "string"
        },
        {
         "name": "sodium",
         "rawType": "object",
         "type": "string"
        },
        {
         "name": "potassium",
         "rawType": "object",
         "type": "string"
        },
        {
         "name": "saturated_fatty_acids",
         "rawType": "object",
         "type": "string"
        }
       ],
       "conversionMethod": "pd.DataFrame",
       "ref": "b12d2ef7-b6ad-4f4a-97b6-ebdb887d5a43",
       "rows": [
        [
         "0",
         "0",
         "Cornstarch",
         "100 ",
         "381",
         "0.1",
         "nan",
         "0",
         "9.00 ",
         "3.00 ",
         "0.009 "
        ],
        [
         "1",
         "1",
         "Nuts, pecans",
         "100 ",
         "691",
         "72",
         "6.2",
         "0",
         "0.00 ",
         "410.00 ",
         "6.180 "
        ],
        [
         "2",
         "2",
         "Eplant, raw",
         "100 ",
         "25",
         "0.2",
         "nan",
         "0",
         "2.00 ",
         "229.00 ",
         "0.034 "
        ],
        [
         "3",
         "3",
         "Teff, uncooked",
         "100 ",
         "367",
         "2.4",
         "0.4",
         "0",
         "12.00 ",
         "427.00 ",
         "0.449 "
        ],
        [
         "4",
         "4",
         "Sherbet, orane",
         "100 ",
         "144",
         "2",
         "1.2",
         "1",
         "46.00 ",
         "96.00 ",
         "1.160 "
        ]
       ],
       "shape": {
        "columns": 10,
        "rows": 5
       }
      },
      "text/html": [
       "<div>\n",
       "<style scoped>\n",
       "    .dataframe tbody tr th:only-of-type {\n",
       "        vertical-align: middle;\n",
       "    }\n",
       "\n",
       "    .dataframe tbody tr th {\n",
       "        vertical-align: top;\n",
       "    }\n",
       "\n",
       "    .dataframe thead th {\n",
       "        text-align: right;\n",
       "    }\n",
       "</style>\n",
       "<table border=\"1\" class=\"dataframe\">\n",
       "  <thead>\n",
       "    <tr style=\"text-align: right;\">\n",
       "      <th></th>\n",
       "      <th>Unnamed: 0</th>\n",
       "      <th>name</th>\n",
       "      <th>serving_size</th>\n",
       "      <th>calories</th>\n",
       "      <th>total_fat</th>\n",
       "      <th>saturated_fat</th>\n",
       "      <th>cholesterol</th>\n",
       "      <th>sodium</th>\n",
       "      <th>potassium</th>\n",
       "      <th>saturated_fatty_acids</th>\n",
       "    </tr>\n",
       "  </thead>\n",
       "  <tbody>\n",
       "    <tr>\n",
       "      <th>0</th>\n",
       "      <td>0</td>\n",
       "      <td>Cornstarch</td>\n",
       "      <td>100</td>\n",
       "      <td>381</td>\n",
       "      <td>0.1</td>\n",
       "      <td>nan</td>\n",
       "      <td>0</td>\n",
       "      <td>9.00</td>\n",
       "      <td>3.00</td>\n",
       "      <td>0.009</td>\n",
       "    </tr>\n",
       "    <tr>\n",
       "      <th>1</th>\n",
       "      <td>1</td>\n",
       "      <td>Nuts, pecans</td>\n",
       "      <td>100</td>\n",
       "      <td>691</td>\n",
       "      <td>72</td>\n",
       "      <td>6.2</td>\n",
       "      <td>0</td>\n",
       "      <td>0.00</td>\n",
       "      <td>410.00</td>\n",
       "      <td>6.180</td>\n",
       "    </tr>\n",
       "    <tr>\n",
       "      <th>2</th>\n",
       "      <td>2</td>\n",
       "      <td>Eplant, raw</td>\n",
       "      <td>100</td>\n",
       "      <td>25</td>\n",
       "      <td>0.2</td>\n",
       "      <td>nan</td>\n",
       "      <td>0</td>\n",
       "      <td>2.00</td>\n",
       "      <td>229.00</td>\n",
       "      <td>0.034</td>\n",
       "    </tr>\n",
       "    <tr>\n",
       "      <th>3</th>\n",
       "      <td>3</td>\n",
       "      <td>Teff, uncooked</td>\n",
       "      <td>100</td>\n",
       "      <td>367</td>\n",
       "      <td>2.4</td>\n",
       "      <td>0.4</td>\n",
       "      <td>0</td>\n",
       "      <td>12.00</td>\n",
       "      <td>427.00</td>\n",
       "      <td>0.449</td>\n",
       "    </tr>\n",
       "    <tr>\n",
       "      <th>4</th>\n",
       "      <td>4</td>\n",
       "      <td>Sherbet, orane</td>\n",
       "      <td>100</td>\n",
       "      <td>144</td>\n",
       "      <td>2</td>\n",
       "      <td>1.2</td>\n",
       "      <td>1</td>\n",
       "      <td>46.00</td>\n",
       "      <td>96.00</td>\n",
       "      <td>1.160</td>\n",
       "    </tr>\n",
       "  </tbody>\n",
       "</table>\n",
       "</div>"
      ],
      "text/plain": [
       "   Unnamed: 0            name serving_size calories total_fat saturated_fat  \\\n",
       "0           0      Cornstarch         100       381       0.1           nan   \n",
       "1           1    Nuts, pecans         100       691        72           6.2   \n",
       "2           2     Eplant, raw         100        25       0.2           nan   \n",
       "3           3  Teff, uncooked         100       367       2.4           0.4   \n",
       "4           4  Sherbet, orane         100       144         2           1.2   \n",
       "\n",
       "  cholesterol  sodium potassium saturated_fatty_acids  \n",
       "0           0   9.00      3.00                 0.009   \n",
       "1           0   0.00    410.00                 6.180   \n",
       "2           0   2.00    229.00                 0.034   \n",
       "3           0  12.00    427.00                 0.449   \n",
       "4           1  46.00     96.00                 1.160   "
      ]
     },
     "execution_count": 47,
     "metadata": {},
     "output_type": "execute_result"
    }
   ],
   "source": [
    "nutrition_data.head()"
   ]
  },
  {
   "cell_type": "code",
   "execution_count": 48,
   "metadata": {},
   "outputs": [
    {
     "data": {
      "image/png": "[encoded data removed]",
      "text/plain": [
       "<Figure size 800x600 with 2 Axes>"
      ]
     },
     "metadata": {},
     "output_type": "display_data"
    }
   ],
   "source": [
    "import seaborn as sns\n",
    "import matplotlib.pyplot as plt\n",
    "\n",
    "# Calculate correlation matrix for nutritional columns\n",
    "nutrient_columns = ['calories', 'total_fat', 'saturated_fat', 'sodium', 'potassium']\n",
    "correlation_matrix = nutrition_data[nutrient_columns].corr()\n",
    "\n",
    "# Plot the heatmap\n",
    "plt.figure(figsize=(8, 6))\n",
    "sns.heatmap(correlation_matrix, annot=True, cmap='coolwarm', fmt='.2f')\n",
    "plt.title('Correlation Between Different Nutrients')\n",
    "plt.show()\n"
   ]
  },
  {
   "cell_type": "markdown",
   "metadata": {},
   "source": [
    "Calories, total fat, and saturated fat are closely related—foods higher in fat tend to be higher in calories.\n",
    "Sodium and potassium show little to no correlation with fat and calorie content.\n",
    "Sodium and saturated fat are mostly independent, meaning a food high in one does not necessarily have high amounts of the other."
   ]
  },
  {
   "cell_type": "markdown",
   "metadata": {},
   "source": [
    "# Hypotheses\n",
    "\n",
    "## 1. Positive Relationship Hypothesis\n",
    "**Hypothesis:** Higher levels of total fat are associated with increased calorie content and saturated fat in foods.  \n",
    "**Rationale:** The strong correlations (0.81 and 0.76) suggest that foods high in total fat tend to have higher calories and saturated fat.\n",
    "\n",
    "## 2. Minimal Impact of Sodium and Potassium\n",
    "**Hypothesis:** Sodium and potassium levels have limited or negligible relationships with calories, total fat, and saturated fat.  \n",
    "**Rationale:** The weak correlations (close to 0) indicate that variations in sodium and potassium do not significantly affect the levels of the other nutrients.\n",
    "\n",
    "## 3. Caloric Density Hypothesis\n",
    "**Hypothesis:** Foods that are calorically dense are likely to contain higher amounts of total fat and saturated fat.  \n",
    "**Rationale:** The strong correlation between calories and both types of fat reinforces the idea that higher calorie foods are often those that are higher in fat.\n"
   ]
  },
  {
   "cell_type": "code",
   "execution_count": 49,
   "metadata": {},
   "outputs": [
    {
     "data": {
      "application/vnd.microsoft.datawrangler.viewer.v0+json": {
       "columns": [
        {
         "name": "index",
         "rawType": "int64",
         "type": "integer"
        },
        {
         "name": "name",
         "rawType": "object",
         "type": "string"
        },
        {
         "name": "minutes",
         "rawType": "object",
         "type": "string"
        },
        {
         "name": "ingredients",
         "rawType": "object",
         "type": "string"
        },
        {
         "name": "steps",
         "rawType": "object",
         "type": "string"
        },
        {
         "name": "Serving",
         "rawType": "float64",
         "type": "float"
        },
        {
         "name": "calories",
         "rawType": "int64",
         "type": "integer"
        },
        {
         "name": "total fat (PDV)",
         "rawType": "int64",
         "type": "integer"
        },
        {
         "name": "sugar (PDV)",
         "rawType": "int64",
         "type": "integer"
        },
        {
         "name": "sodium (PDV)",
         "rawType": "int64",
         "type": "integer"
        },
        {
         "name": "protein (PDV)",
         "rawType": "int64",
         "type": "integer"
        },
        {
         "name": "saturated fat (PDV)",
         "rawType": "int64",
         "type": "integer"
        },
        {
         "name": "carbohydrates (PDV)",
         "rawType": "int64",
         "type": "integer"
        }
       ],
       "conversionMethod": "pd.DataFrame",
       "ref": "ed5a902c-0cc5-4cf2-a035-01934f0a6f34",
       "rows": [
        [
         "0",
         "ugali and omena",
         "30",
         "Maize flour\nOmena\nOil\n3 chopped tomatoes\nChopped green onions\nCapsicum\nSalt\nCurry powder",
         "Step 1\nBoil 3 cups of water add maize flour stir briskly with a wooden spoon until firm,let it cook for a few minutes.\nStep 2\nUgali is ready,cover and put aside\nStep 3\nWash the omena with warm water and put aside\nStep 4\nPut oil and heat\nStep 5\nDeep in the omena to fry until golden brown\nStep 6\nAdd onions and capsicum,let it cook for 6 minutes add tomatoes,salt to taste and curry powder\nStep 7\nServe with Ugali",
         "4.0",
         "91",
         "30",
         "203",
         "29",
         "192",
         "172",
         "182"
        ],
        [
         "1",
         "kienyeji fried",
         "25",
         "1 table spoon salt\n2 table spoon cooking vegetable\n2 bunches Sageti\n2 bunches Kansara\n2 bunches Terere\n1 bunch blacknight\n1 cup milk\n2 cups boiled water\n2 onions\n1 tomato",
         "Asemble the vegetables.\nPluck leaves from the vegetable stem.\nWash the vegetables then mix.\nAdd water and boil for 5 mins.\n\nFry onions\nAdd salt and tomato then fry till it forms a paste\nDrain water from vegetables and add milk then stir\nLet it cook for 5 mins then serve with ugali",
         "1.0",
         "230",
         "173",
         "247",
         "196",
         "87",
         "200",
         "239"
        ],
        [
         "2",
         "dengu chapati",
         "30",
         "Ndengu\ncubes congets diced in\ncubes carrots in\nonion diced\ncubes potatoes diced\ncubes tomatoes cut in\n3 cloves garlic grated\ngrated ginger\nminced meat\noil and salt",
         "Step 1\nSteam the mince meat and add oil then onion.cook till brown.\nStep 2\nAdd ginger and garlic, turn and then add carrots, then congets,tomatoes and turn them add potatoes. Cook till ready.\nStep 3\nAdd the already sorted and boiled ndengu. Keep turning. Add salt if u want.\nStep 4\nServe with chapati or any accompaniment of your choice.",
         "4.0",
         "138",
         "211",
         "131",
         "260",
         "84",
         "75",
         "275"
        ],
        [
         "3",
         "ugali matumbo ft african salad",
         "60",
         "400 g Maize flour \n20 g Onions \n11/2 kgMatumbo \n30 g Tomatoe paste\n 10 g Corriander \n30 ml water \n10 g Tomatoe \n5 g Salt & B. Pepper\n 5 g Garlic \n1 avocado",
         "Step 1 Bring the water to boil, add the maize flour and mix them till they thicken. \nCover the mixture and leave to sit at room temp for 20 minutes \nStep 2 \nBoil the matumbo for 25 mins As well as Getting the onions diced,\n tomatoes diced, corriander diced and chopping the garlic and avocado. \nStep 3\n Heat your oiled pan Strain the matumbo. \nSave some 30 ml soup Add the first half of the diced onions \nstir them for 5 mins then add the chopped garlic stir and let them \ncook for 5 mins \nStep 4 \nAdd the first",
         "4.0",
         "365",
         "259",
         "71",
         "255",
         "205",
         "20",
         "57"
        ],
        [
         "4",
         "chicken stew",
         "60",
         "Boiled chicken\n2 Red onion\n1 Spring onion\n4 Tomatoes\n1 Green bell pepper\n1 Potato\n2 carrots\n1/2 teaspoon Salt\n1 teaspoon pilau masala\nCoriander/ dhania",
         " Step 1Boil 1 diced potato and 1 diced carrot\n       Step 2 Add cooking oil to a pan and fry 1 diced red onion and 1 green bell pepper. Add 4 chopped tomatoes Add the boiled potato and carrot to the mixture then add salt and pepper. Lastly add half of water.\n       Step 3 Once they are ready, use a blender and blend all the ingredients together\n       Step 4 Separately add oil to a pan and red onions, then add spring onion after 2 minutes. As they cook add pilau masala, then add your boiled chicken pieces.\n       Step 5 Cover and let it cook for about 20 minutes however keep checking and turning until the chicken has started to develop a brown quoting\n       Step 6 Add the blended mixture to the chicken and cover as you let it cook for 10 minutes\n       Step 7 Pre heat oven at 180 degrees as you wait for the chicken to continue cooking\n       Step 8 After the 10 minutes are done, add chopped coriander\n       Step 9 Add your chicken to a baking dish, cover with foil then put it in the oven and set the timer to 20 minutes\n       Step 10 After the 20 minutes are done remove from the oven and serve! You can serve this chicken with rice, chapati, mashed potatoes, ugali; the list is endless",
         "2.0",
         "171",
         "35",
         "221",
         "109",
         "219",
         "210",
         "125"
        ]
       ],
       "shape": {
        "columns": 12,
        "rows": 5
       }
      },
      "text/html": [
       "<div>\n",
       "<style scoped>\n",
       "    .dataframe tbody tr th:only-of-type {\n",
       "        vertical-align: middle;\n",
       "    }\n",
       "\n",
       "    .dataframe tbody tr th {\n",
       "        vertical-align: top;\n",
       "    }\n",
       "\n",
       "    .dataframe thead th {\n",
       "        text-align: right;\n",
       "    }\n",
       "</style>\n",
       "<table border=\"1\" class=\"dataframe\">\n",
       "  <thead>\n",
       "    <tr style=\"text-align: right;\">\n",
       "      <th></th>\n",
       "      <th>name</th>\n",
       "      <th>minutes</th>\n",
       "      <th>ingredients</th>\n",
       "      <th>steps</th>\n",
       "      <th>Serving</th>\n",
       "      <th>calories</th>\n",
       "      <th>total fat (PDV)</th>\n",
       "      <th>sugar (PDV)</th>\n",
       "      <th>sodium (PDV)</th>\n",
       "      <th>protein (PDV)</th>\n",
       "      <th>saturated fat (PDV)</th>\n",
       "      <th>carbohydrates (PDV)</th>\n",
       "    </tr>\n",
       "  </thead>\n",
       "  <tbody>\n",
       "    <tr>\n",
       "      <th>0</th>\n",
       "      <td>ugali and omena</td>\n",
       "      <td>30</td>\n",
       "      <td>Maize flour\\nOmena\\nOil\\n3 chopped tomatoes\\nC...</td>\n",
       "      <td>Step 1\\nBoil 3 cups of water add maize flour s...</td>\n",
       "      <td>4.0</td>\n",
       "      <td>91</td>\n",
       "      <td>30</td>\n",
       "      <td>203</td>\n",
       "      <td>29</td>\n",
       "      <td>192</td>\n",
       "      <td>172</td>\n",
       "      <td>182</td>\n",
       "    </tr>\n",
       "    <tr>\n",
       "      <th>1</th>\n",
       "      <td>kienyeji fried</td>\n",
       "      <td>25</td>\n",
       "      <td>1 table spoon salt\\n2 table spoon cooking vege...</td>\n",
       "      <td>Asemble the vegetables.\\nPluck leaves from the...</td>\n",
       "      <td>1.0</td>\n",
       "      <td>230</td>\n",
       "      <td>173</td>\n",
       "      <td>247</td>\n",
       "      <td>196</td>\n",
       "      <td>87</td>\n",
       "      <td>200</td>\n",
       "      <td>239</td>\n",
       "    </tr>\n",
       "    <tr>\n",
       "      <th>2</th>\n",
       "      <td>dengu chapati</td>\n",
       "      <td>30</td>\n",
       "      <td>Ndengu\\ncubes congets diced in\\ncubes carrots ...</td>\n",
       "      <td>Step 1\\nSteam the mince meat and add oil then ...</td>\n",
       "      <td>4.0</td>\n",
       "      <td>138</td>\n",
       "      <td>211</td>\n",
       "      <td>131</td>\n",
       "      <td>260</td>\n",
       "      <td>84</td>\n",
       "      <td>75</td>\n",
       "      <td>275</td>\n",
       "    </tr>\n",
       "    <tr>\n",
       "      <th>3</th>\n",
       "      <td>ugali matumbo ft african salad</td>\n",
       "      <td>60</td>\n",
       "      <td>400 g Maize flour \\n20 g Onions \\n11/2 kgMatum...</td>\n",
       "      <td>Step 1 Bring the water to boil, add the maize ...</td>\n",
       "      <td>4.0</td>\n",
       "      <td>365</td>\n",
       "      <td>259</td>\n",
       "      <td>71</td>\n",
       "      <td>255</td>\n",
       "      <td>205</td>\n",
       "      <td>20</td>\n",
       "      <td>57</td>\n",
       "    </tr>\n",
       "    <tr>\n",
       "      <th>4</th>\n",
       "      <td>chicken stew</td>\n",
       "      <td>60</td>\n",
       "      <td>Boiled chicken\\n2 Red onion\\n1 Spring onion\\n4...</td>\n",
       "      <td>Step 1Boil 1 diced potato and 1 diced carrot\\...</td>\n",
       "      <td>2.0</td>\n",
       "      <td>171</td>\n",
       "      <td>35</td>\n",
       "      <td>221</td>\n",
       "      <td>109</td>\n",
       "      <td>219</td>\n",
       "      <td>210</td>\n",
       "      <td>125</td>\n",
       "    </tr>\n",
       "  </tbody>\n",
       "</table>\n",
       "</div>"
      ],
      "text/plain": [
       "                             name minutes  \\\n",
       "0                 ugali and omena      30   \n",
       "1                  kienyeji fried      25   \n",
       "2                   dengu chapati      30   \n",
       "3  ugali matumbo ft african salad      60   \n",
       "4                    chicken stew      60   \n",
       "\n",
       "                                         ingredients  \\\n",
       "0  Maize flour\\nOmena\\nOil\\n3 chopped tomatoes\\nC...   \n",
       "1  1 table spoon salt\\n2 table spoon cooking vege...   \n",
       "2  Ndengu\\ncubes congets diced in\\ncubes carrots ...   \n",
       "3  400 g Maize flour \\n20 g Onions \\n11/2 kgMatum...   \n",
       "4  Boiled chicken\\n2 Red onion\\n1 Spring onion\\n4...   \n",
       "\n",
       "                                               steps  Serving  calories  \\\n",
       "0  Step 1\\nBoil 3 cups of water add maize flour s...      4.0        91   \n",
       "1  Asemble the vegetables.\\nPluck leaves from the...      1.0       230   \n",
       "2  Step 1\\nSteam the mince meat and add oil then ...      4.0       138   \n",
       "3  Step 1 Bring the water to boil, add the maize ...      4.0       365   \n",
       "4   Step 1Boil 1 diced potato and 1 diced carrot\\...      2.0       171   \n",
       "\n",
       "   total fat (PDV)  sugar (PDV)  sodium (PDV)  protein (PDV)  \\\n",
       "0               30          203            29            192   \n",
       "1              173          247           196             87   \n",
       "2              211          131           260             84   \n",
       "3              259           71           255            205   \n",
       "4               35          221           109            219   \n",
       "\n",
       "   saturated fat (PDV)  carbohydrates (PDV)  \n",
       "0                  172                  182  \n",
       "1                  200                  239  \n",
       "2                   75                  275  \n",
       "3                   20                   57  \n",
       "4                  210                  125  "
      ]
     },
     "execution_count": 49,
     "metadata": {},
     "output_type": "execute_result"
    }
   ],
   "source": [
    "African_recipies.head()"
   ]
  },
  {
   "cell_type": "markdown",
   "metadata": {},
   "source": [
    "# What are the top 10 healthiest recipies"
   ]
  },
  {
   "cell_type": "markdown",
   "metadata": {},
   "source": [
    "# Key Metrics for a Healthy Recipe\n",
    "\n",
    "## Calories\n",
    "- **For a main meal:** 400–600 kcal  \n",
    "- **For a snack:** 100–250 kcal  \n",
    "- **Check:** High calories with high fat and sugar might indicate unhealthy food.\n",
    "\n",
    "## Protein (PDV)\n",
    "- **Higher protein (≥15–20%)** is good for satiety and muscle health.  \n",
    "- **Check:** `protein (PDV) ≥ 15` is often considered high.\n",
    "\n",
    "## Total Fat (PDV)\n",
    "- **Aim for moderate fat**, mostly unsaturated fats.  \n",
    "- **Check:** `total fat (PDV) ≤ 20` for most meals; avoid high saturated fat.\n",
    "\n",
    "## Saturated Fat (PDV)\n",
    "- **Should be low (<10% of daily value)**  \n",
    "- **Check:** `saturated fat (PDV) ≤ 10`\n",
    "\n",
    "## Sugar (PDV)\n",
    "- **Should be minimal** if it's not a dessert.  \n",
    "- **Check:** `sugar (PDV) ≤ 10`\n",
    "\n",
    "## Sodium (PDV)\n",
    "- **High sodium (>20%)** might indicate processed or unhealthy food.  \n",
    "- **Check:** `sodium (PDV) ≤ 15`\n",
    "\n",
    "## Carbohydrates (PDV)\n",
    "- **Look for complex carbs** from whole ingredients.  \n",
    "- **Check:** `carbohydrates (PDV) ≤ 50` unless it's a carb-focused meal.\n"
   ]
  },
  {
   "cell_type": "code",
   "execution_count": 50,
   "metadata": {},
   "outputs": [
    {
     "name": "stderr",
     "output_type": "stream",
     "text": [
      "C:\\Users\\Admin\\AppData\\Local\\Temp\\ipykernel_21508\\325731262.py:31: SettingWithCopyWarning: \n",
      "A value is trying to be set on a copy of a slice from a DataFrame.\n",
      "Try using .loc[row_indexer,col_indexer] = value instead\n",
      "\n",
      "See the caveats in the documentation: https://pandas.pydata.org/pandas-docs/stable/user_guide/indexing.html#returning-a-view-versus-a-copy\n",
      "  African_recipies['name'] = African_recipies['name'].str.lower().str.strip()\n",
      "C:\\Users\\Admin\\AppData\\Local\\Temp\\ipykernel_21508\\325731262.py:34: SettingWithCopyWarning: \n",
      "A value is trying to be set on a copy of a slice from a DataFrame.\n",
      "Try using .loc[row_indexer,col_indexer] = value instead\n",
      "\n",
      "See the caveats in the documentation: https://pandas.pydata.org/pandas-docs/stable/user_guide/indexing.html#returning-a-view-versus-a-copy\n",
      "  African_recipies['name'] = African_recipies['name'].replace({\n",
      "C:\\Users\\Admin\\AppData\\Local\\Temp\\ipykernel_21508\\325731262.py:43: SettingWithCopyWarning: \n",
      "A value is trying to be set on a copy of a slice from a DataFrame.\n",
      "Try using .loc[row_indexer,col_indexer] = value instead\n",
      "\n",
      "See the caveats in the documentation: https://pandas.pydata.org/pandas-docs/stable/user_guide/indexing.html#returning-a-view-versus-a-copy\n",
      "  African_recipies['health_score'] = African_recipies.apply(calculate_health_score, axis=1)\n"
     ]
    },
    {
     "data": {
      "image/png": "[encoded data removed]",
      "text/plain": [
       "<Figure size 800x500 with 1 Axes>"
      ]
     },
     "metadata": {},
     "output_type": "display_data"
    }
   ],
   "source": [
    "# Getting the healthies food in African Cuisine\n",
    "# Define a simple health score function\n",
    "def calculate_health_score(row):\n",
    "    score = 0\n",
    "\n",
    "    # Check each condition and add points\n",
    "    if row['calories'] <= 600:\n",
    "        score = score + 1\n",
    "    \n",
    "    if row['protein (PDV)'] >= 15:\n",
    "        score = score + 2\n",
    "    \n",
    "    if row['total fat (PDV)'] <= 20:\n",
    "        score = score + 1\n",
    "    \n",
    "    if row['saturated fat (PDV)'] <= 10:\n",
    "        score = score + 1\n",
    "    \n",
    "    if row['sugar (PDV)'] <= 10:\n",
    "        score = score + 1\n",
    "    \n",
    "    if row['sodium (PDV)'] <= 15:\n",
    "        score = score + 1\n",
    "    \n",
    "    if row['carbohydrates (PDV)'] <= 50:\n",
    "        score = score + 1\n",
    "\n",
    "    return score\n",
    "\n",
    "# Remove leading/trailing spaces and lowercase all names\n",
    "African_recipies['name'] = African_recipies['name'].str.lower().str.strip()\n",
    "\n",
    "# Correct common misspellings and variations manually\n",
    "African_recipies['name'] = African_recipies['name'].replace({\n",
    "    'ganished abacha(african salad)': 'african salad (abacha)',\n",
    "    'african salad': 'african salad (abacha)',\n",
    "})\n",
    "\n",
    "# Drop duplicates\n",
    "African_recipies = African_recipies.drop_duplicates(subset='name')\n",
    "\n",
    "# Apply the health score function\n",
    "African_recipies['health_score'] = African_recipies.apply(calculate_health_score, axis=1)\n",
    "\n",
    "# Sort by health score and get top 10\n",
    "top_10_healthy_African = African_recipies.sort_values(by='health_score', ascending=False).head(10)\n",
    "\n",
    "# Plot\n",
    "plt.figure(figsize=(8, 5))\n",
    "plt.barh(top_10_healthy_African['name'], top_10_healthy_African['health_score'], color='skyblue')\n",
    "plt.xlabel('Health Score')\n",
    "plt.ylabel('Recipe Name')\n",
    "plt.title('Top 10 Healthiest African Recipes')\n",
    "plt.gca().invert_yaxis()\n",
    "plt.show()\n"
   ]
  },
  {
   "cell_type": "code",
   "execution_count": 51,
   "metadata": {},
   "outputs": [],
   "source": [
    "top_10_healthy_African.to_csv(\"Top 10 Healthiest African dishes.csv\", index = False)"
   ]
  },
  {
   "cell_type": "code",
   "execution_count": 52,
   "metadata": {},
   "outputs": [
    {
     "data": {
      "text/plain": [
       "Index(['name', 'minutes', 'ingredients', 'steps', 'Serving', 'calories',\n",
       "       'total fat (PDV)', 'sugar (PDV)', 'sodium (PDV)', 'protein (PDV)',\n",
       "       'saturated fat (PDV)', 'carbohydrates (PDV)', 'health_score'],\n",
       "      dtype='object')"
      ]
     },
     "execution_count": 52,
     "metadata": {},
     "output_type": "execute_result"
    }
   ],
   "source": [
    "African_recipies.columns"
   ]
  },
  {
   "cell_type": "code",
   "execution_count": 53,
   "metadata": {},
   "outputs": [
    {
     "data": {
      "application/vnd.microsoft.datawrangler.viewer.v0+json": {
       "columns": [
        {
         "name": "index",
         "rawType": "int64",
         "type": "integer"
        },
        {
         "name": "name",
         "rawType": "object",
         "type": "string"
        },
        {
         "name": "id",
         "rawType": "int64",
         "type": "integer"
        },
        {
         "name": "minutes",
         "rawType": "int64",
         "type": "integer"
        },
        {
         "name": "tags",
         "rawType": "object",
         "type": "string"
        },
        {
         "name": "steps",
         "rawType": "object",
         "type": "string"
        },
        {
         "name": "ingredients",
         "rawType": "object",
         "type": "string"
        },
        {
         "name": "calories",
         "rawType": "float64",
         "type": "float"
        },
        {
         "name": "total fat (PDV)",
         "rawType": "float64",
         "type": "float"
        },
        {
         "name": "sugar (PDV)",
         "rawType": "float64",
         "type": "float"
        },
        {
         "name": "sodium (PDV)",
         "rawType": "float64",
         "type": "float"
        },
        {
         "name": "protein (PDV)",
         "rawType": "float64",
         "type": "float"
        },
        {
         "name": "saturated fat (PDV)",
         "rawType": "float64",
         "type": "float"
        },
        {
         "name": "carbohydrates (PDV)",
         "rawType": "float64",
         "type": "float"
        }
       ],
       "conversionMethod": "pd.DataFrame",
       "ref": "94692db0-8171-4f66-8bb4-87df1c48be9b",
       "rows": [
        [
         "0",
         "arriba   baked winter squash mexican style",
         "137739",
         "55",
         "['60-minutes-or-less', 'time-to-make', 'course', 'main-ingredient', 'cuisine', 'preparation', 'occasion', 'north-american', 'side-dishes', 'vegetables', 'mexican', 'easy', 'fall', 'holiday-event', 'vegetarian', 'winter', 'dietary', 'christmas', 'seasonal', 'squash']",
         "['make a choice and proceed with recipe', 'depending on size of squash , cut into half or fourths', 'remove seeds', 'for spicy squash , drizzle olive oil or melted butter over each cut squash piece', 'season with mexican seasoning mix ii', 'for sweet squash , drizzle melted honey , butter , grated piloncillo over each cut squash piece', 'season with sweet mexican spice mix', 'bake at 350 degrees , again depending on size , for 40 minutes up to an hour , until a fork can easily pierce the skin', 'be careful not to burn the squash especially if you opt to use sugar or butter', 'if you feel more comfortable , cover the squash with aluminum foil the first half hour , give or take , of baking', 'if desired , season with salt']",
         "winter squash  mexican seasoning  mixed spice  honey  butter  olive oil  salt",
         "51.5",
         "0.0",
         "13.0",
         "0.0",
         "2.0",
         "0.0",
         "4.0"
        ],
        [
         "1",
         "a bit different  breakfast pizza",
         "31490",
         "30",
         "['30-minutes-or-less', 'time-to-make', 'course', 'main-ingredient', 'cuisine', 'preparation', 'occasion', 'north-american', 'breakfast', 'main-dish', 'pork', 'american', 'oven', 'easy', 'kid-friendly', 'pizza', 'dietary', 'northeastern-united-states', 'meat', 'equipment']",
         "['preheat oven to 425 degrees f', 'press dough into the bottom and sides of a 12 inch pizza pan', 'bake for 5 minutes until set but not browned', 'cut sausage into small pieces', 'whisk eggs and milk in a bowl until frothy', 'spoon sausage over baked crust and sprinkle with cheese', 'pour egg mixture slowly over sausage and cheese', 's& p to taste', 'bake 15-20 minutes or until eggs are set and crust is brown']",
         "prepared pizza crust  sausage patty  eggs  milk  salt and pepper  cheese",
         "173.4",
         "18.0",
         "0.0",
         "17.0",
         "22.0",
         "35.0",
         "1.0"
        ],
        [
         "2",
         "all in the kitchen  chili",
         "112140",
         "130",
         "['time-to-make', 'course', 'preparation', 'main-dish', 'chili', 'crock-pot-slow-cooker', 'dietary', 'equipment', '4-hours-or-less']",
         "['brown ground beef in large pot', 'add chopped onions to ground beef when almost brown and sautee until wilted', 'add all other ingredients', 'add kidney beans if you like beans in your chili', 'cook in slow cooker on high for 2-3 hours or 6-8 hours on low', 'serve with cold clean lettuce and shredded cheese']",
         "ground beef  yellow onions  diced tomatoes  tomato paste  tomato soup  rotel tomatoes  kidney beans  water  chili powder  ground cumin  salt  lettuce  cheddar cheese",
         "269.8",
         "22.0",
         "32.0",
         "48.0",
         "39.0",
         "27.0",
         "5.0"
        ],
        [
         "3",
         "alouette  potatoes",
         "59389",
         "45",
         "['60-minutes-or-less', 'time-to-make', 'course', 'main-ingredient', 'preparation', 'occasion', 'side-dishes', 'eggs-dairy', 'potatoes', 'vegetables', 'oven', 'easy', 'dinner-party', 'holiday-event', 'easter', 'cheese', 'stove-top', 'dietary', 'christmas', 'new-years', 'thanksgiving', 'independence-day', 'st-patricks-day', 'valentines-day', 'inexpensive', 'brunch', 'superbowl', 'equipment', 'presentation', 'served-hot']",
         "['place potatoes in a large pot of lightly salted water and bring to a gentle boil', 'cook until potatoes are just tender', 'drain', 'place potatoes in a large bowl and add all ingredients except the\"alouette\"', 'mix well and transfer to a buttered 8x8 inch glass baking dish with 2 inch sides', 'press the potatoes with a spatula to make top as flat as possible', 'set aside for 2 hours at room temperature', 'preheat oven to 350^f', 'spread\"alouette\" evenly over potatoes and bake 15 minutes', 'divide between plates', 'garnish with finely diced red and yellow bell peppers']",
         "spreadable cheese with garlic and herbs  new potatoes  shallots  parsley  tarragon  olive oil  red wine vinegar  salt  pepper  red bell pepper  yellow bell pepper",
         "368.1",
         "17.0",
         "10.0",
         "2.0",
         "14.0",
         "8.0",
         "20.0"
        ],
        [
         "4",
         "amish  tomato ketchup  for canning",
         "44061",
         "190",
         "['weeknight', 'time-to-make', 'course', 'main-ingredient', 'cuisine', 'preparation', 'occasion', 'north-american', 'canning', 'condiments-etc', 'vegetables', 'american', 'heirloom-historical', 'holiday-event', 'vegetarian', 'dietary', 'amish-mennonite', 'northeastern-united-states', 'number-of-servings', 'technique', '4-hours-or-less']",
         "['mix all ingredients& boil for 2 1 / 2 hours , or until thick', 'pour into jars', \"i use'old' glass ketchup bottles\", \"it is not necessary for these to'seal\", \"'my amish mother-in-law has been making this her entire life , and has never used a'sealed' jar for this recipe , and it's always been great !\"]",
         "tomato juice  apple cider vinegar  sugar  salt  pepper  clove oil  cinnamon oil  dry mustard",
         "352.9",
         "1.0",
         "337.0",
         "23.0",
         "3.0",
         "0.0",
         "28.0"
        ]
       ],
       "shape": {
        "columns": 13,
        "rows": 5
       }
      },
      "text/html": [
       "<div>\n",
       "<style scoped>\n",
       "    .dataframe tbody tr th:only-of-type {\n",
       "        vertical-align: middle;\n",
       "    }\n",
       "\n",
       "    .dataframe tbody tr th {\n",
       "        vertical-align: top;\n",
       "    }\n",
       "\n",
       "    .dataframe thead th {\n",
       "        text-align: right;\n",
       "    }\n",
       "</style>\n",
       "<table border=\"1\" class=\"dataframe\">\n",
       "  <thead>\n",
       "    <tr style=\"text-align: right;\">\n",
       "      <th></th>\n",
       "      <th>name</th>\n",
       "      <th>id</th>\n",
       "      <th>minutes</th>\n",
       "      <th>tags</th>\n",
       "      <th>steps</th>\n",
       "      <th>ingredients</th>\n",
       "      <th>calories</th>\n",
       "      <th>total fat (PDV)</th>\n",
       "      <th>sugar (PDV)</th>\n",
       "      <th>sodium (PDV)</th>\n",
       "      <th>protein (PDV)</th>\n",
       "      <th>saturated fat (PDV)</th>\n",
       "      <th>carbohydrates (PDV)</th>\n",
       "    </tr>\n",
       "  </thead>\n",
       "  <tbody>\n",
       "    <tr>\n",
       "      <th>0</th>\n",
       "      <td>arriba   baked winter squash mexican style</td>\n",
       "      <td>137739</td>\n",
       "      <td>55</td>\n",
       "      <td>['60-minutes-or-less', 'time-to-make', 'course...</td>\n",
       "      <td>['make a choice and proceed with recipe', 'dep...</td>\n",
       "      <td>winter squash  mexican seasoning  mixed spice ...</td>\n",
       "      <td>51.5</td>\n",
       "      <td>0.0</td>\n",
       "      <td>13.0</td>\n",
       "      <td>0.0</td>\n",
       "      <td>2.0</td>\n",
       "      <td>0.0</td>\n",
       "      <td>4.0</td>\n",
       "    </tr>\n",
       "    <tr>\n",
       "      <th>1</th>\n",
       "      <td>a bit different  breakfast pizza</td>\n",
       "      <td>31490</td>\n",
       "      <td>30</td>\n",
       "      <td>['30-minutes-or-less', 'time-to-make', 'course...</td>\n",
       "      <td>['preheat oven to 425 degrees f', 'press dough...</td>\n",
       "      <td>prepared pizza crust  sausage patty  eggs  mil...</td>\n",
       "      <td>173.4</td>\n",
       "      <td>18.0</td>\n",
       "      <td>0.0</td>\n",
       "      <td>17.0</td>\n",
       "      <td>22.0</td>\n",
       "      <td>35.0</td>\n",
       "      <td>1.0</td>\n",
       "    </tr>\n",
       "    <tr>\n",
       "      <th>2</th>\n",
       "      <td>all in the kitchen  chili</td>\n",
       "      <td>112140</td>\n",
       "      <td>130</td>\n",
       "      <td>['time-to-make', 'course', 'preparation', 'mai...</td>\n",
       "      <td>['brown ground beef in large pot', 'add choppe...</td>\n",
       "      <td>ground beef  yellow onions  diced tomatoes  to...</td>\n",
       "      <td>269.8</td>\n",
       "      <td>22.0</td>\n",
       "      <td>32.0</td>\n",
       "      <td>48.0</td>\n",
       "      <td>39.0</td>\n",
       "      <td>27.0</td>\n",
       "      <td>5.0</td>\n",
       "    </tr>\n",
       "    <tr>\n",
       "      <th>3</th>\n",
       "      <td>alouette  potatoes</td>\n",
       "      <td>59389</td>\n",
       "      <td>45</td>\n",
       "      <td>['60-minutes-or-less', 'time-to-make', 'course...</td>\n",
       "      <td>['place potatoes in a large pot of lightly sal...</td>\n",
       "      <td>spreadable cheese with garlic and herbs  new p...</td>\n",
       "      <td>368.1</td>\n",
       "      <td>17.0</td>\n",
       "      <td>10.0</td>\n",
       "      <td>2.0</td>\n",
       "      <td>14.0</td>\n",
       "      <td>8.0</td>\n",
       "      <td>20.0</td>\n",
       "    </tr>\n",
       "    <tr>\n",
       "      <th>4</th>\n",
       "      <td>amish  tomato ketchup  for canning</td>\n",
       "      <td>44061</td>\n",
       "      <td>190</td>\n",
       "      <td>['weeknight', 'time-to-make', 'course', 'main-...</td>\n",
       "      <td>['mix all ingredients&amp; boil for 2 1 / 2 hours ...</td>\n",
       "      <td>tomato juice  apple cider vinegar  sugar  salt...</td>\n",
       "      <td>352.9</td>\n",
       "      <td>1.0</td>\n",
       "      <td>337.0</td>\n",
       "      <td>23.0</td>\n",
       "      <td>3.0</td>\n",
       "      <td>0.0</td>\n",
       "      <td>28.0</td>\n",
       "    </tr>\n",
       "  </tbody>\n",
       "</table>\n",
       "</div>"
      ],
      "text/plain": [
       "                                         name      id  minutes  \\\n",
       "0  arriba   baked winter squash mexican style  137739       55   \n",
       "1            a bit different  breakfast pizza   31490       30   \n",
       "2                   all in the kitchen  chili  112140      130   \n",
       "3                          alouette  potatoes   59389       45   \n",
       "4          amish  tomato ketchup  for canning   44061      190   \n",
       "\n",
       "                                                tags  \\\n",
       "0  ['60-minutes-or-less', 'time-to-make', 'course...   \n",
       "1  ['30-minutes-or-less', 'time-to-make', 'course...   \n",
       "2  ['time-to-make', 'course', 'preparation', 'mai...   \n",
       "3  ['60-minutes-or-less', 'time-to-make', 'course...   \n",
       "4  ['weeknight', 'time-to-make', 'course', 'main-...   \n",
       "\n",
       "                                               steps  \\\n",
       "0  ['make a choice and proceed with recipe', 'dep...   \n",
       "1  ['preheat oven to 425 degrees f', 'press dough...   \n",
       "2  ['brown ground beef in large pot', 'add choppe...   \n",
       "3  ['place potatoes in a large pot of lightly sal...   \n",
       "4  ['mix all ingredients& boil for 2 1 / 2 hours ...   \n",
       "\n",
       "                                         ingredients  calories  \\\n",
       "0  winter squash  mexican seasoning  mixed spice ...      51.5   \n",
       "1  prepared pizza crust  sausage patty  eggs  mil...     173.4   \n",
       "2  ground beef  yellow onions  diced tomatoes  to...     269.8   \n",
       "3  spreadable cheese with garlic and herbs  new p...     368.1   \n",
       "4  tomato juice  apple cider vinegar  sugar  salt...     352.9   \n",
       "\n",
       "   total fat (PDV)  sugar (PDV)  sodium (PDV)  protein (PDV)  \\\n",
       "0              0.0         13.0           0.0            2.0   \n",
       "1             18.0          0.0          17.0           22.0   \n",
       "2             22.0         32.0          48.0           39.0   \n",
       "3             17.0         10.0           2.0           14.0   \n",
       "4              1.0        337.0          23.0            3.0   \n",
       "\n",
       "   saturated fat (PDV)  carbohydrates (PDV)  \n",
       "0                  0.0                  4.0  \n",
       "1                 35.0                  1.0  \n",
       "2                 27.0                  5.0  \n",
       "3                  8.0                 20.0  \n",
       "4                  0.0                 28.0  "
      ]
     },
     "execution_count": 53,
     "metadata": {},
     "output_type": "execute_result"
    }
   ],
   "source": [
    "International_recipes.head()"
   ]
  },
  {
   "cell_type": "code",
   "execution_count": 54,
   "metadata": {},
   "outputs": [
    {
     "name": "stderr",
     "output_type": "stream",
     "text": [
      "C:\\Users\\Admin\\AppData\\Local\\Temp\\ipykernel_21508\\3406085914.py:13: SettingWithCopyWarning: \n",
      "A value is trying to be set on a copy of a slice from a DataFrame.\n",
      "Try using .loc[row_indexer,col_indexer] = value instead\n",
      "\n",
      "See the caveats in the documentation: https://pandas.pydata.org/pandas-docs/stable/user_guide/indexing.html#returning-a-view-versus-a-copy\n",
      "  Recipies['health_score'] = Recipies.apply(calculate_health_score, axis=1)\n"
     ]
    },
    {
     "data": {
      "image/png": "[encoded data removed]",
      "text/plain": [
       "<Figure size 800x500 with 1 Axes>"
      ]
     },
     "metadata": {},
     "output_type": "display_data"
    }
   ],
   "source": [
    "# Standardize text formatting\n",
    "International_recipes['name'] = International_recipes['name'].str.lower().str.strip()\n",
    "\n",
    "# Manually correct variations\n",
    "International_recipes['name'] = International_recipes['name'].replace({\n",
    "    'breaded turkey cutlets with asiago': 'breaded turkey cutlets',\n",
    "})\n",
    "\n",
    "# Drop duplicates\n",
    "Recipies = International_recipes.drop_duplicates(subset='name')\n",
    "\n",
    "# Apply the health score function\n",
    "Recipies['health_score'] = Recipies.apply(calculate_health_score, axis=1)\n",
    "\n",
    "# Sort by health score and get top 10\n",
    "top_10_healthy_foreign = Recipies.sort_values(by='health_score', ascending=False).head(10)\n",
    "\n",
    "# Plot the top 10 healthy recipes by name\n",
    "plt.figure(figsize=(8, 5))\n",
    "plt.barh(top_10_healthy_foreign['name'].str.title(), top_10_healthy_foreign['health_score'], color='skyblue')\n",
    "plt.xlabel('Health Score')\n",
    "plt.ylabel('Recipe Name')\n",
    "plt.title('Top 10 Healthiest Internation_Recipe Recipes')  # Fixed the title\n",
    "plt.gca().invert_yaxis()  # Invert y-axis to have the highest score on top\n",
    "plt.show()\n"
   ]
  },
  {
   "cell_type": "markdown",
   "metadata": {},
   "source": []
  },
  {
   "cell_type": "code",
   "execution_count": 55,
   "metadata": {},
   "outputs": [],
   "source": [
    "top_10_healthy_foreign.to_csv(\"Top 10 healthiest International Dishes.csv\", index=False)"
   ]
  },
  {
   "cell_type": "code",
   "execution_count": null,
   "metadata": {},
   "outputs": [],
   "source": []
  },
  {
   "cell_type": "markdown",
   "metadata": {},
   "source": [
    "# Hypothesis Testing\n",
    "Null Hypothesis : African Recipies genereally have lower calorie content compared to Internation_Recipe recipies"
   ]
  },
  {
   "cell_type": "code",
   "execution_count": 56,
   "metadata": {},
   "outputs": [
    {
     "name": "stdout",
     "output_type": "stream",
     "text": [
      "T-test Statistic: 2.120\n",
      "P-Value: 0.035\n",
      "The difference in calorie content between Africann and Internation_Recipe recipes is statistically significant.\n"
     ]
    }
   ],
   "source": [
    "import pandas as pd\n",
    "import numpy as np\n",
    "from scipy.stats import ttest_ind\n",
    "\n",
    "African_calories = African_recipies['calories']\n",
    "foreign_calories = Recipies['calories']\n",
    "\n",
    "# Perform the independent t-test (Welch’s T-test for unequal variances)\n",
    "t_stat, p_value = ttest_ind(African_calories, foreign_calories, equal_var=False)\n",
    "\n",
    "print(f\"T-test Statistic: {t_stat:.3f}\")\n",
    "print(f\"P-Value: {p_value:.3f}\")\n",
    "\n",
    "# Interpretation\n",
    "alpha = 0.05  # Significance level\n",
    "if p_value < alpha:\n",
    "    print(\"The difference in calorie content between Africann and Internation_Recipe recipes is statistically significant.\")\n",
    "else:\n",
    "    print(\"There is no significant difference in calorie content between African and Internation_Recipe recipes.\")\n"
   ]
  },
  {
   "cell_type": "markdown",
   "metadata": {},
   "source": [
    "There is significant difference between the two cuisine calorie content the p value of 0.035 means that the we reject our Null hypothesis"
   ]
  },
  {
   "cell_type": "code",
   "execution_count": 57,
   "metadata": {},
   "outputs": [
    {
     "name": "stdout",
     "output_type": "stream",
     "text": [
      "African Recipes Avg Calories: 518.6077348066299\n",
      "Internation_Recipes Avg Calories: 473.84486584645333\n"
     ]
    }
   ],
   "source": [
    "print(\"African Recipes Avg Calories:\", African_calories.mean())\n",
    "print(\"Internation_Recipes Avg Calories:\", foreign_calories.mean())\n"
   ]
  },
  {
   "cell_type": "markdown",
   "metadata": {},
   "source": [
    "Since the mean of the African calorie content is higher than the foreign one we reject our Null hypothesis"
   ]
  },
  {
   "cell_type": "code",
   "execution_count": 58,
   "metadata": {},
   "outputs": [],
   "source": [
    "# Exporting the international and african data for use in our reccomendation system file\n",
    "International_recipes.to_csv('cleaned_International_recipies.csv', index=False)"
   ]
  },
  {
   "cell_type": "code",
   "execution_count": 59,
   "metadata": {},
   "outputs": [],
   "source": [
    "African_recipes.to_csv(\"cleaned_African_recipes.csv\", index=False)"
   ]
  },
  {
   "cell_type": "markdown",
   "metadata": {},
   "source": [
    "# Sentiment Analysis Analysis\n",
    " * After doing sentiment analysis i exported the data for further analysis\n"
   ]
  },
  {
   "cell_type": "code",
   "execution_count": 96,
   "metadata": {},
   "outputs": [
    {
     "data": {
      "application/vnd.microsoft.datawrangler.viewer.v0+json": {
       "columns": [
        {
         "name": "index",
         "rawType": "int64",
         "type": "integer"
        },
        {
         "name": "user_id",
         "rawType": "int64",
         "type": "integer"
        },
        {
         "name": "recipe_id",
         "rawType": "int64",
         "type": "integer"
        },
        {
         "name": "date",
         "rawType": "object",
         "type": "string"
        },
        {
         "name": "rating",
         "rawType": "int64",
         "type": "integer"
        },
        {
         "name": "review",
         "rawType": "object",
         "type": "string"
        },
        {
         "name": "name",
         "rawType": "object",
         "type": "string"
        },
        {
         "name": "submitted",
         "rawType": "object",
         "type": "string"
        },
        {
         "name": "description",
         "rawType": "object",
         "type": "string"
        },
        {
         "name": "ingredients",
         "rawType": "object",
         "type": "string"
        },
        {
         "name": "Cleaned_review",
         "rawType": "object",
         "type": "string"
        },
        {
         "name": "Sentiment",
         "rawType": "int64",
         "type": "integer"
        }
       ],
       "conversionMethod": "pd.DataFrame",
       "ref": "61c42c6a-9a1f-47da-bca7-2ce58a0eadad",
       "rows": [
        [
         "0",
         "288985",
         "161466",
         "30/09/2011",
         "4",
         "Did not have a problem w/ these going \"stale\" at all when kept for a couple days. They kept well and were tasty enough, just not crazy good. I guess I missed the marshmallow. Flavoring w/ peanut butter  just didn't give that classic taste, and now I know that I gotta have it! I would make these again for kids etc. as they were liked well enough and you can make these from what you have on hand.",
         "peanut butter crispy rice treats",
         "25/03/2006",
         "i found this recipe in the paper the other day and tried it.  it's a different way to make rice crispy treats from the way it is usually made with marshmallows.  it should be eaten as soon as possible because it will start to go stale overnight. do not substitute margarine for real butter.  the margarine has too much moisture.",
         "['butter', 'sugar', 'light corn syrup', 'peanut butter', 'crispy rice cereal']",
         "problem w going stale kept couple days kept well tasty enough crazy good guess missed marshmallow flavoring w peanut butter didnt give classic taste know got ta would make kids etc liked well enough make hand",
         "1"
        ],
        [
         "1",
         "20623",
         "24582",
         "15/09/2003",
         "4",
         "Very good roast. However, the strong flavors - garlic and horseradish can be a bit strong for some people. My family loved the garlic flavor, but the horseradish was a bit strong for some. A person who loves horseradish may not like the strong garlic. Otherwise, I would recommend this recipe.",
         "garlic horseradish sirloin roast",
         "08/04/2002",
         "did this for dinner today, very delicious with apricot glazed carrots and garlic mashed potatoes, mmm so good! from canadian living magazine.",
         "['top sirloin roast', 'garlic cloves', 'light mayonnaise', 'prepared horseradish', 'dried sage', 'salt', 'pepper', 'onions', 'beef stock', 'worcestershire sauce', 'cornstarch']",
         "good roast however strong flavors garlic horseradish bit strong people family loved garlic flavor horseradish bit strong person loves horseradish may like strong garlic otherwise would recommend recipe",
         "1"
        ],
        [
         "2",
         "227586",
         "281356",
         "31/08/2008",
         "5",
         "This was AWESOME!  So summery, so quick just over the top good!  Used all fresh tomatoes and basil from my garden...and topped with feta cheese!  This is a GREAT way to use up your tomatoes!  THANKS for sharing!  Made for photo tag!",
         "fresh tomato and basil pasta with toasted pine nuts",
         "24/01/2008",
         "this is the essence of summer - fresh tomatoes and basil with pasta. an old weight watchers recipe.",
         "['penne pasta', 'olive oil', 'onion', 'garlic cloves', 'plum tomatoes', 'fresh thyme', 'fresh basil', 'salt', 'fresh ground pepper', 'pine nuts']",
         "awesome summery quick top good used fresh tomatoes basil gardenand topped feta cheese great way use tomatoes thanks sharing made photo tag",
         "1"
        ],
        [
         "3",
         "539686",
         "161549",
         "07/04/2008",
         "4",
         "I used thawed, frozen peaches and even though I used a muddling stick in a tall cocktail shaker, this was a messy business. I would blend the peaches next time in a small food processor then muddle just the lemon and mint. It has a nice flavor and is worth working with.\n\nMade for the 1-2-3 Hit Wonders Game.",
         "whiskey peach smash",
         "27/03/2006",
         "from the \"king of cocktails\" dale degroff, this can be made with any relatively light whiskey.  simple syrup is simply equal amounts of water and sugar, heated till the sugar is totally dissolved.  muddling is mashing ingredients in the bottom of the glass, using the back of a spoon or something similar.",
         "['whiskey', 'peach', 'mint leaves', 'lemon', 'water', 'simple syrup', 'mint']",
         "used thawed frozen peaches even though used muddling stick tall cocktail shaker messy business would blend peaches next time small food processor muddle lemon mint nice flavor worth working made hit wonders game",
         "1"
        ],
        [
         "4",
         "1540883",
         "265601",
         "03/02/2010",
         "0",
         "Sugar does not belong in cornbread, at least not in real Southern cornbread.",
         "good eats creamed corn cornbread  alton brown",
         "13/11/2007",
         "this recipe produces a very light and airy cornbread packed with flavor. we add about 1/3 cup of sugar because we love sweet cornbread. :)",
         "['yellow cornmeal', 'kosher salt', 'sugar', 'baking powder', 'baking soda', 'buttermilk', 'eggs', 'creamed corn', 'canola oil']",
         "sugar belong cornbread least real southern cornbread",
         "2"
        ]
       ],
       "shape": {
        "columns": 11,
        "rows": 5
       }
      },
      "text/html": [
       "<div>\n",
       "<style scoped>\n",
       "    .dataframe tbody tr th:only-of-type {\n",
       "        vertical-align: middle;\n",
       "    }\n",
       "\n",
       "    .dataframe tbody tr th {\n",
       "        vertical-align: top;\n",
       "    }\n",
       "\n",
       "    .dataframe thead th {\n",
       "        text-align: right;\n",
       "    }\n",
       "</style>\n",
       "<table border=\"1\" class=\"dataframe\">\n",
       "  <thead>\n",
       "    <tr style=\"text-align: right;\">\n",
       "      <th></th>\n",
       "      <th>user_id</th>\n",
       "      <th>recipe_id</th>\n",
       "      <th>date</th>\n",
       "      <th>rating</th>\n",
       "      <th>review</th>\n",
       "      <th>name</th>\n",
       "      <th>submitted</th>\n",
       "      <th>description</th>\n",
       "      <th>ingredients</th>\n",
       "      <th>Cleaned_review</th>\n",
       "      <th>Sentiment</th>\n",
       "    </tr>\n",
       "  </thead>\n",
       "  <tbody>\n",
       "    <tr>\n",
       "      <th>0</th>\n",
       "      <td>288985</td>\n",
       "      <td>161466</td>\n",
       "      <td>30/09/2011</td>\n",
       "      <td>4</td>\n",
       "      <td>Did not have a problem w/ these going \"stale\" ...</td>\n",
       "      <td>peanut butter crispy rice treats</td>\n",
       "      <td>25/03/2006</td>\n",
       "      <td>i found this recipe in the paper the other day...</td>\n",
       "      <td>['butter', 'sugar', 'light corn syrup', 'peanu...</td>\n",
       "      <td>problem w going stale kept couple days kept we...</td>\n",
       "      <td>1</td>\n",
       "    </tr>\n",
       "    <tr>\n",
       "      <th>1</th>\n",
       "      <td>20623</td>\n",
       "      <td>24582</td>\n",
       "      <td>15/09/2003</td>\n",
       "      <td>4</td>\n",
       "      <td>Very good roast. However, the strong flavors -...</td>\n",
       "      <td>garlic horseradish sirloin roast</td>\n",
       "      <td>08/04/2002</td>\n",
       "      <td>did this for dinner today, very delicious with...</td>\n",
       "      <td>['top sirloin roast', 'garlic cloves', 'light ...</td>\n",
       "      <td>good roast however strong flavors garlic horse...</td>\n",
       "      <td>1</td>\n",
       "    </tr>\n",
       "    <tr>\n",
       "      <th>2</th>\n",
       "      <td>227586</td>\n",
       "      <td>281356</td>\n",
       "      <td>31/08/2008</td>\n",
       "      <td>5</td>\n",
       "      <td>This was AWESOME!  So summery, so quick just o...</td>\n",
       "      <td>fresh tomato and basil pasta with toasted pine...</td>\n",
       "      <td>24/01/2008</td>\n",
       "      <td>this is the essence of summer - fresh tomatoes...</td>\n",
       "      <td>['penne pasta', 'olive oil', 'onion', 'garlic ...</td>\n",
       "      <td>awesome summery quick top good used fresh toma...</td>\n",
       "      <td>1</td>\n",
       "    </tr>\n",
       "    <tr>\n",
       "      <th>3</th>\n",
       "      <td>539686</td>\n",
       "      <td>161549</td>\n",
       "      <td>07/04/2008</td>\n",
       "      <td>4</td>\n",
       "      <td>I used thawed, frozen peaches and even though ...</td>\n",
       "      <td>whiskey peach smash</td>\n",
       "      <td>27/03/2006</td>\n",
       "      <td>from the \"king of cocktails\" dale degroff, thi...</td>\n",
       "      <td>['whiskey', 'peach', 'mint leaves', 'lemon', '...</td>\n",
       "      <td>used thawed frozen peaches even though used mu...</td>\n",
       "      <td>1</td>\n",
       "    </tr>\n",
       "    <tr>\n",
       "      <th>4</th>\n",
       "      <td>1540883</td>\n",
       "      <td>265601</td>\n",
       "      <td>03/02/2010</td>\n",
       "      <td>0</td>\n",
       "      <td>Sugar does not belong in cornbread, at least n...</td>\n",
       "      <td>good eats creamed corn cornbread  alton brown</td>\n",
       "      <td>13/11/2007</td>\n",
       "      <td>this recipe produces a very light and airy cor...</td>\n",
       "      <td>['yellow cornmeal', 'kosher salt', 'sugar', 'b...</td>\n",
       "      <td>sugar belong cornbread least real southern cor...</td>\n",
       "      <td>2</td>\n",
       "    </tr>\n",
       "  </tbody>\n",
       "</table>\n",
       "</div>"
      ],
      "text/plain": [
       "   user_id  recipe_id        date  rating  \\\n",
       "0   288985     161466  30/09/2011       4   \n",
       "1    20623      24582  15/09/2003       4   \n",
       "2   227586     281356  31/08/2008       5   \n",
       "3   539686     161549  07/04/2008       4   \n",
       "4  1540883     265601  03/02/2010       0   \n",
       "\n",
       "                                              review  \\\n",
       "0  Did not have a problem w/ these going \"stale\" ...   \n",
       "1  Very good roast. However, the strong flavors -...   \n",
       "2  This was AWESOME!  So summery, so quick just o...   \n",
       "3  I used thawed, frozen peaches and even though ...   \n",
       "4  Sugar does not belong in cornbread, at least n...   \n",
       "\n",
       "                                                name   submitted  \\\n",
       "0                   peanut butter crispy rice treats  25/03/2006   \n",
       "1                   garlic horseradish sirloin roast  08/04/2002   \n",
       "2  fresh tomato and basil pasta with toasted pine...  24/01/2008   \n",
       "3                                whiskey peach smash  27/03/2006   \n",
       "4      good eats creamed corn cornbread  alton brown  13/11/2007   \n",
       "\n",
       "                                         description  \\\n",
       "0  i found this recipe in the paper the other day...   \n",
       "1  did this for dinner today, very delicious with...   \n",
       "2  this is the essence of summer - fresh tomatoes...   \n",
       "3  from the \"king of cocktails\" dale degroff, thi...   \n",
       "4  this recipe produces a very light and airy cor...   \n",
       "\n",
       "                                         ingredients  \\\n",
       "0  ['butter', 'sugar', 'light corn syrup', 'peanu...   \n",
       "1  ['top sirloin roast', 'garlic cloves', 'light ...   \n",
       "2  ['penne pasta', 'olive oil', 'onion', 'garlic ...   \n",
       "3  ['whiskey', 'peach', 'mint leaves', 'lemon', '...   \n",
       "4  ['yellow cornmeal', 'kosher salt', 'sugar', 'b...   \n",
       "\n",
       "                                      Cleaned_review  Sentiment  \n",
       "0  problem w going stale kept couple days kept we...          1  \n",
       "1  good roast however strong flavors garlic horse...          1  \n",
       "2  awesome summery quick top good used fresh toma...          1  \n",
       "3  used thawed frozen peaches even though used mu...          1  \n",
       "4  sugar belong cornbread least real southern cor...          2  "
      ]
     },
     "execution_count": 96,
     "metadata": {},
     "output_type": "execute_result"
    }
   ],
   "source": [
    "# Importing the data\n",
    "Sentiment_data = pd.read_csv(\"sentiment_data.csv\")\n",
    "Sentiment_data.head()"
   ]
  },
  {
   "cell_type": "code",
   "execution_count": 97,
   "metadata": {},
   "outputs": [],
   "source": [
    "International_recipes.rename(columns={'id':'recipe_id'}, inplace=True)"
   ]
  },
  {
   "cell_type": "code",
   "execution_count": 98,
   "metadata": {},
   "outputs": [],
   "source": [
    "combined_data = pd.merge(International_recipes, Sentiment_data, on=\"recipe_id\", how=\"inner\")"
   ]
  },
  {
   "cell_type": "code",
   "execution_count": 99,
   "metadata": {},
   "outputs": [
    {
     "data": {
      "application/vnd.microsoft.datawrangler.viewer.v0+json": {
       "columns": [
        {
         "name": "index",
         "rawType": "int64",
         "type": "integer"
        },
        {
         "name": "name_x",
         "rawType": "object",
         "type": "string"
        },
        {
         "name": "recipe_id",
         "rawType": "int64",
         "type": "integer"
        },
        {
         "name": "minutes",
         "rawType": "int64",
         "type": "integer"
        },
        {
         "name": "tags",
         "rawType": "object",
         "type": "string"
        },
        {
         "name": "steps",
         "rawType": "object",
         "type": "string"
        },
        {
         "name": "ingredients_x",
         "rawType": "object",
         "type": "string"
        },
        {
         "name": "calories",
         "rawType": "float64",
         "type": "float"
        },
        {
         "name": "total fat (PDV)",
         "rawType": "float64",
         "type": "float"
        },
        {
         "name": "sugar (PDV)",
         "rawType": "float64",
         "type": "float"
        },
        {
         "name": "sodium (PDV)",
         "rawType": "float64",
         "type": "float"
        },
        {
         "name": "protein (PDV)",
         "rawType": "float64",
         "type": "float"
        },
        {
         "name": "saturated fat (PDV)",
         "rawType": "float64",
         "type": "float"
        },
        {
         "name": "carbohydrates (PDV)",
         "rawType": "float64",
         "type": "float"
        },
        {
         "name": "user_id",
         "rawType": "int64",
         "type": "integer"
        },
        {
         "name": "date",
         "rawType": "object",
         "type": "string"
        },
        {
         "name": "rating",
         "rawType": "int64",
         "type": "integer"
        },
        {
         "name": "review",
         "rawType": "object",
         "type": "string"
        },
        {
         "name": "name_y",
         "rawType": "object",
         "type": "string"
        },
        {
         "name": "submitted",
         "rawType": "object",
         "type": "string"
        },
        {
         "name": "description",
         "rawType": "object",
         "type": "string"
        },
        {
         "name": "ingredients_y",
         "rawType": "object",
         "type": "string"
        },
        {
         "name": "Cleaned_review",
         "rawType": "object",
         "type": "string"
        },
        {
         "name": "Sentiment",
         "rawType": "int64",
         "type": "integer"
        }
       ],
       "conversionMethod": "pd.DataFrame",
       "ref": "da284023-d327-4368-8df5-74e7c36e89fe",
       "rows": [
        [
         "0",
         "arriba   baked winter squash mexican style",
         "137739",
         "55",
         "['60-minutes-or-less', 'time-to-make', 'course', 'main-ingredient', 'cuisine', 'preparation', 'occasion', 'north-american', 'side-dishes', 'vegetables', 'mexican', 'easy', 'fall', 'holiday-event', 'vegetarian', 'winter', 'dietary', 'christmas', 'seasonal', 'squash']",
         "['make a choice and proceed with recipe', 'depending on size of squash , cut into half or fourths', 'remove seeds', 'for spicy squash , drizzle olive oil or melted butter over each cut squash piece', 'season with mexican seasoning mix ii', 'for sweet squash , drizzle melted honey , butter , grated piloncillo over each cut squash piece', 'season with sweet mexican spice mix', 'bake at 350 degrees , again depending on size , for 40 minutes up to an hour , until a fork can easily pierce the skin', 'be careful not to burn the squash especially if you opt to use sugar or butter', 'if you feel more comfortable , cover the squash with aluminum foil the first half hour , give or take , of baking', 'if desired , season with salt']",
         "winter squash  mexican seasoning  mixed spice  honey  butter  olive oil  salt",
         "51.5",
         "0.0",
         "13.0",
         "0.0",
         "2.0",
         "0.0",
         "4.0",
         "593927",
         "21/08/2010",
         "5",
         "This was a nice change. I used butternut squash and the sweet option using a good local honey and unsalted butter. I did not add salt. We ate this on top of recipe#322603 with Balkan yogurt. I may make this again same option. Made for Ramadan Tag 2010.",
         "arriba   baked winter squash mexican style",
         "16/09/2005",
         "autumn is my favorite time of year to cook! this recipe \r\ncan be prepared either spicy or sweet, your choice!\r\ntwo of my posted mexican-inspired seasoning mix recipes are offered as suggestions.",
         "['winter squash', 'mexican seasoning', 'mixed spice', 'honey', 'butter', 'olive oil', 'salt']",
         "nice change used butternut squash sweet option using good local honey unsalted butter add salt ate top recipe balkan yogurt may make option made ramadan tag",
         "1"
        ],
        [
         "1",
         "arriba   baked winter squash mexican style",
         "137739",
         "55",
         "['60-minutes-or-less', 'time-to-make', 'course', 'main-ingredient', 'cuisine', 'preparation', 'occasion', 'north-american', 'side-dishes', 'vegetables', 'mexican', 'easy', 'fall', 'holiday-event', 'vegetarian', 'winter', 'dietary', 'christmas', 'seasonal', 'squash']",
         "['make a choice and proceed with recipe', 'depending on size of squash , cut into half or fourths', 'remove seeds', 'for spicy squash , drizzle olive oil or melted butter over each cut squash piece', 'season with mexican seasoning mix ii', 'for sweet squash , drizzle melted honey , butter , grated piloncillo over each cut squash piece', 'season with sweet mexican spice mix', 'bake at 350 degrees , again depending on size , for 40 minutes up to an hour , until a fork can easily pierce the skin', 'be careful not to burn the squash especially if you opt to use sugar or butter', 'if you feel more comfortable , cover the squash with aluminum foil the first half hour , give or take , of baking', 'if desired , season with salt']",
         "winter squash  mexican seasoning  mixed spice  honey  butter  olive oil  salt",
         "51.5",
         "0.0",
         "13.0",
         "0.0",
         "2.0",
         "0.0",
         "4.0",
         "178427",
         "05/12/2011",
         "5",
         "Excellent recipe! I used butternut squash and the sweet option. The mexican spice mix put this over the top. Thanks for sharing.",
         "arriba   baked winter squash mexican style",
         "16/09/2005",
         "autumn is my favorite time of year to cook! this recipe \r\ncan be prepared either spicy or sweet, your choice!\r\ntwo of my posted mexican-inspired seasoning mix recipes are offered as suggestions.",
         "['winter squash', 'mexican seasoning', 'mixed spice', 'honey', 'butter', 'olive oil', 'salt']",
         "excellent recipe used butternut squash sweet option mexican spice mix put top thanks sharing",
         "1"
        ],
        [
         "2",
         "arriba   baked winter squash mexican style",
         "137739",
         "55",
         "['60-minutes-or-less', 'time-to-make', 'course', 'main-ingredient', 'cuisine', 'preparation', 'occasion', 'north-american', 'side-dishes', 'vegetables', 'mexican', 'easy', 'fall', 'holiday-event', 'vegetarian', 'winter', 'dietary', 'christmas', 'seasonal', 'squash']",
         "['make a choice and proceed with recipe', 'depending on size of squash , cut into half or fourths', 'remove seeds', 'for spicy squash , drizzle olive oil or melted butter over each cut squash piece', 'season with mexican seasoning mix ii', 'for sweet squash , drizzle melted honey , butter , grated piloncillo over each cut squash piece', 'season with sweet mexican spice mix', 'bake at 350 degrees , again depending on size , for 40 minutes up to an hour , until a fork can easily pierce the skin', 'be careful not to burn the squash especially if you opt to use sugar or butter', 'if you feel more comfortable , cover the squash with aluminum foil the first half hour , give or take , of baking', 'if desired , season with salt']",
         "winter squash  mexican seasoning  mixed spice  honey  butter  olive oil  salt",
         "51.5",
         "0.0",
         "13.0",
         "0.0",
         "2.0",
         "0.0",
         "4.0",
         "4470",
         "18/02/2006",
         "5",
         " I used an acorn squash and recipe#137681 Sweet Mexican spice blend. Only used 1 tsp honey & 1 tsp butter between both halves,, sprinkled the squash liberally with the spice mix. Baked covered for 45 minutes uncovered or 15.  I basted the squash   with the the butter/honey from the cavity  allowing it to get a golden color.  Lovely Squash recipe Thanks Cookgirl",
         "arriba   baked winter squash mexican style",
         "16/09/2005",
         "autumn is my favorite time of year to cook! this recipe \r\ncan be prepared either spicy or sweet, your choice!\r\ntwo of my posted mexican-inspired seasoning mix recipes are offered as suggestions.",
         "['winter squash', 'mexican seasoning', 'mixed spice', 'honey', 'butter', 'olive oil', 'salt']",
         "used acorn squash recipe sweet mexican spice blend used tsp honey tsp butter halves sprinkled squash liberally spice mix baked covered minutes uncovered basted squash butterhoney cavity allowing get golden color lovely squash recipe thanks cookgirl",
         "1"
        ],
        [
         "3",
         "a bit different  breakfast pizza",
         "31490",
         "30",
         "['30-minutes-or-less', 'time-to-make', 'course', 'main-ingredient', 'cuisine', 'preparation', 'occasion', 'north-american', 'breakfast', 'main-dish', 'pork', 'american', 'oven', 'easy', 'kid-friendly', 'pizza', 'dietary', 'northeastern-united-states', 'meat', 'equipment']",
         "['preheat oven to 425 degrees f', 'press dough into the bottom and sides of a 12 inch pizza pan', 'bake for 5 minutes until set but not browned', 'cut sausage into small pieces', 'whisk eggs and milk in a bowl until frothy', 'spoon sausage over baked crust and sprinkle with cheese', 'pour egg mixture slowly over sausage and cheese', 's& p to taste', 'bake 15-20 minutes or until eggs are set and crust is brown']",
         "prepared pizza crust  sausage patty  eggs  milk  salt and pepper  cheese",
         "173.4",
         "18.0",
         "0.0",
         "17.0",
         "22.0",
         "35.0",
         "1.0",
         "319943",
         "18/07/2009",
         "4",
         "We liked this, but the I only baked for 15 minutes and the crust was too browned on the bottom.  That could be my oven, but I haven't had issues in the past.  I too used uncooked sausage, but cooked it first and also added a few slices of cooked bacon pieces.  Tastes like the one at the local gas station.  Thanks for such an easy recipe.",
         "a bit different  breakfast pizza",
         "17/06/2002",
         "this recipe calls for the crust to be prebaked a bit before adding ingredients. feel free to change sausage to ham or bacon. this warms well in the microwave for those late risers.",
         "['prepared pizza crust', 'sausage patty', 'eggs', 'milk', 'salt and pepper', 'cheese']",
         "liked baked minutes crust browned bottom could oven havent issues past used uncooked sausage cooked first also added slices cooked bacon pieces tastes like one local gas station thanks easy recipe",
         "1"
        ],
        [
         "4",
         "a bit different  breakfast pizza",
         "31490",
         "30",
         "['30-minutes-or-less', 'time-to-make', 'course', 'main-ingredient', 'cuisine', 'preparation', 'occasion', 'north-american', 'breakfast', 'main-dish', 'pork', 'american', 'oven', 'easy', 'kid-friendly', 'pizza', 'dietary', 'northeastern-united-states', 'meat', 'equipment']",
         "['preheat oven to 425 degrees f', 'press dough into the bottom and sides of a 12 inch pizza pan', 'bake for 5 minutes until set but not browned', 'cut sausage into small pieces', 'whisk eggs and milk in a bowl until frothy', 'spoon sausage over baked crust and sprinkle with cheese', 'pour egg mixture slowly over sausage and cheese', 's& p to taste', 'bake 15-20 minutes or until eggs are set and crust is brown']",
         "prepared pizza crust  sausage patty  eggs  milk  salt and pepper  cheese",
         "173.4",
         "18.0",
         "0.0",
         "17.0",
         "22.0",
         "35.0",
         "1.0",
         "674022",
         "10/04/2011",
         "5",
         "No leftovers here. As Coleen114 mentioned this cooks fast. 10 minutes total for us till it was perfect brown but if we hadn't been watching it could have been disaster. Ovens vary but we had ours higher up and it still cooked fast. Thanks for posting Aroostook. It was perfect served with fruit salad. Kids and adults alike loved it. We could only find the pizza dough with one more ounce than called for so I made the crust built up a bit. No problems at all. Easily could add or change omelet type toppings i.e mushrooms, peppers,etc. Don't forget to season with salt and pepper. Super all around. Made for Zaar Cookbook game in the community forum. Enjoy! ChefDLH",
         "a bit different  breakfast pizza",
         "17/06/2002",
         "this recipe calls for the crust to be prebaked a bit before adding ingredients. feel free to change sausage to ham or bacon. this warms well in the microwave for those late risers.",
         "['prepared pizza crust', 'sausage patty', 'eggs', 'milk', 'salt and pepper', 'cheese']",
         "leftovers coleen mentioned cooks fast minutes total us till perfect brown hadnt watching could disaster ovens vary higher still cooked fast thanks posting aroostook perfect served fruit salad kids adults alike loved could find pizza dough one ounce called made crust built bit problems easily could add change omelet type toppings ie mushrooms peppersetc dont forget season salt pepper super around made zaar cookbook game community forum enjoy chefdlh",
         "1"
        ]
       ],
       "shape": {
        "columns": 23,
        "rows": 5
       }
      },
      "text/html": [
       "<div>\n",
       "<style scoped>\n",
       "    .dataframe tbody tr th:only-of-type {\n",
       "        vertical-align: middle;\n",
       "    }\n",
       "\n",
       "    .dataframe tbody tr th {\n",
       "        vertical-align: top;\n",
       "    }\n",
       "\n",
       "    .dataframe thead th {\n",
       "        text-align: right;\n",
       "    }\n",
       "</style>\n",
       "<table border=\"1\" class=\"dataframe\">\n",
       "  <thead>\n",
       "    <tr style=\"text-align: right;\">\n",
       "      <th></th>\n",
       "      <th>name_x</th>\n",
       "      <th>recipe_id</th>\n",
       "      <th>minutes</th>\n",
       "      <th>tags</th>\n",
       "      <th>steps</th>\n",
       "      <th>ingredients_x</th>\n",
       "      <th>calories</th>\n",
       "      <th>total fat (PDV)</th>\n",
       "      <th>sugar (PDV)</th>\n",
       "      <th>sodium (PDV)</th>\n",
       "      <th>...</th>\n",
       "      <th>user_id</th>\n",
       "      <th>date</th>\n",
       "      <th>rating</th>\n",
       "      <th>review</th>\n",
       "      <th>name_y</th>\n",
       "      <th>submitted</th>\n",
       "      <th>description</th>\n",
       "      <th>ingredients_y</th>\n",
       "      <th>Cleaned_review</th>\n",
       "      <th>Sentiment</th>\n",
       "    </tr>\n",
       "  </thead>\n",
       "  <tbody>\n",
       "    <tr>\n",
       "      <th>0</th>\n",
       "      <td>arriba   baked winter squash mexican style</td>\n",
       "      <td>137739</td>\n",
       "      <td>55</td>\n",
       "      <td>['60-minutes-or-less', 'time-to-make', 'course...</td>\n",
       "      <td>['make a choice and proceed with recipe', 'dep...</td>\n",
       "      <td>winter squash  mexican seasoning  mixed spice ...</td>\n",
       "      <td>51.5</td>\n",
       "      <td>0.0</td>\n",
       "      <td>13.0</td>\n",
       "      <td>0.0</td>\n",
       "      <td>...</td>\n",
       "      <td>593927</td>\n",
       "      <td>21/08/2010</td>\n",
       "      <td>5</td>\n",
       "      <td>This was a nice change. I used butternut squas...</td>\n",
       "      <td>arriba   baked winter squash mexican style</td>\n",
       "      <td>16/09/2005</td>\n",
       "      <td>autumn is my favorite time of year to cook! th...</td>\n",
       "      <td>['winter squash', 'mexican seasoning', 'mixed ...</td>\n",
       "      <td>nice change used butternut squash sweet option...</td>\n",
       "      <td>1</td>\n",
       "    </tr>\n",
       "    <tr>\n",
       "      <th>1</th>\n",
       "      <td>arriba   baked winter squash mexican style</td>\n",
       "      <td>137739</td>\n",
       "      <td>55</td>\n",
       "      <td>['60-minutes-or-less', 'time-to-make', 'course...</td>\n",
       "      <td>['make a choice and proceed with recipe', 'dep...</td>\n",
       "      <td>winter squash  mexican seasoning  mixed spice ...</td>\n",
       "      <td>51.5</td>\n",
       "      <td>0.0</td>\n",
       "      <td>13.0</td>\n",
       "      <td>0.0</td>\n",
       "      <td>...</td>\n",
       "      <td>178427</td>\n",
       "      <td>05/12/2011</td>\n",
       "      <td>5</td>\n",
       "      <td>Excellent recipe! I used butternut squash and ...</td>\n",
       "      <td>arriba   baked winter squash mexican style</td>\n",
       "      <td>16/09/2005</td>\n",
       "      <td>autumn is my favorite time of year to cook! th...</td>\n",
       "      <td>['winter squash', 'mexican seasoning', 'mixed ...</td>\n",
       "      <td>excellent recipe used butternut squash sweet o...</td>\n",
       "      <td>1</td>\n",
       "    </tr>\n",
       "    <tr>\n",
       "      <th>2</th>\n",
       "      <td>arriba   baked winter squash mexican style</td>\n",
       "      <td>137739</td>\n",
       "      <td>55</td>\n",
       "      <td>['60-minutes-or-less', 'time-to-make', 'course...</td>\n",
       "      <td>['make a choice and proceed with recipe', 'dep...</td>\n",
       "      <td>winter squash  mexican seasoning  mixed spice ...</td>\n",
       "      <td>51.5</td>\n",
       "      <td>0.0</td>\n",
       "      <td>13.0</td>\n",
       "      <td>0.0</td>\n",
       "      <td>...</td>\n",
       "      <td>4470</td>\n",
       "      <td>18/02/2006</td>\n",
       "      <td>5</td>\n",
       "      <td>I used an acorn squash and recipe#137681 Swee...</td>\n",
       "      <td>arriba   baked winter squash mexican style</td>\n",
       "      <td>16/09/2005</td>\n",
       "      <td>autumn is my favorite time of year to cook! th...</td>\n",
       "      <td>['winter squash', 'mexican seasoning', 'mixed ...</td>\n",
       "      <td>used acorn squash recipe sweet mexican spice b...</td>\n",
       "      <td>1</td>\n",
       "    </tr>\n",
       "    <tr>\n",
       "      <th>3</th>\n",
       "      <td>a bit different  breakfast pizza</td>\n",
       "      <td>31490</td>\n",
       "      <td>30</td>\n",
       "      <td>['30-minutes-or-less', 'time-to-make', 'course...</td>\n",
       "      <td>['preheat oven to 425 degrees f', 'press dough...</td>\n",
       "      <td>prepared pizza crust  sausage patty  eggs  mil...</td>\n",
       "      <td>173.4</td>\n",
       "      <td>18.0</td>\n",
       "      <td>0.0</td>\n",
       "      <td>17.0</td>\n",
       "      <td>...</td>\n",
       "      <td>319943</td>\n",
       "      <td>18/07/2009</td>\n",
       "      <td>4</td>\n",
       "      <td>We liked this, but the I only baked for 15 min...</td>\n",
       "      <td>a bit different  breakfast pizza</td>\n",
       "      <td>17/06/2002</td>\n",
       "      <td>this recipe calls for the crust to be prebaked...</td>\n",
       "      <td>['prepared pizza crust', 'sausage patty', 'egg...</td>\n",
       "      <td>liked baked minutes crust browned bottom could...</td>\n",
       "      <td>1</td>\n",
       "    </tr>\n",
       "    <tr>\n",
       "      <th>4</th>\n",
       "      <td>a bit different  breakfast pizza</td>\n",
       "      <td>31490</td>\n",
       "      <td>30</td>\n",
       "      <td>['30-minutes-or-less', 'time-to-make', 'course...</td>\n",
       "      <td>['preheat oven to 425 degrees f', 'press dough...</td>\n",
       "      <td>prepared pizza crust  sausage patty  eggs  mil...</td>\n",
       "      <td>173.4</td>\n",
       "      <td>18.0</td>\n",
       "      <td>0.0</td>\n",
       "      <td>17.0</td>\n",
       "      <td>...</td>\n",
       "      <td>674022</td>\n",
       "      <td>10/04/2011</td>\n",
       "      <td>5</td>\n",
       "      <td>No leftovers here. As Coleen114 mentioned this...</td>\n",
       "      <td>a bit different  breakfast pizza</td>\n",
       "      <td>17/06/2002</td>\n",
       "      <td>this recipe calls for the crust to be prebaked...</td>\n",
       "      <td>['prepared pizza crust', 'sausage patty', 'egg...</td>\n",
       "      <td>leftovers coleen mentioned cooks fast minutes ...</td>\n",
       "      <td>1</td>\n",
       "    </tr>\n",
       "  </tbody>\n",
       "</table>\n",
       "<p>5 rows × 23 columns</p>\n",
       "</div>"
      ],
      "text/plain": [
       "                                       name_x  recipe_id  minutes  \\\n",
       "0  arriba   baked winter squash mexican style     137739       55   \n",
       "1  arriba   baked winter squash mexican style     137739       55   \n",
       "2  arriba   baked winter squash mexican style     137739       55   \n",
       "3            a bit different  breakfast pizza      31490       30   \n",
       "4            a bit different  breakfast pizza      31490       30   \n",
       "\n",
       "                                                tags  \\\n",
       "0  ['60-minutes-or-less', 'time-to-make', 'course...   \n",
       "1  ['60-minutes-or-less', 'time-to-make', 'course...   \n",
       "2  ['60-minutes-or-less', 'time-to-make', 'course...   \n",
       "3  ['30-minutes-or-less', 'time-to-make', 'course...   \n",
       "4  ['30-minutes-or-less', 'time-to-make', 'course...   \n",
       "\n",
       "                                               steps  \\\n",
       "0  ['make a choice and proceed with recipe', 'dep...   \n",
       "1  ['make a choice and proceed with recipe', 'dep...   \n",
       "2  ['make a choice and proceed with recipe', 'dep...   \n",
       "3  ['preheat oven to 425 degrees f', 'press dough...   \n",
       "4  ['preheat oven to 425 degrees f', 'press dough...   \n",
       "\n",
       "                                       ingredients_x  calories  \\\n",
       "0  winter squash  mexican seasoning  mixed spice ...      51.5   \n",
       "1  winter squash  mexican seasoning  mixed spice ...      51.5   \n",
       "2  winter squash  mexican seasoning  mixed spice ...      51.5   \n",
       "3  prepared pizza crust  sausage patty  eggs  mil...     173.4   \n",
       "4  prepared pizza crust  sausage patty  eggs  mil...     173.4   \n",
       "\n",
       "   total fat (PDV)  sugar (PDV)  sodium (PDV)  ...  user_id        date  \\\n",
       "0              0.0         13.0           0.0  ...   593927  21/08/2010   \n",
       "1              0.0         13.0           0.0  ...   178427  05/12/2011   \n",
       "2              0.0         13.0           0.0  ...     4470  18/02/2006   \n",
       "3             18.0          0.0          17.0  ...   319943  18/07/2009   \n",
       "4             18.0          0.0          17.0  ...   674022  10/04/2011   \n",
       "\n",
       "   rating                                             review  \\\n",
       "0       5  This was a nice change. I used butternut squas...   \n",
       "1       5  Excellent recipe! I used butternut squash and ...   \n",
       "2       5   I used an acorn squash and recipe#137681 Swee...   \n",
       "3       4  We liked this, but the I only baked for 15 min...   \n",
       "4       5  No leftovers here. As Coleen114 mentioned this...   \n",
       "\n",
       "                                       name_y   submitted  \\\n",
       "0  arriba   baked winter squash mexican style  16/09/2005   \n",
       "1  arriba   baked winter squash mexican style  16/09/2005   \n",
       "2  arriba   baked winter squash mexican style  16/09/2005   \n",
       "3            a bit different  breakfast pizza  17/06/2002   \n",
       "4            a bit different  breakfast pizza  17/06/2002   \n",
       "\n",
       "                                         description  \\\n",
       "0  autumn is my favorite time of year to cook! th...   \n",
       "1  autumn is my favorite time of year to cook! th...   \n",
       "2  autumn is my favorite time of year to cook! th...   \n",
       "3  this recipe calls for the crust to be prebaked...   \n",
       "4  this recipe calls for the crust to be prebaked...   \n",
       "\n",
       "                                       ingredients_y  \\\n",
       "0  ['winter squash', 'mexican seasoning', 'mixed ...   \n",
       "1  ['winter squash', 'mexican seasoning', 'mixed ...   \n",
       "2  ['winter squash', 'mexican seasoning', 'mixed ...   \n",
       "3  ['prepared pizza crust', 'sausage patty', 'egg...   \n",
       "4  ['prepared pizza crust', 'sausage patty', 'egg...   \n",
       "\n",
       "                                      Cleaned_review Sentiment  \n",
       "0  nice change used butternut squash sweet option...         1  \n",
       "1  excellent recipe used butternut squash sweet o...         1  \n",
       "2  used acorn squash recipe sweet mexican spice b...         1  \n",
       "3  liked baked minutes crust browned bottom could...         1  \n",
       "4  leftovers coleen mentioned cooks fast minutes ...         1  \n",
       "\n",
       "[5 rows x 23 columns]"
      ]
     },
     "execution_count": 99,
     "metadata": {},
     "output_type": "execute_result"
    }
   ],
   "source": [
    "# Combining the International recipe and the  review data\n",
    "combined_data.head() "
   ]
  },
  {
   "cell_type": "code",
   "execution_count": 100,
   "metadata": {},
   "outputs": [
    {
     "data": {
      "text/plain": [
       "name_x                 0\n",
       "recipe_id              0\n",
       "minutes                0\n",
       "tags                   0\n",
       "steps                  0\n",
       "ingredients_x          0\n",
       "calories               0\n",
       "total fat (PDV)        0\n",
       "sugar (PDV)            0\n",
       "sodium (PDV)           0\n",
       "protein (PDV)          0\n",
       "saturated fat (PDV)    0\n",
       "carbohydrates (PDV)    0\n",
       "user_id                0\n",
       "date                   0\n",
       "rating                 0\n",
       "review                 0\n",
       "name_y                 0\n",
       "submitted              0\n",
       "description            0\n",
       "ingredients_y          0\n",
       "Cleaned_review         0\n",
       "Sentiment              0\n",
       "dtype: int64"
      ]
     },
     "execution_count": 100,
     "metadata": {},
     "output_type": "execute_result"
    }
   ],
   "source": [
    "# Checking for missing values\n",
    "combined_data.isna().sum()"
   ]
  },
  {
   "cell_type": "code",
   "execution_count": 101,
   "metadata": {},
   "outputs": [
    {
     "data": {
      "text/plain": [
       "0"
      ]
     },
     "execution_count": 101,
     "metadata": {},
     "output_type": "execute_result"
    }
   ],
   "source": [
    "# Checking for duplicates\n",
    "combined_data.duplicated().sum()"
   ]
  },
  {
   "cell_type": "code",
   "execution_count": 102,
   "metadata": {},
   "outputs": [
    {
     "data": {
      "text/plain": [
       "Sentiment\n",
       "Positive    386515\n",
       "Negative     12675\n",
       "Neutral      11147\n",
       "Name: count, dtype: int64"
      ]
     },
     "execution_count": 102,
     "metadata": {},
     "output_type": "execute_result"
    }
   ],
   "source": [
    "# Rename the Sentiment COLUMN\n",
    "combined_data['Sentiment'] = combined_data['Sentiment'].replace({1:'Positive', 0:'Negative', 2:'Neutral'})\n",
    "combined_data['Sentiment'].value_counts()"
   ]
  },
  {
   "cell_type": "code",
   "execution_count": 107,
   "metadata": {},
   "outputs": [
    {
     "data": {
      "text/plain": [
       "Index(['name_x', 'recipe_id', 'minutes', 'tags', 'steps', 'ingredients_x',\n",
       "       'calories', 'total fat (PDV)', 'sugar (PDV)', 'sodium (PDV)',\n",
       "       'protein (PDV)', 'saturated fat (PDV)', 'carbohydrates (PDV)',\n",
       "       'user_id', 'date', 'rating', 'review', 'name_y', 'submitted',\n",
       "       'description', 'ingredients_y', 'Cleaned_review', 'Sentiment',\n",
       "       'cuisine'],\n",
       "      dtype='object')"
      ]
     },
     "execution_count": 107,
     "metadata": {},
     "output_type": "execute_result"
    }
   ],
   "source": [
    "combined_data.columns"
   ]
  },
  {
   "cell_type": "code",
   "execution_count": null,
   "metadata": {},
   "outputs": [
    {
     "data": {
      "text/plain": [
       "0         ['60-minutes-or-less', 'time-to-make', 'course...\n",
       "1         ['60-minutes-or-less', 'time-to-make', 'course...\n",
       "2         ['60-minutes-or-less', 'time-to-make', 'course...\n",
       "3         ['30-minutes-or-less', 'time-to-make', 'course...\n",
       "4         ['30-minutes-or-less', 'time-to-make', 'course...\n",
       "                                ...                        \n",
       "410332    ['ham', '60-minutes-or-less', 'time-to-make', ...\n",
       "410333    ['ham', '60-minutes-or-less', 'time-to-make', ...\n",
       "410334    ['60-minutes-or-less', 'time-to-make', 'course...\n",
       "410335    ['30-minutes-or-less', 'time-to-make', 'course...\n",
       "410336    ['30-minutes-or-less', 'time-to-make', 'course...\n",
       "Name: tags, Length: 410337, dtype: object"
      ]
     },
     "execution_count": 85,
     "metadata": {},
     "output_type": "execute_result"
    }
   ],
   "source": [
    "combined_data"
   ]
  },
  {
   "cell_type": "markdown",
   "metadata": {},
   "source": [
    "# Exploratory Data Analysis (EDA)\n",
    "### Sentiment Distribution"
   ]
  },
  {
   "cell_type": "code",
   "execution_count": 108,
   "metadata": {},
   "outputs": [
    {
     "data": {
      "image/png": "[encoded data removed]",
      "text/plain": [
       "<Figure size 700x700 with 1 Axes>"
      ]
     },
     "metadata": {},
     "output_type": "display_data"
    },
    {
     "name": "stderr",
     "output_type": "stream",
     "text": [
      "C:\\Users\\Admin\\AppData\\Local\\Temp\\ipykernel_21508\\577510771.py:19: FutureWarning: \n",
      "\n",
      "Passing `palette` without assigning `hue` is deprecated and will be removed in v0.14.0. Assign the `x` variable to `hue` and set `legend=False` for the same effect.\n",
      "\n",
      "  sns.barplot(x=sentiment_counts.index, y=sentiment_counts.values, palette=['red', 'gray', 'green'])\n"
     ]
    },
    {
     "data": {
      "image/png": "[encoded data removed]",
      "text/plain": [
       "<Figure size 800x500 with 1 Axes>"
      ]
     },
     "metadata": {},
     "output_type": "display_data"
    }
   ],
   "source": [
    "import pandas as pd\n",
    "import matplotlib.pyplot as plt\n",
    "import seaborn as sns\n",
    "\n",
    "# Load your dataset (assuming it's already loaded as `df`)\n",
    "# df = pd.read_csv(\"your_data.csv\")\n",
    "\n",
    "# Count sentiment occurrences\n",
    "sentiment_counts = Sentiment_data['Sentiment'].value_counts()\n",
    "\n",
    "# Pie Chart\n",
    "plt.figure(figsize=(7, 7))\n",
    "plt.pie(sentiment_counts, labels=sentiment_counts.index, autopct='%1.1f%%', colors=['red', 'gray', 'green'])\n",
    "plt.title(\"Sentiment Distribution\")\n",
    "plt.show()\n",
    "\n",
    "# Bar Chart\n",
    "plt.figure(figsize=(8, 5))\n",
    "sns.barplot(x=sentiment_counts.index, y=sentiment_counts.values, palette=['red', 'gray', 'green'])\n",
    "plt.title(\"Sentiment Count by Type\")\n",
    "plt.xlabel(\"Sentiment\")\n",
    "plt.ylabel(\"Count\")\n",
    "plt.show()"
   ]
  },
  {
   "cell_type": "code",
   "execution_count": 112,
   "metadata": {},
   "outputs": [
    {
     "data": {
      "text/plain": [
       "Index(['name_x', 'recipe_id', 'minutes', 'tags', 'steps', 'ingredients_x',\n",
       "       'calories', 'total fat (PDV)', 'sugar (PDV)', 'sodium (PDV)',\n",
       "       'protein (PDV)', 'saturated fat (PDV)', 'carbohydrates (PDV)',\n",
       "       'user_id', 'date', 'rating', 'review', 'name_y', 'submitted',\n",
       "       'description', 'ingredients_y', 'Cleaned_review', 'Sentiment',\n",
       "       'cuisine'],\n",
       "      dtype='object')"
      ]
     },
     "execution_count": 112,
     "metadata": {},
     "output_type": "execute_result"
    }
   ],
   "source": [
    "combined_data.columns"
   ]
  },
  {
   "cell_type": "code",
   "execution_count": 124,
   "metadata": {},
   "outputs": [],
   "source": [
    "combined_data['Sentiment'].value_counts().to_csv('Sentiment values.csv', index=False)"
   ]
  },
  {
   "cell_type": "markdown",
   "metadata": {},
   "source": [
    "## Sentiment VS Recipe Attribute"
   ]
  },
  {
   "cell_type": "code",
   "execution_count": 113,
   "metadata": {},
   "outputs": [
    {
     "name": "stderr",
     "output_type": "stream",
     "text": [
      "C:\\Users\\Admin\\AppData\\Local\\Temp\\ipykernel_21508\\4010019197.py:5: FutureWarning: The default of observed=False is deprecated and will be changed to True in a future version of pandas. Pass observed=False to retain current behavior or observed=True to adopt the future default and silence this warning.\n",
      "  sentiment_by_calories = combined_data.groupby(['calorie_range', 'Sentiment']).size().unstack()\n"
     ]
    },
    {
     "data": {
      "image/png": "[encoded data removed]",
      "text/plain": [
       "<Figure size 800x500 with 1 Axes>"
      ]
     },
     "metadata": {},
     "output_type": "display_data"
    }
   ],
   "source": [
    "# Create a binned calorie range\n",
    "combined_data['calorie_range'] = pd.cut(combined_data['calories'], bins=[0, 100, 300, 500, 1000], labels=['0-100', '101-300', '301-500', '501-1000'])\n",
    "\n",
    "# Count sentiment for each calorie range\n",
    "sentiment_by_calories = combined_data.groupby(['calorie_range', 'Sentiment']).size().unstack()\n",
    "\n",
    "# Stacked Bar Chart\n",
    "sentiment_by_calories.plot(kind='bar', stacked=True, colormap='viridis', figsize=(8, 5))\n",
    "plt.title(\"Sentiment by Calorie Range\")\n",
    "plt.xlabel(\"Calorie Range\")\n",
    "plt.ylabel(\"Count\")\n",
    "plt.legend(title=\"Sentiment\")\n",
    "plt.show()\n"
   ]
  },
  {
   "cell_type": "markdown",
   "metadata": {},
   "source": [
    "This table presents the **distribution of sentiment** (Negative, Neutral, and Positive) across different **calorie ranges** of recipes.  \n",
    "\n",
    "### **Key Observations:**  \n",
    "1. **Higher-Calorie Recipes (101-1000 calories)** receive the **most positive feedback**, suggesting consumer preference for richer meals.  \n",
    "2. **Low-Calorie Recipes (0-100 calories)** also have strong positive sentiment but fewer total reviews.  \n",
    "3. **Negative and Neutral reviews** are consistently lower across all calorie ranges, indicating overall customer satisfaction.  \n",
    "\n",
    "### **Possible Actions:**  \n",
    "- Promote **highly rated** calorie-dense recipes for marketing.  \n",
    "- Analyze **negative reviews** in each range to identify improvement areas.  \n",
    "- Explore **health-conscious** options to attract calorie-conscious consumers.  \n",
    "\n"
   ]
  },
  {
   "cell_type": "code",
   "execution_count": 122,
   "metadata": {},
   "outputs": [],
   "source": [
    "sentiment_by_calories.to_csv('Sentiment by calories.csv', index=False)"
   ]
  },
  {
   "cell_type": "markdown",
   "metadata": {},
   "source": [
    "## Sentiment Trend over time"
   ]
  },
  {
   "cell_type": "code",
   "execution_count": 119,
   "metadata": {},
   "outputs": [
    {
     "data": {
      "image/png": "[encoded data removed]",
      "text/plain": [
       "<Figure size 1000x500 with 1 Axes>"
      ]
     },
     "metadata": {},
     "output_type": "display_data"
    }
   ],
   "source": [
    "import pandas as pd\n",
    "import matplotlib.pyplot as plt\n",
    "\n",
    "# Ensure date is in datetime format\n",
    "combined_data['date'] = pd.to_datetime(combined_data['date'], errors='coerce')\n",
    "\n",
    "# Drop rows where date conversion failed\n",
    "combined_data = combined_data.dropna(subset=['date'])\n",
    "\n",
    "# Convert Sentiment into numerical values (Negative=-1, Neutral=0, Positive=1)\n",
    "sentiment_mapping = {'Negative': -1, 'Neutral': 0, 'Positive': 1}\n",
    "combined_data['Sentiment_Score'] = combined_data['Sentiment'].map(sentiment_mapping)\n",
    "\n",
    "# Drop rows where Sentiment mapping failed\n",
    "combined_data = combined_data.dropna(subset=['Sentiment_Score'])\n",
    "\n",
    "# Group by year and calculate the average sentiment score\n",
    "sentiment_trend = combined_data.groupby(combined_data['date'].dt.to_period('Y'))['Sentiment_Score'].mean()\n",
    "\n",
    "# Convert PeriodIndex to string format for plotting\n",
    "sentiment_trend.index = sentiment_trend.index.astype(str)\n",
    "\n",
    "# Check if sentiment_trend is empty\n",
    "if sentiment_trend.empty:\n",
    "    print(\"No data available for plotting.\")\n",
    "else:\n",
    "    # Plot the sentiment trend\n",
    "    plt.figure(figsize=(10, 5))\n",
    "    plt.plot(sentiment_trend.index, sentiment_trend, marker='o', linestyle='-', markersize=6)\n",
    "\n",
    "    plt.title(\"Sentiment Trend Over Years\", fontsize=14)\n",
    "    plt.xlabel(\"Year\", fontsize=12)\n",
    "    plt.ylabel(\"Average Sentiment Score\", fontsize=12)\n",
    "\n",
    "    # Show all years, rotating labels for readability\n",
    "    plt.xticks(rotation=45)\n",
    "\n",
    "    plt.grid(True, linestyle='--', alpha=0.7)\n",
    "    plt.show()\n"
   ]
  },
  {
   "cell_type": "markdown",
   "metadata": {},
   "source": [
    "### **Sentiment Trend Analysis (2000-2018)**  \n",
    "\n",
    "#### **Key Insights:**  \n",
    "- **2000-2008:** Sentiment remained high and stable (~0.92), indicating strong customer satisfaction.  \n",
    "- **2009-2012:** Gradual decline (~0.91), suggesting shifting customer expectations or mild dissatisfaction.  \n",
    "- **2013-2018:** Significant drop from **0.90 to 0.76**, highlighting a decline in satisfaction.  \n",
    "\n",
    "#### **Recommendations:**  \n",
    "- Investigate **2013-2018** for major changes affecting sentiment.  \n",
    "- Address **customer complaints** and improve **service/product quality**.  \n",
    "- Conduct a **competitive analysis** to stay ahead in the market.  \n",
    "\n"
   ]
  },
  {
   "cell_type": "code",
   "execution_count": 125,
   "metadata": {},
   "outputs": [],
   "source": [
    "# Reset index to include years as a column\n",
    "sentiment_trend_df = sentiment_trend.reset_index()\n",
    "\n",
    "# Rename columns for clarity\n",
    "sentiment_trend_df.columns = ['Year', 'Average_Sentiment_Score']\n",
    "\n",
    "# Export to CSV\n",
    "sentiment_trend_df.to_csv(\"sentiment_trend.csv\", index=False)\n",
    "\n",
    "# Export to Excel\n",
    "sentiment_trend_df.to_excel(\"sentiment_trend.xlsx\", index=False)\n"
   ]
  },
  {
   "cell_type": "code",
   "execution_count": null,
   "metadata": {},
   "outputs": [],
   "source": []
  },
  {
   "cell_type": "code",
   "execution_count": null,
   "metadata": {},
   "outputs": [],
   "source": []
  },
  {
   "cell_type": "markdown",
   "metadata": {},
   "source": [
    "# Data Cleaning"
   ]
  }
 ],
 "metadata": {
  "kernelspec": {
   "display_name": "base",
   "language": "python",
   "name": "python3"
  },
  "language_info": {
   "codemirror_mode": {
    "name": "ipython",
    "version": 3
   },
   "file_extension": ".py",
   "mimetype": "text/x-python",
   "name": "python",
   "nbconvert_exporter": "python",
   "pygments_lexer": "ipython3",
   "version": "3.12.9"
  }
 },
 "nbformat": 4,
 "nbformat_minor": 2
}
