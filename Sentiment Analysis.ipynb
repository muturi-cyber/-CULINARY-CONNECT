{
 "cells": [
  {
   "cell_type": "code",
   "execution_count": 3,
   "metadata": {},
   "outputs": [
    {
     "name": "stderr",
     "output_type": "stream",
     "text": [
      "[nltk_data] Downloading package vader_lexicon to\n",
      "[nltk_data]     C:\\Users\\Admin/nltk_data...\n",
      "[nltk_data]   Package vader_lexicon is already up-to-date!\n"
     ]
    },
    {
     "data": {
      "text/plain": [
       "True"
      ]
     },
     "execution_count": 3,
     "metadata": {},
     "output_type": "execute_result"
    }
   ],
   "source": [
    "# Loading in the libraries\n",
    "import pandas as pd\n",
    "import nltk\n",
    "import swifter\n",
    "from nltk.corpus import stopwords\n",
    "from nltk.tokenize import word_tokenize\n",
    "from nltk.sentiment import SentimentIntensityAnalyzer\n",
    "from sklearn.feature_extraction.text import TfidfVectorizer\n",
    "from sklearn.model_selection import train_test_split\n",
    "from sklearn.linear_model import LogisticRegression\n",
    "from sklearn.neighbors import KNeighborsClassifier\n",
    "\n",
    "import re\n",
    "nltk.download('vader_lexicon')"
   ]
  },
  {
   "cell_type": "code",
   "execution_count": 4,
   "metadata": {},
   "outputs": [
    {
     "data": {
      "application/vnd.microsoft.datawrangler.viewer.v0+json": {
       "columns": [
        {
         "name": "index",
         "rawType": "int64",
         "type": "integer"
        },
        {
         "name": "user_id",
         "rawType": "int64",
         "type": "integer"
        },
        {
         "name": "recipe_id",
         "rawType": "int64",
         "type": "integer"
        },
        {
         "name": "date",
         "rawType": "object",
         "type": "string"
        },
        {
         "name": "rating",
         "rawType": "int64",
         "type": "integer"
        },
        {
         "name": "review",
         "rawType": "object",
         "type": "string"
        },
        {
         "name": "name",
         "rawType": "object",
         "type": "string"
        },
        {
         "name": "submitted",
         "rawType": "object",
         "type": "string"
        },
        {
         "name": "description",
         "rawType": "object",
         "type": "string"
        },
        {
         "name": "ingredients",
         "rawType": "object",
         "type": "string"
        },
        {
         "name": "Cleaned_review",
         "rawType": "object",
         "type": "string"
        }
       ],
       "conversionMethod": "pd.DataFrame",
       "ref": "37afea8d-6407-43c2-a8b9-7266fcb4ad85",
       "rows": [
        [
         "0",
         "288985",
         "161466",
         "30/09/2011",
         "4",
         "Did not have a problem w/ these going \"stale\" at all when kept for a couple days. They kept well and were tasty enough, just not crazy good. I guess I missed the marshmallow. Flavoring w/ peanut butter  just didn't give that classic taste, and now I know that I gotta have it! I would make these again for kids etc. as they were liked well enough and you can make these from what you have on hand.",
         "peanut butter crispy rice treats",
         "25/03/2006",
         "i found this recipe in the paper the other day and tried it.  it's a different way to make rice crispy treats from the way it is usually made with marshmallows.  it should be eaten as soon as possible because it will start to go stale overnight. do not substitute margarine for real butter.  the margarine has too much moisture.",
         "['butter', 'sugar', 'light corn syrup', 'peanut butter', 'crispy rice cereal']",
         "problem w going stale kept couple days kept well tasty enough crazy good guess missed marshmallow flavoring w peanut butter didnt give classic taste know got ta would make kids etc liked well enough make hand"
        ],
        [
         "1",
         "20623",
         "24582",
         "15/09/2003",
         "4",
         "Very good roast. However, the strong flavors - garlic and horseradish can be a bit strong for some people. My family loved the garlic flavor, but the horseradish was a bit strong for some. A person who loves horseradish may not like the strong garlic. Otherwise, I would recommend this recipe.",
         "garlic horseradish sirloin roast",
         "08/04/2002",
         "did this for dinner today, very delicious with apricot glazed carrots and garlic mashed potatoes, mmm so good! from canadian living magazine.",
         "['top sirloin roast', 'garlic cloves', 'light mayonnaise', 'prepared horseradish', 'dried sage', 'salt', 'pepper', 'onions', 'beef stock', 'worcestershire sauce', 'cornstarch']",
         "good roast however strong flavors garlic horseradish bit strong people family loved garlic flavor horseradish bit strong person loves horseradish may like strong garlic otherwise would recommend recipe"
        ],
        [
         "2",
         "227586",
         "281356",
         "31/08/2008",
         "5",
         "This was AWESOME!  So summery, so quick just over the top good!  Used all fresh tomatoes and basil from my garden...and topped with feta cheese!  This is a GREAT way to use up your tomatoes!  THANKS for sharing!  Made for photo tag!",
         "fresh tomato and basil pasta with toasted pine nuts",
         "24/01/2008",
         "this is the essence of summer - fresh tomatoes and basil with pasta. an old weight watchers recipe.",
         "['penne pasta', 'olive oil', 'onion', 'garlic cloves', 'plum tomatoes', 'fresh thyme', 'fresh basil', 'salt', 'fresh ground pepper', 'pine nuts']",
         "awesome summery quick top good used fresh tomatoes basil gardenand topped feta cheese great way use tomatoes thanks sharing made photo tag"
        ],
        [
         "3",
         "539686",
         "161549",
         "07/04/2008",
         "4",
         "I used thawed, frozen peaches and even though I used a muddling stick in a tall cocktail shaker, this was a messy business. I would blend the peaches next time in a small food processor then muddle just the lemon and mint. It has a nice flavor and is worth working with.\n\nMade for the 1-2-3 Hit Wonders Game.",
         "whiskey peach smash",
         "27/03/2006",
         "from the \"king of cocktails\" dale degroff, this can be made with any relatively light whiskey.  simple syrup is simply equal amounts of water and sugar, heated till the sugar is totally dissolved.  muddling is mashing ingredients in the bottom of the glass, using the back of a spoon or something similar.",
         "['whiskey', 'peach', 'mint leaves', 'lemon', 'water', 'simple syrup', 'mint']",
         "used thawed frozen peaches even though used muddling stick tall cocktail shaker messy business would blend peaches next time small food processor muddle lemon mint nice flavor worth working made hit wonders game"
        ],
        [
         "4",
         "1540883",
         "265601",
         "03/02/2010",
         "0",
         "Sugar does not belong in cornbread, at least not in real Southern cornbread.",
         "good eats creamed corn cornbread  alton brown",
         "13/11/2007",
         "this recipe produces a very light and airy cornbread packed with flavor. we add about 1/3 cup of sugar because we love sweet cornbread. :)",
         "['yellow cornmeal', 'kosher salt', 'sugar', 'baking powder', 'baking soda', 'buttermilk', 'eggs', 'creamed corn', 'canola oil']",
         "sugar belong cornbread least real southern cornbread"
        ]
       ],
       "shape": {
        "columns": 10,
        "rows": 5
       }
      },
      "text/html": [
       "<div>\n",
       "<style scoped>\n",
       "    .dataframe tbody tr th:only-of-type {\n",
       "        vertical-align: middle;\n",
       "    }\n",
       "\n",
       "    .dataframe tbody tr th {\n",
       "        vertical-align: top;\n",
       "    }\n",
       "\n",
       "    .dataframe thead th {\n",
       "        text-align: right;\n",
       "    }\n",
       "</style>\n",
       "<table border=\"1\" class=\"dataframe\">\n",
       "  <thead>\n",
       "    <tr style=\"text-align: right;\">\n",
       "      <th></th>\n",
       "      <th>user_id</th>\n",
       "      <th>recipe_id</th>\n",
       "      <th>date</th>\n",
       "      <th>rating</th>\n",
       "      <th>review</th>\n",
       "      <th>name</th>\n",
       "      <th>submitted</th>\n",
       "      <th>description</th>\n",
       "      <th>ingredients</th>\n",
       "      <th>Cleaned_review</th>\n",
       "    </tr>\n",
       "  </thead>\n",
       "  <tbody>\n",
       "    <tr>\n",
       "      <th>0</th>\n",
       "      <td>288985</td>\n",
       "      <td>161466</td>\n",
       "      <td>30/09/2011</td>\n",
       "      <td>4</td>\n",
       "      <td>Did not have a problem w/ these going \"stale\" ...</td>\n",
       "      <td>peanut butter crispy rice treats</td>\n",
       "      <td>25/03/2006</td>\n",
       "      <td>i found this recipe in the paper the other day...</td>\n",
       "      <td>['butter', 'sugar', 'light corn syrup', 'peanu...</td>\n",
       "      <td>problem w going stale kept couple days kept we...</td>\n",
       "    </tr>\n",
       "    <tr>\n",
       "      <th>1</th>\n",
       "      <td>20623</td>\n",
       "      <td>24582</td>\n",
       "      <td>15/09/2003</td>\n",
       "      <td>4</td>\n",
       "      <td>Very good roast. However, the strong flavors -...</td>\n",
       "      <td>garlic horseradish sirloin roast</td>\n",
       "      <td>08/04/2002</td>\n",
       "      <td>did this for dinner today, very delicious with...</td>\n",
       "      <td>['top sirloin roast', 'garlic cloves', 'light ...</td>\n",
       "      <td>good roast however strong flavors garlic horse...</td>\n",
       "    </tr>\n",
       "    <tr>\n",
       "      <th>2</th>\n",
       "      <td>227586</td>\n",
       "      <td>281356</td>\n",
       "      <td>31/08/2008</td>\n",
       "      <td>5</td>\n",
       "      <td>This was AWESOME!  So summery, so quick just o...</td>\n",
       "      <td>fresh tomato and basil pasta with toasted pine...</td>\n",
       "      <td>24/01/2008</td>\n",
       "      <td>this is the essence of summer - fresh tomatoes...</td>\n",
       "      <td>['penne pasta', 'olive oil', 'onion', 'garlic ...</td>\n",
       "      <td>awesome summery quick top good used fresh toma...</td>\n",
       "    </tr>\n",
       "    <tr>\n",
       "      <th>3</th>\n",
       "      <td>539686</td>\n",
       "      <td>161549</td>\n",
       "      <td>07/04/2008</td>\n",
       "      <td>4</td>\n",
       "      <td>I used thawed, frozen peaches and even though ...</td>\n",
       "      <td>whiskey peach smash</td>\n",
       "      <td>27/03/2006</td>\n",
       "      <td>from the \"king of cocktails\" dale degroff, thi...</td>\n",
       "      <td>['whiskey', 'peach', 'mint leaves', 'lemon', '...</td>\n",
       "      <td>used thawed frozen peaches even though used mu...</td>\n",
       "    </tr>\n",
       "    <tr>\n",
       "      <th>4</th>\n",
       "      <td>1540883</td>\n",
       "      <td>265601</td>\n",
       "      <td>03/02/2010</td>\n",
       "      <td>0</td>\n",
       "      <td>Sugar does not belong in cornbread, at least n...</td>\n",
       "      <td>good eats creamed corn cornbread  alton brown</td>\n",
       "      <td>13/11/2007</td>\n",
       "      <td>this recipe produces a very light and airy cor...</td>\n",
       "      <td>['yellow cornmeal', 'kosher salt', 'sugar', 'b...</td>\n",
       "      <td>sugar belong cornbread least real southern cor...</td>\n",
       "    </tr>\n",
       "  </tbody>\n",
       "</table>\n",
       "</div>"
      ],
      "text/plain": [
       "   user_id  recipe_id        date  rating  \\\n",
       "0   288985     161466  30/09/2011       4   \n",
       "1    20623      24582  15/09/2003       4   \n",
       "2   227586     281356  31/08/2008       5   \n",
       "3   539686     161549  07/04/2008       4   \n",
       "4  1540883     265601  03/02/2010       0   \n",
       "\n",
       "                                              review  \\\n",
       "0  Did not have a problem w/ these going \"stale\" ...   \n",
       "1  Very good roast. However, the strong flavors -...   \n",
       "2  This was AWESOME!  So summery, so quick just o...   \n",
       "3  I used thawed, frozen peaches and even though ...   \n",
       "4  Sugar does not belong in cornbread, at least n...   \n",
       "\n",
       "                                                name   submitted  \\\n",
       "0                   peanut butter crispy rice treats  25/03/2006   \n",
       "1                   garlic horseradish sirloin roast  08/04/2002   \n",
       "2  fresh tomato and basil pasta with toasted pine...  24/01/2008   \n",
       "3                                whiskey peach smash  27/03/2006   \n",
       "4      good eats creamed corn cornbread  alton brown  13/11/2007   \n",
       "\n",
       "                                         description  \\\n",
       "0  i found this recipe in the paper the other day...   \n",
       "1  did this for dinner today, very delicious with...   \n",
       "2  this is the essence of summer - fresh tomatoes...   \n",
       "3  from the \"king of cocktails\" dale degroff, thi...   \n",
       "4  this recipe produces a very light and airy cor...   \n",
       "\n",
       "                                         ingredients  \\\n",
       "0  ['butter', 'sugar', 'light corn syrup', 'peanu...   \n",
       "1  ['top sirloin roast', 'garlic cloves', 'light ...   \n",
       "2  ['penne pasta', 'olive oil', 'onion', 'garlic ...   \n",
       "3  ['whiskey', 'peach', 'mint leaves', 'lemon', '...   \n",
       "4  ['yellow cornmeal', 'kosher salt', 'sugar', 'b...   \n",
       "\n",
       "                                      Cleaned_review  \n",
       "0  problem w going stale kept couple days kept we...  \n",
       "1  good roast however strong flavors garlic horse...  \n",
       "2  awesome summery quick top good used fresh toma...  \n",
       "3  used thawed frozen peaches even though used mu...  \n",
       "4  sugar belong cornbread least real southern cor...  "
      ]
     },
     "execution_count": 4,
     "metadata": {},
     "output_type": "execute_result"
    }
   ],
   "source": [
    "#Import the data\n",
    "data = pd.read_csv(\"cleaned_combined_data.csv\")\n",
    "data.head()"
   ]
  },
  {
   "cell_type": "markdown",
   "metadata": {},
   "source": [
    "# Cleaning the data"
   ]
  },
  {
   "cell_type": "code",
   "execution_count": 5,
   "metadata": {},
   "outputs": [
    {
     "data": {
      "text/plain": [
       "user_id            0\n",
       "recipe_id          0\n",
       "date               0\n",
       "rating             0\n",
       "review             0\n",
       "name               0\n",
       "submitted          0\n",
       "description        0\n",
       "ingredients        0\n",
       "Cleaned_review    43\n",
       "dtype: int64"
      ]
     },
     "execution_count": 5,
     "metadata": {},
     "output_type": "execute_result"
    }
   ],
   "source": [
    "data.isna().sum()"
   ]
  },
  {
   "cell_type": "code",
   "execution_count": 6,
   "metadata": {},
   "outputs": [],
   "source": [
    "# Dropping the missing values\n",
    "data.dropna(inplace=True)"
   ]
  },
  {
   "cell_type": "code",
   "execution_count": 7,
   "metadata": {},
   "outputs": [
    {
     "data": {
      "text/plain": [
       "0"
      ]
     },
     "execution_count": 7,
     "metadata": {},
     "output_type": "execute_result"
    }
   ],
   "source": [
    "# Checking for duplicates\n",
    "data.duplicated().sum()"
   ]
  },
  {
   "cell_type": "code",
   "execution_count": 8,
   "metadata": {},
   "outputs": [],
   "source": [
    "# Intialize the sentiment Intensity Analyzer\n",
    "sia = SentimentIntensityAnalyzer()"
   ]
  },
  {
   "cell_type": "code",
   "execution_count": 9,
   "metadata": {},
   "outputs": [
    {
     "data": {
      "application/vnd.jupyter.widget-view+json": {
       "model_id": "09f9045c5521421bbc5ec841b3595a6c",
       "version_major": 2,
       "version_minor": 0
      },
      "text/plain": [
       "Pandas Apply:   0%|          | 0/410337 [00:00<?, ?it/s]"
      ]
     },
     "metadata": {},
     "output_type": "display_data"
    }
   ],
   "source": [
    "def get_sentiment(text):\n",
    "    score = sia.polarity_scores(text)['compound']\n",
    "    if score >= 0.05:\n",
    "        return 1 # Positive\n",
    "    elif score <= -0.05:\n",
    "        return 0 #Negative\n",
    "    else: \n",
    "        return 2 #Neutral\n",
    "\n",
    "data['Sentiment'] = data['Cleaned_review'].swifter.apply(get_sentiment)"
   ]
  },
  {
   "cell_type": "code",
   "execution_count": 10,
   "metadata": {},
   "outputs": [
    {
     "data": {
      "text/plain": [
       "Sentiment\n",
       "1    386515\n",
       "0     12675\n",
       "2     11147\n",
       "Name: count, dtype: int64"
      ]
     },
     "execution_count": 10,
     "metadata": {},
     "output_type": "execute_result"
    }
   ],
   "source": [
    "data['Sentiment'].value_counts()"
   ]
  },
  {
   "cell_type": "code",
   "execution_count": 11,
   "metadata": {},
   "outputs": [],
   "source": [
    "data.to_csv(\"sentiment_data.csv\", index=False)"
   ]
  }
 ],
 "metadata": {
  "kernelspec": {
   "display_name": "base",
   "language": "python",
   "name": "python3"
  },
  "language_info": {
   "codemirror_mode": {
    "name": "ipython",
    "version": 3
   },
   "file_extension": ".py",
   "mimetype": "text/x-python",
   "name": "python",
   "nbconvert_exporter": "python",
   "pygments_lexer": "ipython3",
   "version": "3.12.9"
  }
 },
 "nbformat": 4,
 "nbformat_minor": 2
}
