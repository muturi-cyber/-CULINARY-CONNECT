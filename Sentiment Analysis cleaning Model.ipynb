{
 "cells": [
  {
   "cell_type": "code",
   "execution_count": 2,
   "metadata": {},
   "outputs": [],
   "source": [
    "# Loading in the libraries\n",
    "import pandas as pd\n",
    "import nltk\n",
    "import swifter\n",
    "from nltk.corpus import stopwords\n",
    "from nltk.tokenize import word_tokenize\n",
    "from nltk.sentiment import SentimentIntensityAnalyzer\n",
    "from sklearn.feature_extraction.text import TfidfVectorizer\n",
    "import re\n",
    "import pickle\n"
   ]
  },
  {
   "cell_type": "code",
   "execution_count": 3,
   "metadata": {},
   "outputs": [],
   "source": [
    "#Loadin in the data\n",
    "Reviews = pd.read_csv('RAW_interactions.csv')\n",
    "recipes = pd.read_csv('RAW_recipes.csv')"
   ]
  },
  {
   "cell_type": "code",
   "execution_count": 4,
   "metadata": {},
   "outputs": [
    {
     "data": {
      "application/vnd.microsoft.datawrangler.viewer.v0+json": {
       "columns": [
        {
         "name": "index",
         "rawType": "int64",
         "type": "integer"
        },
        {
         "name": "user_id",
         "rawType": "int64",
         "type": "integer"
        },
        {
         "name": "recipe_id",
         "rawType": "int64",
         "type": "integer"
        },
        {
         "name": "date",
         "rawType": "object",
         "type": "string"
        },
        {
         "name": "rating",
         "rawType": "int64",
         "type": "integer"
        },
        {
         "name": "review",
         "rawType": "object",
         "type": "string"
        }
       ],
       "conversionMethod": "pd.DataFrame",
       "ref": "8d4381e0-c951-4582-afd3-2438df0bdc28",
       "rows": [
        [
         "0",
         "38094",
         "40893",
         "17/02/2003",
         "4",
         "Great with a salad. Cooked on top of stove for 15 minutes.Added a shake of cayenne and a pinch of salt.  Used low fat sour cream.  Thanks."
        ],
        [
         "1",
         "1293707",
         "40893",
         "21/12/2011",
         "5",
         "So simple, so delicious! Great for chilly fall evening. Should have doubled it ;)<br/><br/>Second time around, forgot the remaining cumin. We usually love cumin, but didn't notice the missing 1/2 teaspoon!"
        ],
        [
         "2",
         "8937",
         "44394",
         "01/12/2002",
         "4",
         "This worked very well and is EASY.  I used not quite a whole package (10oz) of white chips.  Great!"
        ],
        [
         "3",
         "126440",
         "85009",
         "27/02/2010",
         "5",
         "I made the Mexican topping and took it to bunko.  Everyone loved it."
        ],
        [
         "4",
         "57222",
         "85009",
         "01/10/2011",
         "5",
         "Made the cheddar bacon topping, adding a sprinkling of black pepper. Yum!"
        ]
       ],
       "shape": {
        "columns": 5,
        "rows": 5
       }
      },
      "text/html": [
       "<div>\n",
       "<style scoped>\n",
       "    .dataframe tbody tr th:only-of-type {\n",
       "        vertical-align: middle;\n",
       "    }\n",
       "\n",
       "    .dataframe tbody tr th {\n",
       "        vertical-align: top;\n",
       "    }\n",
       "\n",
       "    .dataframe thead th {\n",
       "        text-align: right;\n",
       "    }\n",
       "</style>\n",
       "<table border=\"1\" class=\"dataframe\">\n",
       "  <thead>\n",
       "    <tr style=\"text-align: right;\">\n",
       "      <th></th>\n",
       "      <th>user_id</th>\n",
       "      <th>recipe_id</th>\n",
       "      <th>date</th>\n",
       "      <th>rating</th>\n",
       "      <th>review</th>\n",
       "    </tr>\n",
       "  </thead>\n",
       "  <tbody>\n",
       "    <tr>\n",
       "      <th>0</th>\n",
       "      <td>38094</td>\n",
       "      <td>40893</td>\n",
       "      <td>17/02/2003</td>\n",
       "      <td>4</td>\n",
       "      <td>Great with a salad. Cooked on top of stove for...</td>\n",
       "    </tr>\n",
       "    <tr>\n",
       "      <th>1</th>\n",
       "      <td>1293707</td>\n",
       "      <td>40893</td>\n",
       "      <td>21/12/2011</td>\n",
       "      <td>5</td>\n",
       "      <td>So simple, so delicious! Great for chilly fall...</td>\n",
       "    </tr>\n",
       "    <tr>\n",
       "      <th>2</th>\n",
       "      <td>8937</td>\n",
       "      <td>44394</td>\n",
       "      <td>01/12/2002</td>\n",
       "      <td>4</td>\n",
       "      <td>This worked very well and is EASY.  I used not...</td>\n",
       "    </tr>\n",
       "    <tr>\n",
       "      <th>3</th>\n",
       "      <td>126440</td>\n",
       "      <td>85009</td>\n",
       "      <td>27/02/2010</td>\n",
       "      <td>5</td>\n",
       "      <td>I made the Mexican topping and took it to bunk...</td>\n",
       "    </tr>\n",
       "    <tr>\n",
       "      <th>4</th>\n",
       "      <td>57222</td>\n",
       "      <td>85009</td>\n",
       "      <td>01/10/2011</td>\n",
       "      <td>5</td>\n",
       "      <td>Made the cheddar bacon topping, adding a sprin...</td>\n",
       "    </tr>\n",
       "  </tbody>\n",
       "</table>\n",
       "</div>"
      ],
      "text/plain": [
       "   user_id  recipe_id        date  rating  \\\n",
       "0    38094      40893  17/02/2003       4   \n",
       "1  1293707      40893  21/12/2011       5   \n",
       "2     8937      44394  01/12/2002       4   \n",
       "3   126440      85009  27/02/2010       5   \n",
       "4    57222      85009  01/10/2011       5   \n",
       "\n",
       "                                              review  \n",
       "0  Great with a salad. Cooked on top of stove for...  \n",
       "1  So simple, so delicious! Great for chilly fall...  \n",
       "2  This worked very well and is EASY.  I used not...  \n",
       "3  I made the Mexican topping and took it to bunk...  \n",
       "4  Made the cheddar bacon topping, adding a sprin...  "
      ]
     },
     "execution_count": 4,
     "metadata": {},
     "output_type": "execute_result"
    }
   ],
   "source": [
    "#Getting an overview of the Reviews data\n",
    "Reviews.head()"
   ]
  },
  {
   "cell_type": "code",
   "execution_count": 5,
   "metadata": {},
   "outputs": [
    {
     "data": {
      "application/vnd.microsoft.datawrangler.viewer.v0+json": {
       "columns": [
        {
         "name": "index",
         "rawType": "int64",
         "type": "integer"
        },
        {
         "name": "name",
         "rawType": "object",
         "type": "string"
        },
        {
         "name": "id",
         "rawType": "int64",
         "type": "integer"
        },
        {
         "name": "minutes",
         "rawType": "int64",
         "type": "integer"
        },
        {
         "name": "contributor_id",
         "rawType": "int64",
         "type": "integer"
        },
        {
         "name": "submitted",
         "rawType": "object",
         "type": "string"
        },
        {
         "name": "tags",
         "rawType": "object",
         "type": "string"
        },
        {
         "name": "nutrition",
         "rawType": "object",
         "type": "string"
        },
        {
         "name": "n_steps",
         "rawType": "int64",
         "type": "integer"
        },
        {
         "name": "steps",
         "rawType": "object",
         "type": "string"
        },
        {
         "name": "description",
         "rawType": "object",
         "type": "string"
        },
        {
         "name": "ingredients",
         "rawType": "object",
         "type": "string"
        },
        {
         "name": "n_ingredients",
         "rawType": "int64",
         "type": "integer"
        }
       ],
       "conversionMethod": "pd.DataFrame",
       "ref": "704d0a99-ad5a-4b17-947e-58be43cc9b1d",
       "rows": [
        [
         "0",
         "arriba   baked winter squash mexican style",
         "137739",
         "55",
         "47892",
         "16/09/2005",
         "['60-minutes-or-less', 'time-to-make', 'course', 'main-ingredient', 'cuisine', 'preparation', 'occasion', 'north-american', 'side-dishes', 'vegetables', 'mexican', 'easy', 'fall', 'holiday-event', 'vegetarian', 'winter', 'dietary', 'christmas', 'seasonal', 'squash']",
         "[51.5, 0.0, 13.0, 0.0, 2.0, 0.0, 4.0]",
         "11",
         "['make a choice and proceed with recipe', 'depending on size of squash , cut into half or fourths', 'remove seeds', 'for spicy squash , drizzle olive oil or melted butter over each cut squash piece', 'season with mexican seasoning mix ii', 'for sweet squash , drizzle melted honey , butter , grated piloncillo over each cut squash piece', 'season with sweet mexican spice mix', 'bake at 350 degrees , again depending on size , for 40 minutes up to an hour , until a fork can easily pierce the skin', 'be careful not to burn the squash especially if you opt to use sugar or butter', 'if you feel more comfortable , cover the squash with aluminum foil the first half hour , give or take , of baking', 'if desired , season with salt']",
         "autumn is my favorite time of year to cook! this recipe \r\ncan be prepared either spicy or sweet, your choice!\r\ntwo of my posted mexican-inspired seasoning mix recipes are offered as suggestions.",
         "['winter squash', 'mexican seasoning', 'mixed spice', 'honey', 'butter', 'olive oil', 'salt']",
         "7"
        ],
        [
         "1",
         "a bit different  breakfast pizza",
         "31490",
         "30",
         "26278",
         "17/06/2002",
         "['30-minutes-or-less', 'time-to-make', 'course', 'main-ingredient', 'cuisine', 'preparation', 'occasion', 'north-american', 'breakfast', 'main-dish', 'pork', 'american', 'oven', 'easy', 'kid-friendly', 'pizza', 'dietary', 'northeastern-united-states', 'meat', 'equipment']",
         "[173.4, 18.0, 0.0, 17.0, 22.0, 35.0, 1.0]",
         "9",
         "['preheat oven to 425 degrees f', 'press dough into the bottom and sides of a 12 inch pizza pan', 'bake for 5 minutes until set but not browned', 'cut sausage into small pieces', 'whisk eggs and milk in a bowl until frothy', 'spoon sausage over baked crust and sprinkle with cheese', 'pour egg mixture slowly over sausage and cheese', 's& p to taste', 'bake 15-20 minutes or until eggs are set and crust is brown']",
         "this recipe calls for the crust to be prebaked a bit before adding ingredients. feel free to change sausage to ham or bacon. this warms well in the microwave for those late risers.",
         "['prepared pizza crust', 'sausage patty', 'eggs', 'milk', 'salt and pepper', 'cheese']",
         "6"
        ],
        [
         "2",
         "all in the kitchen  chili",
         "112140",
         "130",
         "196586",
         "25/02/2005",
         "['time-to-make', 'course', 'preparation', 'main-dish', 'chili', 'crock-pot-slow-cooker', 'dietary', 'equipment', '4-hours-or-less']",
         "[269.8, 22.0, 32.0, 48.0, 39.0, 27.0, 5.0]",
         "6",
         "['brown ground beef in large pot', 'add chopped onions to ground beef when almost brown and sautee until wilted', 'add all other ingredients', 'add kidney beans if you like beans in your chili', 'cook in slow cooker on high for 2-3 hours or 6-8 hours on low', 'serve with cold clean lettuce and shredded cheese']",
         "this modified version of 'mom's' chili was a hit at our 2004 christmas party. we made an extra large pot to have some left to freeze but it never made it to the freezer. it was a favorite by all. perfect for any cold and rainy day. you won't find this one in a cookbook. it is truly an original.",
         "['ground beef', 'yellow onions', 'diced tomatoes', 'tomato paste', 'tomato soup', 'rotel tomatoes', 'kidney beans', 'water', 'chili powder', 'ground cumin', 'salt', 'lettuce', 'cheddar cheese']",
         "13"
        ],
        [
         "3",
         "alouette  potatoes",
         "59389",
         "45",
         "68585",
         "14/04/2003",
         "['60-minutes-or-less', 'time-to-make', 'course', 'main-ingredient', 'preparation', 'occasion', 'side-dishes', 'eggs-dairy', 'potatoes', 'vegetables', 'oven', 'easy', 'dinner-party', 'holiday-event', 'easter', 'cheese', 'stove-top', 'dietary', 'christmas', 'new-years', 'thanksgiving', 'independence-day', 'st-patricks-day', 'valentines-day', 'inexpensive', 'brunch', 'superbowl', 'equipment', 'presentation', 'served-hot']",
         "[368.1, 17.0, 10.0, 2.0, 14.0, 8.0, 20.0]",
         "11",
         "['place potatoes in a large pot of lightly salted water and bring to a gentle boil', 'cook until potatoes are just tender', 'drain', 'place potatoes in a large bowl and add all ingredients except the\"alouette\"', 'mix well and transfer to a buttered 8x8 inch glass baking dish with 2 inch sides', 'press the potatoes with a spatula to make top as flat as possible', 'set aside for 2 hours at room temperature', 'preheat oven to 350^f', 'spread\"alouette\" evenly over potatoes and bake 15 minutes', 'divide between plates', 'garnish with finely diced red and yellow bell peppers']",
         "this is a super easy, great tasting, make ahead side dish that looks like you spent a lot more time preparing than you actually do. plus, most everything is done in advance. the times do not reflect the standing time of the potatoes.",
         "['spreadable cheese with garlic and herbs', 'new potatoes', 'shallots', 'parsley', 'tarragon', 'olive oil', 'red wine vinegar', 'salt', 'pepper', 'red bell pepper', 'yellow bell pepper']",
         "11"
        ],
        [
         "4",
         "amish  tomato ketchup  for canning",
         "44061",
         "190",
         "41706",
         "25/10/2002",
         "['weeknight', 'time-to-make', 'course', 'main-ingredient', 'cuisine', 'preparation', 'occasion', 'north-american', 'canning', 'condiments-etc', 'vegetables', 'american', 'heirloom-historical', 'holiday-event', 'vegetarian', 'dietary', 'amish-mennonite', 'northeastern-united-states', 'number-of-servings', 'technique', '4-hours-or-less']",
         "[352.9, 1.0, 337.0, 23.0, 3.0, 0.0, 28.0]",
         "5",
         "['mix all ingredients& boil for 2 1 / 2 hours , or until thick', 'pour into jars', \"i use'old' glass ketchup bottles\", \"it is not necessary for these to'seal\", \"'my amish mother-in-law has been making this her entire life , and has never used a'sealed' jar for this recipe , and it's always been great !\"]",
         "my dh's amish mother raised him on this recipe. he much prefers it over store-bought ketchup. it was a taste i had to acquire, but now my ds's also prefer this type of ketchup. enjoy!",
         "['tomato juice', 'apple cider vinegar', 'sugar', 'salt', 'pepper', 'clove oil', 'cinnamon oil', 'dry mustard']",
         "8"
        ]
       ],
       "shape": {
        "columns": 12,
        "rows": 5
       }
      },
      "text/html": [
       "<div>\n",
       "<style scoped>\n",
       "    .dataframe tbody tr th:only-of-type {\n",
       "        vertical-align: middle;\n",
       "    }\n",
       "\n",
       "    .dataframe tbody tr th {\n",
       "        vertical-align: top;\n",
       "    }\n",
       "\n",
       "    .dataframe thead th {\n",
       "        text-align: right;\n",
       "    }\n",
       "</style>\n",
       "<table border=\"1\" class=\"dataframe\">\n",
       "  <thead>\n",
       "    <tr style=\"text-align: right;\">\n",
       "      <th></th>\n",
       "      <th>name</th>\n",
       "      <th>id</th>\n",
       "      <th>minutes</th>\n",
       "      <th>contributor_id</th>\n",
       "      <th>submitted</th>\n",
       "      <th>tags</th>\n",
       "      <th>nutrition</th>\n",
       "      <th>n_steps</th>\n",
       "      <th>steps</th>\n",
       "      <th>description</th>\n",
       "      <th>ingredients</th>\n",
       "      <th>n_ingredients</th>\n",
       "    </tr>\n",
       "  </thead>\n",
       "  <tbody>\n",
       "    <tr>\n",
       "      <th>0</th>\n",
       "      <td>arriba   baked winter squash mexican style</td>\n",
       "      <td>137739</td>\n",
       "      <td>55</td>\n",
       "      <td>47892</td>\n",
       "      <td>16/09/2005</td>\n",
       "      <td>['60-minutes-or-less', 'time-to-make', 'course...</td>\n",
       "      <td>[51.5, 0.0, 13.0, 0.0, 2.0, 0.0, 4.0]</td>\n",
       "      <td>11</td>\n",
       "      <td>['make a choice and proceed with recipe', 'dep...</td>\n",
       "      <td>autumn is my favorite time of year to cook! th...</td>\n",
       "      <td>['winter squash', 'mexican seasoning', 'mixed ...</td>\n",
       "      <td>7</td>\n",
       "    </tr>\n",
       "    <tr>\n",
       "      <th>1</th>\n",
       "      <td>a bit different  breakfast pizza</td>\n",
       "      <td>31490</td>\n",
       "      <td>30</td>\n",
       "      <td>26278</td>\n",
       "      <td>17/06/2002</td>\n",
       "      <td>['30-minutes-or-less', 'time-to-make', 'course...</td>\n",
       "      <td>[173.4, 18.0, 0.0, 17.0, 22.0, 35.0, 1.0]</td>\n",
       "      <td>9</td>\n",
       "      <td>['preheat oven to 425 degrees f', 'press dough...</td>\n",
       "      <td>this recipe calls for the crust to be prebaked...</td>\n",
       "      <td>['prepared pizza crust', 'sausage patty', 'egg...</td>\n",
       "      <td>6</td>\n",
       "    </tr>\n",
       "    <tr>\n",
       "      <th>2</th>\n",
       "      <td>all in the kitchen  chili</td>\n",
       "      <td>112140</td>\n",
       "      <td>130</td>\n",
       "      <td>196586</td>\n",
       "      <td>25/02/2005</td>\n",
       "      <td>['time-to-make', 'course', 'preparation', 'mai...</td>\n",
       "      <td>[269.8, 22.0, 32.0, 48.0, 39.0, 27.0, 5.0]</td>\n",
       "      <td>6</td>\n",
       "      <td>['brown ground beef in large pot', 'add choppe...</td>\n",
       "      <td>this modified version of 'mom's' chili was a h...</td>\n",
       "      <td>['ground beef', 'yellow onions', 'diced tomato...</td>\n",
       "      <td>13</td>\n",
       "    </tr>\n",
       "    <tr>\n",
       "      <th>3</th>\n",
       "      <td>alouette  potatoes</td>\n",
       "      <td>59389</td>\n",
       "      <td>45</td>\n",
       "      <td>68585</td>\n",
       "      <td>14/04/2003</td>\n",
       "      <td>['60-minutes-or-less', 'time-to-make', 'course...</td>\n",
       "      <td>[368.1, 17.0, 10.0, 2.0, 14.0, 8.0, 20.0]</td>\n",
       "      <td>11</td>\n",
       "      <td>['place potatoes in a large pot of lightly sal...</td>\n",
       "      <td>this is a super easy, great tasting, make ahea...</td>\n",
       "      <td>['spreadable cheese with garlic and herbs', 'n...</td>\n",
       "      <td>11</td>\n",
       "    </tr>\n",
       "    <tr>\n",
       "      <th>4</th>\n",
       "      <td>amish  tomato ketchup  for canning</td>\n",
       "      <td>44061</td>\n",
       "      <td>190</td>\n",
       "      <td>41706</td>\n",
       "      <td>25/10/2002</td>\n",
       "      <td>['weeknight', 'time-to-make', 'course', 'main-...</td>\n",
       "      <td>[352.9, 1.0, 337.0, 23.0, 3.0, 0.0, 28.0]</td>\n",
       "      <td>5</td>\n",
       "      <td>['mix all ingredients&amp; boil for 2 1 / 2 hours ...</td>\n",
       "      <td>my dh's amish mother raised him on this recipe...</td>\n",
       "      <td>['tomato juice', 'apple cider vinegar', 'sugar...</td>\n",
       "      <td>8</td>\n",
       "    </tr>\n",
       "  </tbody>\n",
       "</table>\n",
       "</div>"
      ],
      "text/plain": [
       "                                         name      id  minutes  \\\n",
       "0  arriba   baked winter squash mexican style  137739       55   \n",
       "1            a bit different  breakfast pizza   31490       30   \n",
       "2                   all in the kitchen  chili  112140      130   \n",
       "3                          alouette  potatoes   59389       45   \n",
       "4          amish  tomato ketchup  for canning   44061      190   \n",
       "\n",
       "   contributor_id   submitted  \\\n",
       "0           47892  16/09/2005   \n",
       "1           26278  17/06/2002   \n",
       "2          196586  25/02/2005   \n",
       "3           68585  14/04/2003   \n",
       "4           41706  25/10/2002   \n",
       "\n",
       "                                                tags  \\\n",
       "0  ['60-minutes-or-less', 'time-to-make', 'course...   \n",
       "1  ['30-minutes-or-less', 'time-to-make', 'course...   \n",
       "2  ['time-to-make', 'course', 'preparation', 'mai...   \n",
       "3  ['60-minutes-or-less', 'time-to-make', 'course...   \n",
       "4  ['weeknight', 'time-to-make', 'course', 'main-...   \n",
       "\n",
       "                                    nutrition  n_steps  \\\n",
       "0       [51.5, 0.0, 13.0, 0.0, 2.0, 0.0, 4.0]       11   \n",
       "1   [173.4, 18.0, 0.0, 17.0, 22.0, 35.0, 1.0]        9   \n",
       "2  [269.8, 22.0, 32.0, 48.0, 39.0, 27.0, 5.0]        6   \n",
       "3   [368.1, 17.0, 10.0, 2.0, 14.0, 8.0, 20.0]       11   \n",
       "4   [352.9, 1.0, 337.0, 23.0, 3.0, 0.0, 28.0]        5   \n",
       "\n",
       "                                               steps  \\\n",
       "0  ['make a choice and proceed with recipe', 'dep...   \n",
       "1  ['preheat oven to 425 degrees f', 'press dough...   \n",
       "2  ['brown ground beef in large pot', 'add choppe...   \n",
       "3  ['place potatoes in a large pot of lightly sal...   \n",
       "4  ['mix all ingredients& boil for 2 1 / 2 hours ...   \n",
       "\n",
       "                                         description  \\\n",
       "0  autumn is my favorite time of year to cook! th...   \n",
       "1  this recipe calls for the crust to be prebaked...   \n",
       "2  this modified version of 'mom's' chili was a h...   \n",
       "3  this is a super easy, great tasting, make ahea...   \n",
       "4  my dh's amish mother raised him on this recipe...   \n",
       "\n",
       "                                         ingredients  n_ingredients  \n",
       "0  ['winter squash', 'mexican seasoning', 'mixed ...              7  \n",
       "1  ['prepared pizza crust', 'sausage patty', 'egg...              6  \n",
       "2  ['ground beef', 'yellow onions', 'diced tomato...             13  \n",
       "3  ['spreadable cheese with garlic and herbs', 'n...             11  \n",
       "4  ['tomato juice', 'apple cider vinegar', 'sugar...              8  "
      ]
     },
     "execution_count": 5,
     "metadata": {},
     "output_type": "execute_result"
    }
   ],
   "source": [
    "# Getting an overview of the recipe data\n",
    "recipes.head()"
   ]
  },
  {
   "cell_type": "code",
   "execution_count": 6,
   "metadata": {},
   "outputs": [
    {
     "data": {
      "text/plain": [
       "Index(['user_id', 'recipe_id', 'date', 'rating', 'review'], dtype='object')"
      ]
     },
     "execution_count": 6,
     "metadata": {},
     "output_type": "execute_result"
    }
   ],
   "source": [
    "Reviews.columns"
   ]
  },
  {
   "cell_type": "code",
   "execution_count": 7,
   "metadata": {},
   "outputs": [
    {
     "data": {
      "text/plain": [
       "Index(['name', 'id', 'minutes', 'contributor_id', 'submitted', 'tags',\n",
       "       'nutrition', 'n_steps', 'steps', 'description', 'ingredients',\n",
       "       'n_ingredients'],\n",
       "      dtype='object')"
      ]
     },
     "execution_count": 7,
     "metadata": {},
     "output_type": "execute_result"
    }
   ],
   "source": [
    "recipes.columns"
   ]
  },
  {
   "cell_type": "code",
   "execution_count": 8,
   "metadata": {},
   "outputs": [],
   "source": [
    "# Merging the two dataset on recipe id\n",
    "combined_data = Reviews.merge(recipes, left_on='recipe_id', right_on='id', how='left')"
   ]
  },
  {
   "cell_type": "code",
   "execution_count": 9,
   "metadata": {},
   "outputs": [
    {
     "data": {
      "application/vnd.microsoft.datawrangler.viewer.v0+json": {
       "columns": [
        {
         "name": "index",
         "rawType": "int64",
         "type": "integer"
        },
        {
         "name": "user_id",
         "rawType": "int64",
         "type": "integer"
        },
        {
         "name": "recipe_id",
         "rawType": "int64",
         "type": "integer"
        },
        {
         "name": "date",
         "rawType": "object",
         "type": "string"
        },
        {
         "name": "rating",
         "rawType": "int64",
         "type": "integer"
        },
        {
         "name": "review",
         "rawType": "object",
         "type": "string"
        },
        {
         "name": "name",
         "rawType": "object",
         "type": "string"
        },
        {
         "name": "id",
         "rawType": "int64",
         "type": "integer"
        },
        {
         "name": "minutes",
         "rawType": "int64",
         "type": "integer"
        },
        {
         "name": "contributor_id",
         "rawType": "int64",
         "type": "integer"
        },
        {
         "name": "submitted",
         "rawType": "object",
         "type": "string"
        },
        {
         "name": "tags",
         "rawType": "object",
         "type": "string"
        },
        {
         "name": "nutrition",
         "rawType": "object",
         "type": "string"
        },
        {
         "name": "n_steps",
         "rawType": "int64",
         "type": "integer"
        },
        {
         "name": "steps",
         "rawType": "object",
         "type": "string"
        },
        {
         "name": "description",
         "rawType": "object",
         "type": "unknown"
        },
        {
         "name": "ingredients",
         "rawType": "object",
         "type": "string"
        },
        {
         "name": "n_ingredients",
         "rawType": "int64",
         "type": "integer"
        }
       ],
       "conversionMethod": "pd.DataFrame",
       "ref": "7aadf39d-332e-4b62-be25-0b5e1147a039",
       "rows": [
        [
         "0",
         "38094",
         "40893",
         "17/02/2003",
         "4",
         "Great with a salad. Cooked on top of stove for 15 minutes.Added a shake of cayenne and a pinch of salt.  Used low fat sour cream.  Thanks.",
         "white bean   green chile pepper soup",
         "40893",
         "495",
         "1533",
         "21/09/2002",
         "['weeknight', 'time-to-make', 'course', 'main-ingredient', 'preparation', 'occasion', 'soups-stews', 'beans', 'vegetables', 'easy', 'crock-pot-slow-cooker', 'dietary', 'equipment']",
         "[204.8, 5.0, 9.0, 26.0, 24.0, 2.0, 10.0]",
         "4",
         "['combine beans , onion , chilies , 1 / 2 teaspoon cumin , garlic powder and broth in crock pot', 'cook on low 8 hours or on high 4 hours', 'stir in cilantro , olive oil and remaining 1 / 2 teaspoon cumin', 'garnish with sour cream , if desired']",
         "easy soup for the crockpot.",
         "['great northern beans', 'yellow onion', 'diced green chilies', 'ground cumin', 'garlic powder', 'fat-free chicken broth', 'fresh cilantro leaves', 'extra virgin olive oil', 'sour cream']",
         "9"
        ],
        [
         "1",
         "1293707",
         "40893",
         "21/12/2011",
         "5",
         "So simple, so delicious! Great for chilly fall evening. Should have doubled it ;)<br/><br/>Second time around, forgot the remaining cumin. We usually love cumin, but didn't notice the missing 1/2 teaspoon!",
         "white bean   green chile pepper soup",
         "40893",
         "495",
         "1533",
         "21/09/2002",
         "['weeknight', 'time-to-make', 'course', 'main-ingredient', 'preparation', 'occasion', 'soups-stews', 'beans', 'vegetables', 'easy', 'crock-pot-slow-cooker', 'dietary', 'equipment']",
         "[204.8, 5.0, 9.0, 26.0, 24.0, 2.0, 10.0]",
         "4",
         "['combine beans , onion , chilies , 1 / 2 teaspoon cumin , garlic powder and broth in crock pot', 'cook on low 8 hours or on high 4 hours', 'stir in cilantro , olive oil and remaining 1 / 2 teaspoon cumin', 'garnish with sour cream , if desired']",
         "easy soup for the crockpot.",
         "['great northern beans', 'yellow onion', 'diced green chilies', 'ground cumin', 'garlic powder', 'fat-free chicken broth', 'fresh cilantro leaves', 'extra virgin olive oil', 'sour cream']",
         "9"
        ],
        [
         "2",
         "8937",
         "44394",
         "01/12/2002",
         "4",
         "This worked very well and is EASY.  I used not quite a whole package (10oz) of white chips.  Great!",
         "devilicious cookie cake delights",
         "44394",
         "20",
         "56824",
         "27/10/2002",
         "['30-minutes-or-less', 'time-to-make', 'course', 'main-ingredient', 'preparation', 'occasion', 'for-large-groups', '5-ingredients-or-less', 'drop-cookies', 'desserts', 'lunch', 'oven', 'easy', 'potluck', 'fall', 'finger-food', 'heirloom-historical', 'holiday-event', 'kid-friendly', 'picnic', 'spring', 'summer', 'winter', 'cakes', 'cookies-and-brownies', 'easter', 'chocolate', 'dietary', 'gifts', 'christmas', 'hanukkah', 'new-years', 'seasonal', 'comfort-food', 'independence-day', 'ramadan', 'rosh-hashana', 'valentines-day', 'taste-mood', 'to-go', 'equipment', 'number-of-servings', 'presentation']",
         "[132.3, 11.0, 39.0, 5.0, 4.0, 11.0, 5.0]",
         "5",
         "['blend together cake mix , oil and eggs', 'add chips of choice', 'drop by rounded tablespoon onto ungreased cookie sheet', 'bake at 350 for 9-12 minutes or until set', 'let cool 5 minutes before removing from cookie sheet']",
         null,
         "[\"devil's food cake mix\", 'vegetable oil', 'eggs', \"reese's pieces\"]",
         "4"
        ],
        [
         "3",
         "126440",
         "85009",
         "27/02/2010",
         "5",
         "I made the Mexican topping and took it to bunko.  Everyone loved it.",
         "baked potato toppings",
         "85009",
         "10",
         "64342",
         "25/02/2004",
         "['15-minutes-or-less', 'time-to-make', 'course', 'main-ingredient', 'preparation', 'condiments-etc', 'vegetables', 'easy', 'inexpensive', 'number-of-servings', '3-steps-or-less']",
         "[2786.2, 342.0, 134.0, 290.0, 161.0, 301.0, 42.0]",
         "3",
         "['pick whichever topping you want to use and combine all ingredients', 'top baked potato with topping', 'could even throw under broiler for a few minutes if desired']",
         "these toppings sure makes a nice change from plain old sour cream and bacon bits.you can use regular, light, fat free, or calorie reduced mayonnaise.",
         "['mayonnaise', 'salsa', 'cheddar cheese', 'refried beans', 'ham', 'green pepper', 'tomatoes', 'cooked bacon', 'pepperoni', 'mozzarella cheese', 'parmesan cheese', 'pizza sauce', 'frozen chopped broccoli']",
         "13"
        ],
        [
         "4",
         "57222",
         "85009",
         "01/10/2011",
         "5",
         "Made the cheddar bacon topping, adding a sprinkling of black pepper. Yum!",
         "baked potato toppings",
         "85009",
         "10",
         "64342",
         "25/02/2004",
         "['15-minutes-or-less', 'time-to-make', 'course', 'main-ingredient', 'preparation', 'condiments-etc', 'vegetables', 'easy', 'inexpensive', 'number-of-servings', '3-steps-or-less']",
         "[2786.2, 342.0, 134.0, 290.0, 161.0, 301.0, 42.0]",
         "3",
         "['pick whichever topping you want to use and combine all ingredients', 'top baked potato with topping', 'could even throw under broiler for a few minutes if desired']",
         "these toppings sure makes a nice change from plain old sour cream and bacon bits.you can use regular, light, fat free, or calorie reduced mayonnaise.",
         "['mayonnaise', 'salsa', 'cheddar cheese', 'refried beans', 'ham', 'green pepper', 'tomatoes', 'cooked bacon', 'pepperoni', 'mozzarella cheese', 'parmesan cheese', 'pizza sauce', 'frozen chopped broccoli']",
         "13"
        ]
       ],
       "shape": {
        "columns": 17,
        "rows": 5
       }
      },
      "text/html": [
       "<div>\n",
       "<style scoped>\n",
       "    .dataframe tbody tr th:only-of-type {\n",
       "        vertical-align: middle;\n",
       "    }\n",
       "\n",
       "    .dataframe tbody tr th {\n",
       "        vertical-align: top;\n",
       "    }\n",
       "\n",
       "    .dataframe thead th {\n",
       "        text-align: right;\n",
       "    }\n",
       "</style>\n",
       "<table border=\"1\" class=\"dataframe\">\n",
       "  <thead>\n",
       "    <tr style=\"text-align: right;\">\n",
       "      <th></th>\n",
       "      <th>user_id</th>\n",
       "      <th>recipe_id</th>\n",
       "      <th>date</th>\n",
       "      <th>rating</th>\n",
       "      <th>review</th>\n",
       "      <th>name</th>\n",
       "      <th>id</th>\n",
       "      <th>minutes</th>\n",
       "      <th>contributor_id</th>\n",
       "      <th>submitted</th>\n",
       "      <th>tags</th>\n",
       "      <th>nutrition</th>\n",
       "      <th>n_steps</th>\n",
       "      <th>steps</th>\n",
       "      <th>description</th>\n",
       "      <th>ingredients</th>\n",
       "      <th>n_ingredients</th>\n",
       "    </tr>\n",
       "  </thead>\n",
       "  <tbody>\n",
       "    <tr>\n",
       "      <th>0</th>\n",
       "      <td>38094</td>\n",
       "      <td>40893</td>\n",
       "      <td>17/02/2003</td>\n",
       "      <td>4</td>\n",
       "      <td>Great with a salad. Cooked on top of stove for...</td>\n",
       "      <td>white bean   green chile pepper soup</td>\n",
       "      <td>40893</td>\n",
       "      <td>495</td>\n",
       "      <td>1533</td>\n",
       "      <td>21/09/2002</td>\n",
       "      <td>['weeknight', 'time-to-make', 'course', 'main-...</td>\n",
       "      <td>[204.8, 5.0, 9.0, 26.0, 24.0, 2.0, 10.0]</td>\n",
       "      <td>4</td>\n",
       "      <td>['combine beans , onion , chilies , 1 / 2 teas...</td>\n",
       "      <td>easy soup for the crockpot.</td>\n",
       "      <td>['great northern beans', 'yellow onion', 'dice...</td>\n",
       "      <td>9</td>\n",
       "    </tr>\n",
       "    <tr>\n",
       "      <th>1</th>\n",
       "      <td>1293707</td>\n",
       "      <td>40893</td>\n",
       "      <td>21/12/2011</td>\n",
       "      <td>5</td>\n",
       "      <td>So simple, so delicious! Great for chilly fall...</td>\n",
       "      <td>white bean   green chile pepper soup</td>\n",
       "      <td>40893</td>\n",
       "      <td>495</td>\n",
       "      <td>1533</td>\n",
       "      <td>21/09/2002</td>\n",
       "      <td>['weeknight', 'time-to-make', 'course', 'main-...</td>\n",
       "      <td>[204.8, 5.0, 9.0, 26.0, 24.0, 2.0, 10.0]</td>\n",
       "      <td>4</td>\n",
       "      <td>['combine beans , onion , chilies , 1 / 2 teas...</td>\n",
       "      <td>easy soup for the crockpot.</td>\n",
       "      <td>['great northern beans', 'yellow onion', 'dice...</td>\n",
       "      <td>9</td>\n",
       "    </tr>\n",
       "    <tr>\n",
       "      <th>2</th>\n",
       "      <td>8937</td>\n",
       "      <td>44394</td>\n",
       "      <td>01/12/2002</td>\n",
       "      <td>4</td>\n",
       "      <td>This worked very well and is EASY.  I used not...</td>\n",
       "      <td>devilicious cookie cake delights</td>\n",
       "      <td>44394</td>\n",
       "      <td>20</td>\n",
       "      <td>56824</td>\n",
       "      <td>27/10/2002</td>\n",
       "      <td>['30-minutes-or-less', 'time-to-make', 'course...</td>\n",
       "      <td>[132.3, 11.0, 39.0, 5.0, 4.0, 11.0, 5.0]</td>\n",
       "      <td>5</td>\n",
       "      <td>['blend together cake mix , oil and eggs', 'ad...</td>\n",
       "      <td>NaN</td>\n",
       "      <td>[\"devil's food cake mix\", 'vegetable oil', 'eg...</td>\n",
       "      <td>4</td>\n",
       "    </tr>\n",
       "    <tr>\n",
       "      <th>3</th>\n",
       "      <td>126440</td>\n",
       "      <td>85009</td>\n",
       "      <td>27/02/2010</td>\n",
       "      <td>5</td>\n",
       "      <td>I made the Mexican topping and took it to bunk...</td>\n",
       "      <td>baked potato toppings</td>\n",
       "      <td>85009</td>\n",
       "      <td>10</td>\n",
       "      <td>64342</td>\n",
       "      <td>25/02/2004</td>\n",
       "      <td>['15-minutes-or-less', 'time-to-make', 'course...</td>\n",
       "      <td>[2786.2, 342.0, 134.0, 290.0, 161.0, 301.0, 42.0]</td>\n",
       "      <td>3</td>\n",
       "      <td>['pick whichever topping you want to use and c...</td>\n",
       "      <td>these toppings sure makes a nice change from p...</td>\n",
       "      <td>['mayonnaise', 'salsa', 'cheddar cheese', 'ref...</td>\n",
       "      <td>13</td>\n",
       "    </tr>\n",
       "    <tr>\n",
       "      <th>4</th>\n",
       "      <td>57222</td>\n",
       "      <td>85009</td>\n",
       "      <td>01/10/2011</td>\n",
       "      <td>5</td>\n",
       "      <td>Made the cheddar bacon topping, adding a sprin...</td>\n",
       "      <td>baked potato toppings</td>\n",
       "      <td>85009</td>\n",
       "      <td>10</td>\n",
       "      <td>64342</td>\n",
       "      <td>25/02/2004</td>\n",
       "      <td>['15-minutes-or-less', 'time-to-make', 'course...</td>\n",
       "      <td>[2786.2, 342.0, 134.0, 290.0, 161.0, 301.0, 42.0]</td>\n",
       "      <td>3</td>\n",
       "      <td>['pick whichever topping you want to use and c...</td>\n",
       "      <td>these toppings sure makes a nice change from p...</td>\n",
       "      <td>['mayonnaise', 'salsa', 'cheddar cheese', 'ref...</td>\n",
       "      <td>13</td>\n",
       "    </tr>\n",
       "  </tbody>\n",
       "</table>\n",
       "</div>"
      ],
      "text/plain": [
       "   user_id  recipe_id        date  rating  \\\n",
       "0    38094      40893  17/02/2003       4   \n",
       "1  1293707      40893  21/12/2011       5   \n",
       "2     8937      44394  01/12/2002       4   \n",
       "3   126440      85009  27/02/2010       5   \n",
       "4    57222      85009  01/10/2011       5   \n",
       "\n",
       "                                              review  \\\n",
       "0  Great with a salad. Cooked on top of stove for...   \n",
       "1  So simple, so delicious! Great for chilly fall...   \n",
       "2  This worked very well and is EASY.  I used not...   \n",
       "3  I made the Mexican topping and took it to bunk...   \n",
       "4  Made the cheddar bacon topping, adding a sprin...   \n",
       "\n",
       "                                   name     id  minutes  contributor_id  \\\n",
       "0  white bean   green chile pepper soup  40893      495            1533   \n",
       "1  white bean   green chile pepper soup  40893      495            1533   \n",
       "2      devilicious cookie cake delights  44394       20           56824   \n",
       "3                 baked potato toppings  85009       10           64342   \n",
       "4                 baked potato toppings  85009       10           64342   \n",
       "\n",
       "    submitted                                               tags  \\\n",
       "0  21/09/2002  ['weeknight', 'time-to-make', 'course', 'main-...   \n",
       "1  21/09/2002  ['weeknight', 'time-to-make', 'course', 'main-...   \n",
       "2  27/10/2002  ['30-minutes-or-less', 'time-to-make', 'course...   \n",
       "3  25/02/2004  ['15-minutes-or-less', 'time-to-make', 'course...   \n",
       "4  25/02/2004  ['15-minutes-or-less', 'time-to-make', 'course...   \n",
       "\n",
       "                                           nutrition  n_steps  \\\n",
       "0           [204.8, 5.0, 9.0, 26.0, 24.0, 2.0, 10.0]        4   \n",
       "1           [204.8, 5.0, 9.0, 26.0, 24.0, 2.0, 10.0]        4   \n",
       "2           [132.3, 11.0, 39.0, 5.0, 4.0, 11.0, 5.0]        5   \n",
       "3  [2786.2, 342.0, 134.0, 290.0, 161.0, 301.0, 42.0]        3   \n",
       "4  [2786.2, 342.0, 134.0, 290.0, 161.0, 301.0, 42.0]        3   \n",
       "\n",
       "                                               steps  \\\n",
       "0  ['combine beans , onion , chilies , 1 / 2 teas...   \n",
       "1  ['combine beans , onion , chilies , 1 / 2 teas...   \n",
       "2  ['blend together cake mix , oil and eggs', 'ad...   \n",
       "3  ['pick whichever topping you want to use and c...   \n",
       "4  ['pick whichever topping you want to use and c...   \n",
       "\n",
       "                                         description  \\\n",
       "0                        easy soup for the crockpot.   \n",
       "1                        easy soup for the crockpot.   \n",
       "2                                                NaN   \n",
       "3  these toppings sure makes a nice change from p...   \n",
       "4  these toppings sure makes a nice change from p...   \n",
       "\n",
       "                                         ingredients  n_ingredients  \n",
       "0  ['great northern beans', 'yellow onion', 'dice...              9  \n",
       "1  ['great northern beans', 'yellow onion', 'dice...              9  \n",
       "2  [\"devil's food cake mix\", 'vegetable oil', 'eg...              4  \n",
       "3  ['mayonnaise', 'salsa', 'cheddar cheese', 'ref...             13  \n",
       "4  ['mayonnaise', 'salsa', 'cheddar cheese', 'ref...             13  "
      ]
     },
     "execution_count": 9,
     "metadata": {},
     "output_type": "execute_result"
    }
   ],
   "source": [
    "combined_data.head()"
   ]
  },
  {
   "cell_type": "markdown",
   "metadata": {},
   "source": [
    "# Data Cleaning"
   ]
  },
  {
   "cell_type": "code",
   "execution_count": 10,
   "metadata": {},
   "outputs": [],
   "source": [
    "combined_data = combined_data.sample(frac=0.4, random_state=42)"
   ]
  },
  {
   "cell_type": "code",
   "execution_count": 11,
   "metadata": {},
   "outputs": [
    {
     "data": {
      "text/plain": [
       "user_id              0\n",
       "recipe_id            0\n",
       "date                 0\n",
       "rating               0\n",
       "review              62\n",
       "name                 0\n",
       "id                   0\n",
       "minutes              0\n",
       "contributor_id       0\n",
       "submitted            0\n",
       "tags                 0\n",
       "nutrition            0\n",
       "n_steps              0\n",
       "steps                0\n",
       "description       8988\n",
       "ingredients          0\n",
       "n_ingredients        0\n",
       "dtype: int64"
      ]
     },
     "execution_count": 11,
     "metadata": {},
     "output_type": "execute_result"
    }
   ],
   "source": [
    "# Checking for missing values\n",
    "combined_data.isna().sum()"
   ]
  },
  {
   "cell_type": "code",
   "execution_count": 12,
   "metadata": {},
   "outputs": [],
   "source": [
    "# Dropping all the missing values\n",
    "combined_data.dropna(inplace=True)"
   ]
  },
  {
   "cell_type": "code",
   "execution_count": 13,
   "metadata": {},
   "outputs": [
    {
     "data": {
      "text/plain": [
       "user_id           0\n",
       "recipe_id         0\n",
       "date              0\n",
       "rating            0\n",
       "review            0\n",
       "name              0\n",
       "id                0\n",
       "minutes           0\n",
       "contributor_id    0\n",
       "submitted         0\n",
       "tags              0\n",
       "nutrition         0\n",
       "n_steps           0\n",
       "steps             0\n",
       "description       0\n",
       "ingredients       0\n",
       "n_ingredients     0\n",
       "dtype: int64"
      ]
     },
     "execution_count": 13,
     "metadata": {},
     "output_type": "execute_result"
    }
   ],
   "source": [
    "# Checking ifthe change has been effected\n",
    "combined_data.isna().sum()"
   ]
  },
  {
   "cell_type": "code",
   "execution_count": 14,
   "metadata": {},
   "outputs": [
    {
     "data": {
      "text/plain": [
       "0"
      ]
     },
     "execution_count": 14,
     "metadata": {},
     "output_type": "execute_result"
    }
   ],
   "source": [
    "# Checking for duplicates\n",
    "combined_data.duplicated().sum()"
   ]
  },
  {
   "cell_type": "code",
   "execution_count": 15,
   "metadata": {},
   "outputs": [],
   "source": [
    "# Filtering to remain with only the most important columns\n",
    "combined_data = combined_data.drop(columns = ['minutes', 'contributor_id', 'tags', 'nutrition', 'n_steps', 'steps', 'n_ingredients', 'id', ])"
   ]
  },
  {
   "cell_type": "code",
   "execution_count": 16,
   "metadata": {},
   "outputs": [
    {
     "data": {
      "application/vnd.microsoft.datawrangler.viewer.v0+json": {
       "columns": [
        {
         "name": "index",
         "rawType": "int64",
         "type": "integer"
        },
        {
         "name": "user_id",
         "rawType": "int64",
         "type": "integer"
        },
        {
         "name": "recipe_id",
         "rawType": "int64",
         "type": "integer"
        },
        {
         "name": "date",
         "rawType": "object",
         "type": "string"
        },
        {
         "name": "rating",
         "rawType": "int64",
         "type": "integer"
        },
        {
         "name": "review",
         "rawType": "object",
         "type": "string"
        },
        {
         "name": "name",
         "rawType": "object",
         "type": "string"
        },
        {
         "name": "submitted",
         "rawType": "object",
         "type": "string"
        },
        {
         "name": "description",
         "rawType": "object",
         "type": "string"
        },
        {
         "name": "ingredients",
         "rawType": "object",
         "type": "string"
        }
       ],
       "conversionMethod": "pd.DataFrame",
       "ref": "e0be8fce-65c8-4157-a53c-c3977eafd0ae",
       "rows": [
        [
         "781974",
         "288985",
         "161466",
         "30/09/2011",
         "4",
         "Did not have a problem w/ these going \"stale\" at all when kept for a couple days. They kept well and were tasty enough, just not crazy good. I guess I missed the marshmallow. Flavoring w/ peanut butter  just didn't give that classic taste, and now I know that I gotta have it! I would make these again for kids etc. as they were liked well enough and you can make these from what you have on hand.",
         "peanut butter crispy rice treats",
         "25/03/2006",
         "i found this recipe in the paper the other day and tried it.  it's a different way to make rice crispy treats from the way it is usually made with marshmallows.  it should be eaten as soon as possible because it will start to go stale overnight. do not substitute margarine for real butter.  the margarine has too much moisture.",
         "['butter', 'sugar', 'light corn syrup', 'peanut butter', 'crispy rice cereal']"
        ],
        [
         "937737",
         "20623",
         "24582",
         "15/09/2003",
         "4",
         "Very good roast. However, the strong flavors - garlic and horseradish can be a bit strong for some people. My family loved the garlic flavor, but the horseradish was a bit strong for some. A person who loves horseradish may not like the strong garlic. Otherwise, I would recommend this recipe.",
         "garlic horseradish sirloin roast",
         "08/04/2002",
         "did this for dinner today, very delicious with apricot glazed carrots and garlic mashed potatoes, mmm so good! from canadian living magazine.",
         "['top sirloin roast', 'garlic cloves', 'light mayonnaise', 'prepared horseradish', 'dried sage', 'salt', 'pepper', 'onions', 'beef stock', 'worcestershire sauce', 'cornstarch']"
        ],
        [
         "907828",
         "227586",
         "281356",
         "31/08/2008",
         "5",
         "This was AWESOME!  So summery, so quick just over the top good!  Used all fresh tomatoes and basil from my garden...and topped with feta cheese!  This is a GREAT way to use up your tomatoes!  THANKS for sharing!  Made for photo tag!",
         "fresh tomato and basil pasta with toasted pine nuts",
         "24/01/2008",
         "this is the essence of summer - fresh tomatoes and basil with pasta. an old weight watchers recipe.",
         "['penne pasta', 'olive oil', 'onion', 'garlic cloves', 'plum tomatoes', 'fresh thyme', 'fresh basil', 'salt', 'fresh ground pepper', 'pine nuts']"
        ],
        [
         "784628",
         "539686",
         "161549",
         "07/04/2008",
         "4",
         "I used thawed, frozen peaches and even though I used a muddling stick in a tall cocktail shaker, this was a messy business. I would blend the peaches next time in a small food processor then muddle just the lemon and mint. It has a nice flavor and is worth working with.\n\nMade for the 1-2-3 Hit Wonders Game.",
         "whiskey peach smash",
         "27/03/2006",
         "from the \"king of cocktails\" dale degroff, this can be made with any relatively light whiskey.  simple syrup is simply equal amounts of water and sugar, heated till the sugar is totally dissolved.  muddling is mashing ingredients in the bottom of the glass, using the back of a spoon or something similar.",
         "['whiskey', 'peach', 'mint leaves', 'lemon', 'water', 'simple syrup', 'mint']"
        ],
        [
         "662460",
         "1540883",
         "265601",
         "03/02/2010",
         "0",
         "Sugar does not belong in cornbread, at least not in real Southern cornbread.",
         "good eats creamed corn cornbread  alton brown",
         "13/11/2007",
         "this recipe produces a very light and airy cornbread packed with flavor. we add about 1/3 cup of sugar because we love sweet cornbread. :)",
         "['yellow cornmeal', 'kosher salt', 'sugar', 'baking powder', 'baking soda', 'buttermilk', 'eggs', 'creamed corn', 'canola oil']"
        ]
       ],
       "shape": {
        "columns": 9,
        "rows": 5
       }
      },
      "text/html": [
       "<div>\n",
       "<style scoped>\n",
       "    .dataframe tbody tr th:only-of-type {\n",
       "        vertical-align: middle;\n",
       "    }\n",
       "\n",
       "    .dataframe tbody tr th {\n",
       "        vertical-align: top;\n",
       "    }\n",
       "\n",
       "    .dataframe thead th {\n",
       "        text-align: right;\n",
       "    }\n",
       "</style>\n",
       "<table border=\"1\" class=\"dataframe\">\n",
       "  <thead>\n",
       "    <tr style=\"text-align: right;\">\n",
       "      <th></th>\n",
       "      <th>user_id</th>\n",
       "      <th>recipe_id</th>\n",
       "      <th>date</th>\n",
       "      <th>rating</th>\n",
       "      <th>review</th>\n",
       "      <th>name</th>\n",
       "      <th>submitted</th>\n",
       "      <th>description</th>\n",
       "      <th>ingredients</th>\n",
       "    </tr>\n",
       "  </thead>\n",
       "  <tbody>\n",
       "    <tr>\n",
       "      <th>781974</th>\n",
       "      <td>288985</td>\n",
       "      <td>161466</td>\n",
       "      <td>30/09/2011</td>\n",
       "      <td>4</td>\n",
       "      <td>Did not have a problem w/ these going \"stale\" ...</td>\n",
       "      <td>peanut butter crispy rice treats</td>\n",
       "      <td>25/03/2006</td>\n",
       "      <td>i found this recipe in the paper the other day...</td>\n",
       "      <td>['butter', 'sugar', 'light corn syrup', 'peanu...</td>\n",
       "    </tr>\n",
       "    <tr>\n",
       "      <th>937737</th>\n",
       "      <td>20623</td>\n",
       "      <td>24582</td>\n",
       "      <td>15/09/2003</td>\n",
       "      <td>4</td>\n",
       "      <td>Very good roast. However, the strong flavors -...</td>\n",
       "      <td>garlic horseradish sirloin roast</td>\n",
       "      <td>08/04/2002</td>\n",
       "      <td>did this for dinner today, very delicious with...</td>\n",
       "      <td>['top sirloin roast', 'garlic cloves', 'light ...</td>\n",
       "    </tr>\n",
       "    <tr>\n",
       "      <th>907828</th>\n",
       "      <td>227586</td>\n",
       "      <td>281356</td>\n",
       "      <td>31/08/2008</td>\n",
       "      <td>5</td>\n",
       "      <td>This was AWESOME!  So summery, so quick just o...</td>\n",
       "      <td>fresh tomato and basil pasta with toasted pine...</td>\n",
       "      <td>24/01/2008</td>\n",
       "      <td>this is the essence of summer - fresh tomatoes...</td>\n",
       "      <td>['penne pasta', 'olive oil', 'onion', 'garlic ...</td>\n",
       "    </tr>\n",
       "    <tr>\n",
       "      <th>784628</th>\n",
       "      <td>539686</td>\n",
       "      <td>161549</td>\n",
       "      <td>07/04/2008</td>\n",
       "      <td>4</td>\n",
       "      <td>I used thawed, frozen peaches and even though ...</td>\n",
       "      <td>whiskey peach smash</td>\n",
       "      <td>27/03/2006</td>\n",
       "      <td>from the \"king of cocktails\" dale degroff, thi...</td>\n",
       "      <td>['whiskey', 'peach', 'mint leaves', 'lemon', '...</td>\n",
       "    </tr>\n",
       "    <tr>\n",
       "      <th>662460</th>\n",
       "      <td>1540883</td>\n",
       "      <td>265601</td>\n",
       "      <td>03/02/2010</td>\n",
       "      <td>0</td>\n",
       "      <td>Sugar does not belong in cornbread, at least n...</td>\n",
       "      <td>good eats creamed corn cornbread  alton brown</td>\n",
       "      <td>13/11/2007</td>\n",
       "      <td>this recipe produces a very light and airy cor...</td>\n",
       "      <td>['yellow cornmeal', 'kosher salt', 'sugar', 'b...</td>\n",
       "    </tr>\n",
       "  </tbody>\n",
       "</table>\n",
       "</div>"
      ],
      "text/plain": [
       "        user_id  recipe_id        date  rating  \\\n",
       "781974   288985     161466  30/09/2011       4   \n",
       "937737    20623      24582  15/09/2003       4   \n",
       "907828   227586     281356  31/08/2008       5   \n",
       "784628   539686     161549  07/04/2008       4   \n",
       "662460  1540883     265601  03/02/2010       0   \n",
       "\n",
       "                                                   review  \\\n",
       "781974  Did not have a problem w/ these going \"stale\" ...   \n",
       "937737  Very good roast. However, the strong flavors -...   \n",
       "907828  This was AWESOME!  So summery, so quick just o...   \n",
       "784628  I used thawed, frozen peaches and even though ...   \n",
       "662460  Sugar does not belong in cornbread, at least n...   \n",
       "\n",
       "                                                     name   submitted  \\\n",
       "781974                   peanut butter crispy rice treats  25/03/2006   \n",
       "937737                   garlic horseradish sirloin roast  08/04/2002   \n",
       "907828  fresh tomato and basil pasta with toasted pine...  24/01/2008   \n",
       "784628                                whiskey peach smash  27/03/2006   \n",
       "662460      good eats creamed corn cornbread  alton brown  13/11/2007   \n",
       "\n",
       "                                              description  \\\n",
       "781974  i found this recipe in the paper the other day...   \n",
       "937737  did this for dinner today, very delicious with...   \n",
       "907828  this is the essence of summer - fresh tomatoes...   \n",
       "784628  from the \"king of cocktails\" dale degroff, thi...   \n",
       "662460  this recipe produces a very light and airy cor...   \n",
       "\n",
       "                                              ingredients  \n",
       "781974  ['butter', 'sugar', 'light corn syrup', 'peanu...  \n",
       "937737  ['top sirloin roast', 'garlic cloves', 'light ...  \n",
       "907828  ['penne pasta', 'olive oil', 'onion', 'garlic ...  \n",
       "784628  ['whiskey', 'peach', 'mint leaves', 'lemon', '...  \n",
       "662460  ['yellow cornmeal', 'kosher salt', 'sugar', 'b...  "
      ]
     },
     "execution_count": 16,
     "metadata": {},
     "output_type": "execute_result"
    }
   ],
   "source": [
    "combined_data.head()"
   ]
  },
  {
   "cell_type": "markdown",
   "metadata": {},
   "source": [
    "# Sentiment Analysis"
   ]
  },
  {
   "cell_type": "code",
   "execution_count": null,
   "metadata": {},
   "outputs": [
    {
     "data": {
      "application/vnd.jupyter.widget-view+json": {
       "model_id": "4ba62e271ad149beb0e22877de06222a",
       "version_major": 2,
       "version_minor": 0
      },
      "text/plain": [
       "Pandas Apply:   0%|          | 0/410380 [00:00<?, ?it/s]"
      ]
     },
     "metadata": {},
     "output_type": "display_data"
    }
   ],
   "source": [
    "\n",
    "def preprocess_text(text):\n",
    "    # Convert text to lowercase\n",
    "    text = text.lower()\n",
    "    \n",
    "    # Remove non-alphabetic characters (keep only words)\n",
    "    text = re.sub(r\"[^a-z\\s]\", \"\", text)\n",
    "    \n",
    "    # Tokenize the text\n",
    "    words = word_tokenize(text)\n",
    "    \n",
    "    # Remove stopwords\n",
    "    words = [word for word in words if word not in stopwords.words(\"english\")]\n",
    "    \n",
    "    return \" \".join(words)  # Return cleaned text as a string\n",
    "combined_data['Cleaned_review'] = combined_data['review'].swifter.apply(preprocess_text)"
   ]
  },
  {
   "cell_type": "code",
   "execution_count": 18,
   "metadata": {},
   "outputs": [],
   "source": [
    "#combined_data.to_csv('cleaned_combined_data.csv', index=False)"
   ]
  },
  {
   "cell_type": "code",
   "execution_count": 21,
   "metadata": {},
   "outputs": [],
   "source": [
    "# Save the function\n",
    "with open(\"preprocessor.pkl\", \"wb\") as f:\n",
    "    pickle.dump(preprocess_text, f)"
   ]
  }
 ],
 "metadata": {
  "kernelspec": {
   "display_name": "base",
   "language": "python",
   "name": "python3"
  },
  "language_info": {
   "codemirror_mode": {
    "name": "ipython",
    "version": 3
   },
   "file_extension": ".py",
   "mimetype": "text/x-python",
   "name": "python",
   "nbconvert_exporter": "python",
   "pygments_lexer": "ipython3",
   "version": "3.12.9"
  }
 },
 "nbformat": 4,
 "nbformat_minor": 2
}
