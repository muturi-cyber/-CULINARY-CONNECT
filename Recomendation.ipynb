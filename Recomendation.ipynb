{
 "cells": [
  {
   "cell_type": "code",
   "execution_count": 2,
   "metadata": {},
   "outputs": [],
   "source": [
    "# %% Cell 1: Import Libraries\n",
    "import pandas as pd\n",
    "import numpy as np\n",
    "from sklearn.preprocessing import MinMaxScaler\n",
    "from sklearn.metrics.pairwise import cosine_similarity\n",
    "from sklearn.feature_extraction.text import TfidfVectorizer\n",
    "from sklearn.model_selection import train_test_split\n",
    "from sklearn.linear_model import LinearRegression\n",
    "from sklearn.metrics import mean_squared_error\n",
    "import pickle\n"
   ]
  },
  {
   "cell_type": "code",
   "execution_count": 3,
   "metadata": {},
   "outputs": [],
   "source": [
    "# %% Cell 2: Load Datasets\n",
    "international_cuisine_df = pd.read_csv('RAW_recipes.csv')\n",
    "african_cuisine_df = pd.read_csv('African_recipes.csv')\n",
    "nutrition_df = pd.read_csv('nutritions.csv')\n"
   ]
  },
  {
   "cell_type": "markdown",
   "metadata": {},
   "source": [
    "# Data Cleaning"
   ]
  },
  {
   "cell_type": "code",
   "execution_count": 4,
   "metadata": {},
   "outputs": [],
   "source": [
    "# Nutrition Dataset\n",
    "nutrition_df.drop(columns=['Unnamed: 0'], errors='ignore', inplace=True)\n",
    "num_cols = ['calories', 'total_fat', 'saturated_fat', 'cholesterol', 'sodium', 'choline', 'folate']\n",
    "text_cols = ['name', 'serving_size']\n",
    "\n",
    "#Filling in all the numerical columns with 0 in missing values\n",
    "nutrition_df[num_cols] = nutrition_df[num_cols].fillna(0)\n",
    "\n",
    "#Filling in all the text columns with 'unknown' in missing values\n",
    "nutrition_df[text_cols] = nutrition_df[text_cols].fillna('Unknown')\n",
    "\n",
    "# Removing the metric 'g' in the serving size column\n",
    "if 'serving_size' in nutrition_df.columns:\n",
    "    nutrition_df['serving_size'] = nutrition_df['serving_size'].str.replace('g', '', regex=True).astype(float)\n",
    "# Removing the metric 'g' in the 'total_fat' and 'saturated_fat' columns\n",
    "for col in ['total_fat', 'saturated_fat']:\n",
    "    if col in nutrition_df.columns:\n",
    "        nutrition_df[col] = nutrition_df[col].replace('g', '', regex=True).astype(float)\n",
    "\n",
    "# Dropping the missing values in the nutrition dataset\n",
    "nutrition_df.dropna(inplace=True)\n",
    "\n",
    "#Dropping the duplicates in the nutrition dataset\n",
    "nutrition_df.drop_duplicates(inplace=True)\n"
   ]
  },
  {
   "cell_type": "code",
   "execution_count": 5,
   "metadata": {},
   "outputs": [],
   "source": [
    "#  African Recipes\n",
    "# Dropping the missing values\n",
    "african_cuisine_df.dropna(inplace=True)\n",
    "\n",
    "# Dropping all the duplicates\n",
    "african_cuisine_df.drop_duplicates(inplace=True)\n",
    "\n",
    "# Cleaning the columns 'ingredients' and 'steps' \n",
    "for col in ['ingredients', 'steps']:\n",
    "    if col in african_cuisine_df.columns:\n",
    "        african_cuisine_df[col] = african_cuisine_df[col].astype(str).str.replace('\\n', ',')\n"
   ]
  },
  {
   "cell_type": "code",
   "execution_count": 6,
   "metadata": {},
   "outputs": [],
   "source": [
    "#Data Cleaning - International Recipes\n",
    "# Droppiing all the missing values\n",
    "international_cuisine_df.dropna(inplace=True)\n",
    "\n",
    "#Dropping all the duplicate values\n",
    "international_cuisine_df.drop_duplicates(inplace=True)\n"
   ]
  },
  {
   "cell_type": "markdown",
   "metadata": {},
   "source": [
    "# Feature Engineering"
   ]
  },
  {
   "cell_type": "code",
   "execution_count": 7,
   "metadata": {},
   "outputs": [],
   "source": [
    "#  International Recipes\n",
    "# Fetching the type of cuisin each recipe is from the tag column\n",
    "international_cuisine_df['cuisine'] = international_cuisine_df['tags'].apply(\n",
    "    lambda tag: tag.split()[0].replace('-style', '') if isinstance(tag, str) and '-style' in tag else None\n",
    ")\n",
    "\n",
    "# Fetching the type of dietary prefference each recie is according to the tag columns\n",
    "international_cuisine_df['dietary_preference'] = international_cuisine_df['tags'].apply(\n",
    "    lambda tag: tag.split()[0].replace('-friendly', '') if isinstance(tag, str) and '-friendly' in tag else None\n",
    ")\n",
    "\n",
    "# Creating Nutrition column that will fect informatiion from the 'Nutrition' column in the International dataset\n",
    "nutr_cols = ['calories', 'total_fat', 'sugar', 'sodium', 'protein', 'saturated_fat', 'carbohydrates']\n",
    "for col in nutr_cols:\n",
    "    international_cuisine_df[col] = None\n",
    "for idx, row in international_cuisine_df.iterrows():\n",
    "    if isinstance(row['nutrition'], str):\n",
    "        values = row['nutrition'].strip('[]').split(',')\n",
    "        for i, col in enumerate(nutr_cols):\n",
    "            if i < len(values):\n",
    "                international_cuisine_df.at[idx, col] = float(values[i])\n",
    "international_cuisine_df.drop(columns=['nutrition'], inplace=True)\n",
    "\n",
    "# Scaling the new nutrition columns\n",
    "scaler = MinMaxScaler()\n",
    "international_cuisine_df[nutr_cols] = scaler.fit_transform(international_cuisine_df[nutr_cols])\n"
   ]
  },
  {
   "cell_type": "code",
   "execution_count": 8,
   "metadata": {},
   "outputs": [],
   "source": [
    "# Feature Engineering - African Recipes\n",
    "# Getting the number of ingridient needed on each recipe\n",
    "african_cuisine_df['num_ingredients'] = african_cuisine_df['ingredients'].apply(len)\n",
    "\n",
    "# Scaling the calory column\n",
    "if 'calories' in african_cuisine_df.columns:\n",
    "    african_cuisine_df['calories'] = scaler.fit_transform(african_cuisine_df[['calories']])\n"
   ]
  },
  {
   "cell_type": "markdown",
   "metadata": {},
   "source": [
    "# Vectorization"
   ]
  },
  {
   "cell_type": "code",
   "execution_count": 9,
   "metadata": {},
   "outputs": [],
   "source": [
    "# TF-IDF Vectorization for Recommendations\n",
    "# Create combined text fields for both datasets\n",
    "african_cuisine_df['text'] = african_cuisine_df['ingredients'] + ' ' + african_cuisine_df['steps']\n",
    "international_cuisine_df['text'] = international_cuisine_df['ingredients'] + ' ' + international_cuisine_df['steps']\n",
    "\n",
    "# Initializing the reccomendation system\n",
    "vectorizer = TfidfVectorizer()\n",
    "\n",
    "# Fitting the vectorizer on the important column in the important feature i.e 'ingridients' and 'steps'\n",
    "african_features = vectorizer.fit_transform(african_cuisine_df['text'])\n",
    "international_features = vectorizer.transform(international_cuisine_df['text'])\n"
   ]
  },
  {
   "cell_type": "code",
   "execution_count": 10,
   "metadata": {},
   "outputs": [],
   "source": [
    "# Set User Inputs (Simulated Inline)\n",
    "user_preferences = \"I want a low-calorie meal with chicken\"\n",
    "calories_limit = 100          # For text-based filtering (max calories)\n",
    "max_cooking_time = 30         # Maximum cooking time in minutes\n",
    "top_n = 5                     # Number of recommendations\n",
    "desired_calories_african = 500        # Collaborative filtering target for African recipes\n",
    "desired_calories_international = 600   # Collaborative filtering target for International recipes\n"
   ]
  },
  {
   "cell_type": "code",
   "execution_count": 11,
   "metadata": {},
   "outputs": [
    {
     "name": "stdout",
     "output_type": "stream",
     "text": [
      "Text‑Based African Recipe Recommendations:\n",
      "                           name                     ingredients  \\\n",
      "0  Ugali the kenyan staple food  3 cups water,3 cups maize meal   \n",
      "\n",
      "                                               steps  \n",
      "0  Step 1,In a sufuria bring water to boil. Add t...  \n",
      "\n",
      "Text‑Based International Recipe Recommendations:\n",
      "                            name  \\\n",
      "0  creamy tomato soup with herbs   \n",
      "1  skip the machine peach gelato   \n",
      "2            tom kha kai point 2   \n",
      "\n",
      "                                         ingredients  \\\n",
      "0  ['olive oil', 'onion', 'garlic', 'diced tomato...   \n",
      "1                     ['peaches', 'sugar', 'yogurt']   \n",
      "2  ['broth', 'red pepper', 'mushroom', 'green oni...   \n",
      "\n",
      "                                               steps  \n",
      "0  ['heat oil in 4 1 / 2 qt dutch oven or soup po...  \n",
      "1  ['cut peaches into very small pieces', 'arrang...  \n",
      "2  ['bring broth to a boil , add chicken', 'while...  \n"
     ]
    }
   ],
   "source": [
    "# Convert 'minutes' column to numeric for both datasets (if needed)\n",
    "african_cuisine_df['minutes'] = pd.to_numeric(african_cuisine_df['minutes'], errors='coerce')\n",
    "international_cuisine_df['minutes'] = pd.to_numeric(international_cuisine_df['minutes'], errors='coerce')\n",
    "\n",
    "# Text-Based Recommendations\n",
    "user_pref_features = vectorizer.transform([user_preferences])\n",
    "\n",
    "# African recipes text-based recommendation\n",
    "african_sim = cosine_similarity(user_pref_features, african_features)\n",
    "african_top_idxs = african_sim.argsort()[0][-top_n:][::-1]\n",
    "african_recs = african_cuisine_df.loc[\n",
    "    (african_cuisine_df['calories'] <= calories_limit) &\n",
    "    (african_cuisine_df['minutes'] <= max_cooking_time) &\n",
    "    (african_cuisine_df.index.isin(african_top_idxs)),\n",
    "    ['name', 'ingredients', 'steps']\n",
    "].reset_index(drop=True)\n",
    "print(\"Text‑Based African Recipe Recommendations:\")\n",
    "print(african_recs)\n",
    "\n",
    "# International recipes text-based recommendation\n",
    "intl_sim = cosine_similarity(user_pref_features, international_features)\n",
    "intl_top_idxs = intl_sim.argsort()[0][-top_n:][::-1]\n",
    "international_recs = international_cuisine_df.loc[\n",
    "    (international_cuisine_df['minutes'] <= max_cooking_time) &\n",
    "    (international_cuisine_df.index.isin(intl_top_idxs)),\n",
    "    ['name', 'ingredients', 'steps']\n",
    "].reset_index(drop=True)\n",
    "print(\"\\nText‑Based International Recipe Recommendations:\")\n",
    "print(international_recs)\n"
   ]
  },
  {
   "cell_type": "markdown",
   "metadata": {},
   "source": [
    "# Collaborative Filtering Reccomendation"
   ]
  },
  {
   "cell_type": "code",
   "execution_count": 12,
   "metadata": {},
   "outputs": [
    {
     "name": "stdout",
     "output_type": "stream",
     "text": [
      "\n",
      "Collaborative Filtering African Recipe Recommendations:\n",
      "                                             name  minutes  \\\n",
      "0                              Pigeon Peas Mukimo    120.0   \n",
      "1                                     AFRICAN TEA     20.0   \n",
      "2  Wukunu (Sweet Potatoes & Dehulled Black Beans)    120.0   \n",
      "3                  African brewed lemon grass tea     10.0   \n",
      "4                            African Chicken Stew    180.0   \n",
      "\n",
      "                                         ingredients  \\\n",
      "0  1.5 Cups Pigeon Peas /Mbaazi,1 Red onion,500 g...   \n",
      "1                  1 tea spoonful per cup,milk,water   \n",
      "2  Ingredients,2¼ cups (384 g) black beans, dolic...   \n",
      "3  1 Cup milk,1 cup water,1/2 tsp Kenyan tea,Some...   \n",
      "4  1362 g chicken cut pieces,5-6 tomatoes,62.5 g ...   \n",
      "\n",
      "                                               steps  calories  \n",
      "0  Step 1,Soak the pigeon peas for 8+ hours then ...  0.858242  \n",
      "1  Step 1,Put clean water in a pot (sufuria) and ...  0.429670  \n",
      "2  Preparation 15 minutes | Cooking 2 hours 30 mi...  0.159341  \n",
      "3  Step 1,Bring to boil the milk and water.,Step ...  0.300000  \n",
      "4  Step 1,Prepare your misen-place then Season ch...  0.038462  \n"
     ]
    },
    {
     "name": "stderr",
     "output_type": "stream",
     "text": [
      "c:\\Users\\Admin\\anaconda3\\Lib\\site-packages\\sklearn\\base.py:493: UserWarning: X does not have valid feature names, but MinMaxScaler was fitted with feature names\n",
      "  warnings.warn(\n"
     ]
    },
    {
     "name": "stdout",
     "output_type": "stream",
     "text": [
      "\n",
      "Collaborative Filtering International Recipe Recommendations:\n",
      "                                        name  minutes  \\\n",
      "209453                   tennessee moonshine       20   \n",
      "165504                powdered hot cocoa mix       10   \n",
      "183541            seasoned goldfish crackers       30   \n",
      "187719  sinfully delicious hot chocolate mix        5   \n",
      "77971        easy sesame tempura green beans       15   \n",
      "\n",
      "                                              ingredients  \\\n",
      "209453  ['cornmeal', 'natural bran', 'sugar', 'yeast',...   \n",
      "165504  ['dry milk', 'nestles quik', 'powdered sugar',...   \n",
      "183541  ['goldfish crackers', 'ranch dressing mix', 'd...   \n",
      "187719  ['quik chocolate milk mix', 'coffee-mate', 'po...   \n",
      "77971   ['all-purpose flour', 'sesame seeds', 'beer', ...   \n",
      "\n",
      "                                                    steps  calories  \n",
      "209453  ['to boiled cornmeal add yeast and lots of sug...  1.000000  \n",
      "165504  ['mix all ingredients together in an airtight ...  0.105003  \n",
      "183541  ['place crackers in a large bowl', 'combine th...  0.071216  \n",
      "187719  ['this makes 1 gallon dry mix', 'mix all ingre...  0.059196  \n",
      "77971   ['make certain to completely dry the beans usi...  0.037693  \n"
     ]
    },
    {
     "name": "stderr",
     "output_type": "stream",
     "text": [
      "C:\\Users\\Admin\\AppData\\Local\\Temp\\ipykernel_16432\\3524181191.py:22: SettingWithCopyWarning: \n",
      "A value is trying to be set on a copy of a slice from a DataFrame.\n",
      "Try using .loc[row_indexer,col_indexer] = value instead\n",
      "\n",
      "See the caveats in the documentation: https://pandas.pydata.org/pandas-docs/stable/user_guide/indexing.html#returning-a-view-versus-a-copy\n",
      "  filtered_international['calories_diff'] = abs(filtered_international['calories'] - desired_calories_international)\n"
     ]
    }
   ],
   "source": [
    "# African Recipes\n",
    "african_collab_df = african_cuisine_df[['name', 'minutes', 'ingredients', 'steps', 'calories']].copy()\n",
    "african_collab_df['calories_norm'] = scaler.fit_transform(african_collab_df[['calories']])\n",
    "filtered_african = african_collab_df[\n",
    "    (african_collab_df['calories'] <= desired_calories_african) &\n",
    "    (african_collab_df['minutes'] <= max_cooking_time)\n",
    "]\n",
    "mean_cal_african = filtered_african['calories'].mean()\n",
    "mean_cal_norm_african = scaler.transform([[mean_cal_african]])[0][0]\n",
    "african_collab_sim = cosine_similarity([[mean_cal_norm_african]], african_collab_df[['calories_norm']])[0]\n",
    "african_collab_top = african_collab_sim.argsort()[-top_n:][::-1]\n",
    "african_collab_recs = african_collab_df.loc[african_collab_top, ['name', 'minutes', 'ingredients', 'steps', 'calories']].reset_index(drop=True)\n",
    "print(\"\\nCollaborative Filtering African Recipe Recommendations:\")\n",
    "print(african_collab_recs)\n",
    "\n",
    "# International Recipes\n",
    "international_collab_df = international_cuisine_df[['name', 'minutes', 'ingredients', 'steps', 'calories']].copy()\n",
    "filtered_international = international_collab_df[\n",
    "    (international_collab_df['calories'] <= desired_calories_international) &\n",
    "    (international_collab_df['minutes'] <= max_cooking_time)\n",
    "]\n",
    "filtered_international['calories_diff'] = abs(filtered_international['calories'] - desired_calories_international)\n",
    "international_collab_recs = filtered_international.nsmallest(top_n, 'calories_diff')[['name', 'minutes', 'ingredients', 'steps', 'calories']]\n",
    "print(\"\\nCollaborative Filtering International Recipe Recommendations:\")\n",
    "print(international_collab_recs)\n"
   ]
  },
  {
   "cell_type": "markdown",
   "metadata": {},
   "source": [
    "# Content Based Reccomendation system"
   ]
  },
  {
   "cell_type": "code",
   "execution_count": 13,
   "metadata": {},
   "outputs": [
    {
     "name": "stdout",
     "output_type": "stream",
     "text": [
      "\n",
      "Content-Based Model Mean Squared Error (MSE): 0.12138262894735313\n"
     ]
    }
   ],
   "source": [
    "# Split the data into training and test sets\n",
    "train_data, test_data, train_target, test_target = train_test_split(\n",
    "    african_cuisine_df['text'], african_cuisine_df['calories'], test_size=0.2, random_state=42\n",
    ")\n",
    "\n",
    "# Create and fit a new TF‑IDF vectorizer on the training data\n",
    "vectorizer_content = TfidfVectorizer()\n",
    "train_features = vectorizer_content.fit_transform(train_data)\n",
    "\n",
    "# Train a Linear Regression model\n",
    "model = LinearRegression()\n",
    "model.fit(train_features, train_target)\n",
    "\n",
    "# Evaluate on the test set\n",
    "test_features = vectorizer_content.transform(test_data)\n",
    "predictions = model.predict(test_features)\n",
    "mse = mean_squared_error(test_target, predictions)\n",
    "print(f\"\\nContent-Based Model Mean Squared Error (MSE): {mse}\")\n"
   ]
  },
  {
   "cell_type": "code",
   "execution_count": 14,
   "metadata": {},
   "outputs": [],
   "source": [
    "#Save the Model and Vectorizer\n",
    "with open('content_user_model.pkl', 'wb') as f:\n",
    "    pickle.dump(model, f)\n",
    "with open('tfidf_vectorizer.pkl', 'wb') as f:\n",
    "    pickle.dump(vectorizer_content, f)\n"
   ]
  },
  {
   "cell_type": "code",
   "execution_count": 15,
   "metadata": {},
   "outputs": [],
   "source": [
    "international_cuisine_df.to_csv('cleaned_International_recipies.csv', index=False)"
   ]
  },
  {
   "cell_type": "code",
   "execution_count": 16,
   "metadata": {},
   "outputs": [],
   "source": [
    "african_cuisine_df.to_csv('cleaned_African_recipies.csv', index=False)"
   ]
  }
 ],
 "metadata": {
  "kernelspec": {
   "display_name": "base",
   "language": "python",
   "name": "python3"
  },
  "language_info": {
   "codemirror_mode": {
    "name": "ipython",
    "version": 3
   },
   "file_extension": ".py",
   "mimetype": "text/x-python",
   "name": "python",
   "nbconvert_exporter": "python",
   "pygments_lexer": "ipython3",
   "version": "3.12.9"
  }
 },
 "nbformat": 4,
 "nbformat_minor": 2
}
